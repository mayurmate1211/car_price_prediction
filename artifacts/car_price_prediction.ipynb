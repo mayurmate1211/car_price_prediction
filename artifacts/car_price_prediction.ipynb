{
 "cells": [
  {
   "cell_type": "code",
   "execution_count": 1,
   "id": "e787c61a",
   "metadata": {},
   "outputs": [],
   "source": [
    "import pandas as pd\n",
    "import numpy as np\n",
    "import matplotlib.pyplot as plt\n",
    "import seaborn as sns\n",
    "from sklearn.model_selection import train_test_split,GridSearchCV,RandomizedSearchCV\n",
    "from sklearn.linear_model import LinearRegression\n",
    "from sklearn.tree import DecisionTreeRegressor\n",
    "from sklearn.ensemble import RandomForestRegressor\n",
    "from sklearn.neighbors import KNeighborsRegressor\n",
    "from sklearn.metrics import mean_squared_error,r2_score,mean_absolute_error\n",
    "from sklearn.preprocessing import MinMaxScaler,StandardScaler\n",
    "import pickle\n",
    "import re\n",
    "from warnings import filterwarnings\n",
    "filterwarnings('ignore')"
   ]
  },
  {
   "cell_type": "markdown",
   "id": "7888fb7a",
   "metadata": {},
   "source": [
    "# Problem Statement"
   ]
  },
  {
   "cell_type": "markdown",
   "id": "42ef64e5",
   "metadata": {},
   "source": [
    "###### Predict the price of an used car"
   ]
  },
  {
   "cell_type": "markdown",
   "id": "722cb81e",
   "metadata": {},
   "source": [
    "# Data Gathering"
   ]
  },
  {
   "cell_type": "code",
   "execution_count": 660,
   "id": "77925399",
   "metadata": {},
   "outputs": [
    {
     "data": {
      "text/html": [
       "<div>\n",
       "<style scoped>\n",
       "    .dataframe tbody tr th:only-of-type {\n",
       "        vertical-align: middle;\n",
       "    }\n",
       "\n",
       "    .dataframe tbody tr th {\n",
       "        vertical-align: top;\n",
       "    }\n",
       "\n",
       "    .dataframe thead th {\n",
       "        text-align: right;\n",
       "    }\n",
       "</style>\n",
       "<table border=\"1\" class=\"dataframe\">\n",
       "  <thead>\n",
       "    <tr style=\"text-align: right;\">\n",
       "      <th></th>\n",
       "      <th>Unnamed: 0</th>\n",
       "      <th>Name</th>\n",
       "      <th>Location</th>\n",
       "      <th>Year</th>\n",
       "      <th>Kilometers_Driven</th>\n",
       "      <th>Fuel_Type</th>\n",
       "      <th>Transmission</th>\n",
       "      <th>Owner_Type</th>\n",
       "      <th>Mileage</th>\n",
       "      <th>Engine</th>\n",
       "      <th>Power</th>\n",
       "      <th>Seats</th>\n",
       "      <th>New_Price</th>\n",
       "      <th>Price</th>\n",
       "    </tr>\n",
       "  </thead>\n",
       "  <tbody>\n",
       "    <tr>\n",
       "      <th>0</th>\n",
       "      <td>0</td>\n",
       "      <td>Maruti Wagon R LXI CNG</td>\n",
       "      <td>Mumbai</td>\n",
       "      <td>2010</td>\n",
       "      <td>72000</td>\n",
       "      <td>CNG</td>\n",
       "      <td>Manual</td>\n",
       "      <td>First</td>\n",
       "      <td>26.6 km/kg</td>\n",
       "      <td>998 CC</td>\n",
       "      <td>58.16 bhp</td>\n",
       "      <td>5.0</td>\n",
       "      <td>NaN</td>\n",
       "      <td>1.75</td>\n",
       "    </tr>\n",
       "    <tr>\n",
       "      <th>1</th>\n",
       "      <td>1</td>\n",
       "      <td>Hyundai Creta 1.6 CRDi SX Option</td>\n",
       "      <td>Pune</td>\n",
       "      <td>2015</td>\n",
       "      <td>41000</td>\n",
       "      <td>Diesel</td>\n",
       "      <td>Manual</td>\n",
       "      <td>First</td>\n",
       "      <td>19.67 kmpl</td>\n",
       "      <td>1582 CC</td>\n",
       "      <td>126.2 bhp</td>\n",
       "      <td>5.0</td>\n",
       "      <td>NaN</td>\n",
       "      <td>12.50</td>\n",
       "    </tr>\n",
       "    <tr>\n",
       "      <th>2</th>\n",
       "      <td>2</td>\n",
       "      <td>Honda Jazz V</td>\n",
       "      <td>Chennai</td>\n",
       "      <td>2011</td>\n",
       "      <td>46000</td>\n",
       "      <td>Petrol</td>\n",
       "      <td>Manual</td>\n",
       "      <td>First</td>\n",
       "      <td>18.2 kmpl</td>\n",
       "      <td>1199 CC</td>\n",
       "      <td>88.7 bhp</td>\n",
       "      <td>5.0</td>\n",
       "      <td>8.61 Lakh</td>\n",
       "      <td>4.50</td>\n",
       "    </tr>\n",
       "    <tr>\n",
       "      <th>3</th>\n",
       "      <td>3</td>\n",
       "      <td>Maruti Ertiga VDI</td>\n",
       "      <td>Chennai</td>\n",
       "      <td>2012</td>\n",
       "      <td>87000</td>\n",
       "      <td>Diesel</td>\n",
       "      <td>Manual</td>\n",
       "      <td>First</td>\n",
       "      <td>20.77 kmpl</td>\n",
       "      <td>1248 CC</td>\n",
       "      <td>88.76 bhp</td>\n",
       "      <td>7.0</td>\n",
       "      <td>NaN</td>\n",
       "      <td>6.00</td>\n",
       "    </tr>\n",
       "    <tr>\n",
       "      <th>4</th>\n",
       "      <td>4</td>\n",
       "      <td>Audi A4 New 2.0 TDI Multitronic</td>\n",
       "      <td>Coimbatore</td>\n",
       "      <td>2013</td>\n",
       "      <td>40670</td>\n",
       "      <td>Diesel</td>\n",
       "      <td>Automatic</td>\n",
       "      <td>Second</td>\n",
       "      <td>15.2 kmpl</td>\n",
       "      <td>1968 CC</td>\n",
       "      <td>140.8 bhp</td>\n",
       "      <td>5.0</td>\n",
       "      <td>NaN</td>\n",
       "      <td>17.74</td>\n",
       "    </tr>\n",
       "  </tbody>\n",
       "</table>\n",
       "</div>"
      ],
      "text/plain": [
       "   Unnamed: 0                              Name    Location  Year  \\\n",
       "0           0            Maruti Wagon R LXI CNG      Mumbai  2010   \n",
       "1           1  Hyundai Creta 1.6 CRDi SX Option        Pune  2015   \n",
       "2           2                      Honda Jazz V     Chennai  2011   \n",
       "3           3                 Maruti Ertiga VDI     Chennai  2012   \n",
       "4           4   Audi A4 New 2.0 TDI Multitronic  Coimbatore  2013   \n",
       "\n",
       "   Kilometers_Driven Fuel_Type Transmission Owner_Type     Mileage   Engine  \\\n",
       "0              72000       CNG       Manual      First  26.6 km/kg   998 CC   \n",
       "1              41000    Diesel       Manual      First  19.67 kmpl  1582 CC   \n",
       "2              46000    Petrol       Manual      First   18.2 kmpl  1199 CC   \n",
       "3              87000    Diesel       Manual      First  20.77 kmpl  1248 CC   \n",
       "4              40670    Diesel    Automatic     Second   15.2 kmpl  1968 CC   \n",
       "\n",
       "       Power  Seats  New_Price  Price  \n",
       "0  58.16 bhp    5.0        NaN   1.75  \n",
       "1  126.2 bhp    5.0        NaN  12.50  \n",
       "2   88.7 bhp    5.0  8.61 Lakh   4.50  \n",
       "3  88.76 bhp    7.0        NaN   6.00  \n",
       "4  140.8 bhp    5.0        NaN  17.74  "
      ]
     },
     "execution_count": 660,
     "metadata": {},
     "output_type": "execute_result"
    }
   ],
   "source": [
    "df=pd.read_csv('train-data.csv')\n",
    "df.head()"
   ]
  },
  {
   "cell_type": "code",
   "execution_count": 661,
   "id": "184ec946",
   "metadata": {},
   "outputs": [
    {
     "name": "stdout",
     "output_type": "stream",
     "text": [
      "<class 'pandas.core.frame.DataFrame'>\n",
      "RangeIndex: 6019 entries, 0 to 6018\n",
      "Data columns (total 14 columns):\n",
      " #   Column             Non-Null Count  Dtype  \n",
      "---  ------             --------------  -----  \n",
      " 0   Unnamed: 0         6019 non-null   int64  \n",
      " 1   Name               6019 non-null   object \n",
      " 2   Location           6019 non-null   object \n",
      " 3   Year               6019 non-null   int64  \n",
      " 4   Kilometers_Driven  6019 non-null   int64  \n",
      " 5   Fuel_Type          6019 non-null   object \n",
      " 6   Transmission       6019 non-null   object \n",
      " 7   Owner_Type         6019 non-null   object \n",
      " 8   Mileage            6017 non-null   object \n",
      " 9   Engine             5983 non-null   object \n",
      " 10  Power              5983 non-null   object \n",
      " 11  Seats              5977 non-null   float64\n",
      " 12  New_Price          824 non-null    object \n",
      " 13  Price              6019 non-null   float64\n",
      "dtypes: float64(2), int64(3), object(9)\n",
      "memory usage: 658.5+ KB\n"
     ]
    }
   ],
   "source": [
    "df.info()"
   ]
  },
  {
   "cell_type": "code",
   "execution_count": 662,
   "id": "5f4ccec2",
   "metadata": {},
   "outputs": [
    {
     "data": {
      "text/plain": [
       "Unnamed: 0            0.000000\n",
       "Name                  0.000000\n",
       "Location              0.000000\n",
       "Year                  0.000000\n",
       "Kilometers_Driven     0.000000\n",
       "Fuel_Type             0.000000\n",
       "Transmission          0.000000\n",
       "Owner_Type            0.000000\n",
       "Mileage               0.033228\n",
       "Engine                0.598106\n",
       "Power                 0.598106\n",
       "Seats                 0.697790\n",
       "New_Price            86.310018\n",
       "Price                 0.000000\n",
       "dtype: float64"
      ]
     },
     "execution_count": 662,
     "metadata": {},
     "output_type": "execute_result"
    }
   ],
   "source": [
    "df.isna().mean()*100"
   ]
  },
  {
   "cell_type": "code",
   "execution_count": 663,
   "id": "db6e770a",
   "metadata": {},
   "outputs": [
    {
     "data": {
      "text/plain": [
       "(6019, 14)"
      ]
     },
     "execution_count": 663,
     "metadata": {},
     "output_type": "execute_result"
    }
   ],
   "source": [
    "df.shape"
   ]
  },
  {
   "cell_type": "markdown",
   "id": "5a83af5f",
   "metadata": {},
   "source": [
    "# EDA"
   ]
  },
  {
   "cell_type": "markdown",
   "id": "b102601e",
   "metadata": {},
   "source": [
    "### 1. Name"
   ]
  },
  {
   "cell_type": "code",
   "execution_count": 664,
   "id": "c52bc091",
   "metadata": {},
   "outputs": [
    {
     "data": {
      "text/plain": [
       "array(['Maruti Wagon R LXI CNG', 'Hyundai Creta 1.6 CRDi SX Option',\n",
       "       'Honda Jazz V', ..., 'Volkswagen Polo IPL II 1.2 Petrol Highline',\n",
       "       'Tata Bolt Revotron XT', 'Mahindra Xylo D4 BSIV'], dtype=object)"
      ]
     },
     "execution_count": 664,
     "metadata": {},
     "output_type": "execute_result"
    }
   ],
   "source": [
    "df['Name'].unique()"
   ]
  },
  {
   "cell_type": "code",
   "execution_count": 665,
   "id": "61ad2bfc",
   "metadata": {},
   "outputs": [
    {
     "data": {
      "text/plain": [
       "1876"
      ]
     },
     "execution_count": 665,
     "metadata": {},
     "output_type": "execute_result"
    }
   ],
   "source": [
    "df['Name'].nunique()"
   ]
  },
  {
   "cell_type": "code",
   "execution_count": 666,
   "id": "9b2a945d",
   "metadata": {},
   "outputs": [
    {
     "data": {
      "text/plain": [
       "{'Mahindra XUV500 W8 2WD': 49,\n",
       " 'Maruti Swift VDI': 45,\n",
       " 'Honda City 1.5 S MT': 34,\n",
       " 'Maruti Swift Dzire VDI': 34,\n",
       " 'Maruti Swift VDI BSIV': 31,\n",
       " 'Maruti Ritz VDi': 30,\n",
       " 'Hyundai i10 Sportz': 30,\n",
       " 'Toyota Fortuner 3.0 Diesel': 29,\n",
       " 'Honda Amaze S i-Dtech': 27,\n",
       " 'Hyundai Grand i10 Sportz': 27,\n",
       " 'Maruti Ertiga VDI': 25,\n",
       " 'Honda Brio S MT': 25,\n",
       " 'Honda City 1.5 V MT': 24,\n",
       " 'Hyundai Verna 1.6 SX': 23,\n",
       " 'Maruti Wagon R VXI': 23,\n",
       " 'Maruti Wagon R LXI': 22,\n",
       " 'Maruti Alto LXi': 21,\n",
       " 'Hyundai EON Era Plus': 20,\n",
       " 'Maruti Ertiga ZDI': 20,\n",
       " 'Skoda Superb Elegance 1.8 TSI AT': 20,\n",
       " 'BMW 3 Series 320d': 20,\n",
       " 'Maruti Alto 800 LXI': 20,\n",
       " 'Toyota Fortuner 4x2 AT': 19,\n",
       " 'Hyundai i10 Magna 1.2': 19,\n",
       " 'Maruti Celerio VXI AT': 19,\n",
       " 'Renault KWID RXT': 18,\n",
       " 'Volkswagen Vento Diesel Highline': 18,\n",
       " 'Maruti Wagon R LXI CNG': 18,\n",
       " 'Hyundai i20 1.2 Magna': 18,\n",
       " 'Maruti Swift Dzire VXI': 18,\n",
       " 'Volkswagen Polo 1.2 MPI Highline': 18,\n",
       " 'Volkswagen Polo 1.5 TDI Highline': 18,\n",
       " 'Ford Figo Diesel EXI': 17,\n",
       " 'Audi A4 2.0 TDI': 17,\n",
       " 'Ford Figo Diesel Titanium': 17,\n",
       " 'Renault Duster 110PS Diesel RxZ': 17,\n",
       " 'Volkswagen Polo Diesel Comfortline 1.2L': 17,\n",
       " 'Hyundai i10 Sportz 1.2': 16,\n",
       " 'Ford Figo Diesel ZXI': 16,\n",
       " 'Maruti Alto K10 VXI': 16,\n",
       " 'Hyundai Creta 1.6 CRDi SX': 16,\n",
       " 'Toyota Fortuner 4x2 Manual': 16,\n",
       " 'Ford Ecosport 1.5 DV5 MT Titanium Optional': 16,\n",
       " 'Volkswagen Polo Petrol Comfortline 1.2L': 16,\n",
       " 'Honda Amaze S i-Vtech': 16,\n",
       " 'Maruti Swift Dzire VDi': 16,\n",
       " 'Hyundai Grand i10 AT Asta': 16,\n",
       " 'Mahindra XUV500 W6 2WD': 15,\n",
       " 'Ford Ecosport 1.5 DV5 MT Titanium': 15,\n",
       " 'Hyundai i20 Sportz 1.2': 15,\n",
       " 'Audi A4 2.0 TDI 177 Bhp Premium Plus': 15,\n",
       " 'Hyundai Verna 1.6 SX VTVT': 15,\n",
       " 'Honda City i VTEC SV': 15,\n",
       " 'Hyundai i10 Magna': 15,\n",
       " 'Toyota Innova Crysta 2.8 ZX AT': 14,\n",
       " 'BMW 3 Series 320d Luxury Line': 14,\n",
       " 'Maruti Wagon R LXI BS IV': 14,\n",
       " 'Renault Duster 85PS Diesel RxL': 14,\n",
       " 'Toyota Innova 2.5 V Diesel 7-seater': 14,\n",
       " 'Jaguar XF 2.2 Litre Luxury': 14,\n",
       " 'Maruti Swift ZDi': 13,\n",
       " 'Mahindra XUV500 W10 2WD': 13,\n",
       " 'Honda City i VTEC CVT VX': 13,\n",
       " 'Hyundai i20 Sportz 1.4 CRDi': 13,\n",
       " 'Hyundai Grand i10 CRDi Sportz': 13,\n",
       " 'Honda City i VTEC V': 13,\n",
       " 'Hyundai Santro Xing GLS': 13,\n",
       " 'Mahindra XUV500 W8 4WD': 13,\n",
       " 'Hyundai i10 Era': 13,\n",
       " 'Audi A6 2011-2015 2.0 TDI Premium Plus': 13,\n",
       " 'Volkswagen Vento 1.5 TDI Highline': 12,\n",
       " 'Hyundai i20 1.2 Sportz': 12,\n",
       " 'Maruti Swift VXI BSIV': 12,\n",
       " 'BMW X1 sDrive20d': 12,\n",
       " 'Hyundai Creta 1.6 CRDi SX Option': 12,\n",
       " 'Hyundai i20 Asta 1.4 CRDi': 12,\n",
       " 'Maruti Swift Dzire LDI': 12,\n",
       " 'Hyundai EON D Lite Plus': 12,\n",
       " 'Volkswagen Polo Petrol Highline 1.2L': 12,\n",
       " 'BMW 5 Series 520d Luxury Line': 12,\n",
       " 'Hyundai Verna 1.6 SX CRDi (O)': 12,\n",
       " 'Volkswagen Vento Petrol Highline': 12,\n",
       " 'Honda Amaze VX i-DTEC': 12,\n",
       " 'Audi Q7 3.0 TDI Quattro Premium Plus': 12,\n",
       " 'Hyundai Grand i10 CRDi Magna': 12,\n",
       " 'Chevrolet Beat LT': 12,\n",
       " 'Maruti Vitara Brezza ZDi Plus Dual Tone': 12,\n",
       " 'Toyota Innova 2.5 G (Diesel) 8 Seater': 12,\n",
       " 'Maruti Alto K10 2010-2014 VXI': 12,\n",
       " 'Volkswagen Polo Diesel Trendline 1.2L': 11,\n",
       " 'Mercedes-Benz New C-Class C 220d Avantgarde Edition C': 11,\n",
       " 'Maruti Alto LXi BSIII': 11,\n",
       " 'Honda City i DTEC VX': 11,\n",
       " 'Maruti Swift Dzire VXi': 11,\n",
       " 'Hyundai Grand i10 1.2 Kappa Sportz': 11,\n",
       " 'Ford Figo Petrol ZXI': 11,\n",
       " 'Hyundai Verna 1.6 SX VTVT (O)': 11,\n",
       " 'Maruti Alto 800 2016-2019 LXI': 11,\n",
       " 'Hyundai Grand i10 Asta': 11,\n",
       " 'Chevrolet Beat LS': 11,\n",
       " 'Maruti Wagon R VXI BS IV': 11,\n",
       " 'Hyundai i20 Asta Option 1.2': 11,\n",
       " 'Volkswagen Polo Diesel Highline 1.2L': 11,\n",
       " 'Hyundai Accent GLE': 10,\n",
       " 'Hyundai Creta 1.6 SX Plus Dual Tone Petrol': 10,\n",
       " 'Ford Endeavour 3.2 Titanium AT 4X4': 10,\n",
       " 'Mahindra Ssangyong Rexton RX7': 10,\n",
       " 'BMW 5 Series 2013-2017 520d Luxury Line': 10,\n",
       " 'Hyundai Creta 1.6 SX Plus Petrol Automatic': 10,\n",
       " 'Maruti Eeco 7 Seater Standard': 10,\n",
       " 'Audi A4 2.0 TDI Multitronic': 10,\n",
       " 'Renault Duster 110PS Diesel RxL': 10,\n",
       " 'Mercedes-Benz New C-Class C 220 CDI Avantgarde': 10,\n",
       " 'Hyundai Creta 1.6 CRDi AT SX Plus': 10,\n",
       " 'Honda City V MT': 10,\n",
       " 'Maruti Celerio VXI': 10,\n",
       " 'BMW 3 Series Luxury Line': 10,\n",
       " 'Hyundai i20 1.2 Spotz': 10,\n",
       " 'Hyundai i20 Magna': 10,\n",
       " 'Hyundai i20 Asta 1.2': 10,\n",
       " 'Maruti A-Star Vxi': 10,\n",
       " 'Maruti Swift Dzire Tour LDI': 10,\n",
       " 'Chevrolet Beat Diesel LT': 10,\n",
       " 'Mercedes-Benz New C-Class C 220 CDI Elegance AT': 10,\n",
       " 'Hyundai Xcent 1.1 CRDi Base': 10,\n",
       " 'Honda City i DTEC SV': 10,\n",
       " 'Toyota Innova 2.5 VX (Diesel) 7 Seater': 10,\n",
       " 'BMW 3 Series 320d Highline': 10,\n",
       " 'Chevrolet Cruze LTZ': 10,\n",
       " 'Ford EcoSport 1.5 TDCi Titanium': 9,\n",
       " 'Hyundai Elantra CRDi SX': 9,\n",
       " 'Hyundai i10 Magna 1.1': 9,\n",
       " 'Hyundai Grand i10 1.2 Kappa Asta': 9,\n",
       " 'Maruti Swift VXI': 9,\n",
       " 'Toyota Etios Liva GD': 9,\n",
       " 'Volkswagen Polo 1.2 MPI Comfortline': 9,\n",
       " 'Toyota Innova 2.5 G4 Diesel 8-seater': 9,\n",
       " 'Toyota Etios G': 9,\n",
       " 'Honda Brio VX AT': 9,\n",
       " 'Volkswagen Vento Petrol Highline AT': 9,\n",
       " 'Honda City 1.5 V AT': 9,\n",
       " 'Hyundai i10 Era 1.1': 9,\n",
       " 'Honda City ZX GXi': 9,\n",
       " 'Hyundai i10 Sportz AT': 9,\n",
       " 'Mercedes-Benz New C-Class 220 CDI AT': 9,\n",
       " 'Maruti Baleno Zeta 1.2': 8,\n",
       " 'Mercedes-Benz M-Class ML 350 4Matic': 8,\n",
       " 'Maruti Ciaz ZDi Plus SHVS': 8,\n",
       " 'Maruti Swift ZXI': 8,\n",
       " 'Mercedes-Benz GLE 350d': 8,\n",
       " 'Maruti Swift Dzire ZXi': 8,\n",
       " 'Maruti Vitara Brezza ZDi Plus': 8,\n",
       " 'Honda Civic 2006-2010 1.8 S MT': 8,\n",
       " 'Hyundai Grand i10 Magna': 8,\n",
       " 'Volkswagen Jetta 2013-2015 2.0L TDI Highline AT': 8,\n",
       " 'Toyota Etios GD': 8,\n",
       " 'Land Rover Freelander 2 SE': 8,\n",
       " 'Hyundai Xcent 1.1 CRDi S': 8,\n",
       " 'Chevrolet Cruze LTZ AT': 8,\n",
       " 'Toyota Innova 2.5 V Diesel 8-seater': 8,\n",
       " 'Ford Ikon 1.3 Flair': 8,\n",
       " 'Toyota Innova 2.5 GX (Diesel) 7 Seater': 8,\n",
       " 'Mercedes-Benz E-Class 2009-2013 E250 CDI Elegance': 8,\n",
       " 'BMW X5 xDrive 30d': 8,\n",
       " 'Volkswagen Polo GT TSI': 8,\n",
       " 'Mercedes-Benz GLA Class 200 CDI SPORT': 8,\n",
       " 'Volkswagen Polo Petrol Trendline 1.2L': 8,\n",
       " 'Hyundai Grand i10 1.2 Kappa Magna': 8,\n",
       " 'Maruti Ritz VXi': 8,\n",
       " 'Volkswagen Vento Diesel Comfortline': 8,\n",
       " 'Mercedes-Benz E-Class 280 CDI': 8,\n",
       " 'Hyundai EON Magna Plus': 8,\n",
       " 'Maruti Vitara Brezza ZDi': 8,\n",
       " 'Maruti Alto K10 VXI AGS': 8,\n",
       " 'Maruti Omni 8 Seater BSIV': 7,\n",
       " 'BMW 5 Series 2003-2012 520d': 7,\n",
       " 'BMW 5 Series 2013-2017 530d M Sport': 7,\n",
       " 'Maruti Wagon R LXI BSIII': 7,\n",
       " 'Maruti SX4 ZXI MT BSIV': 7,\n",
       " 'Honda City i VTEC VX Option': 7,\n",
       " 'Maruti Ritz LDi': 7,\n",
       " 'Mercedes-Benz GL-Class 2007 2012 350 CDI Luxury': 7,\n",
       " 'Skoda Superb Style 1.8 TSI AT': 7,\n",
       " 'Mahindra Bolero ZLX': 7,\n",
       " 'Hyundai i20 1.2 Asta Option': 7,\n",
       " 'Toyota Fortuner 4x4 MT': 7,\n",
       " 'Maruti Ertiga VXI': 7,\n",
       " 'Volkswagen Vento 1.5 TDI Highline AT': 7,\n",
       " 'Toyota Innova 2.5 G (Diesel) 7 Seater BS IV': 7,\n",
       " 'Toyota Corolla Altis 2008-2013 1.8 VL AT': 7,\n",
       " 'Tata Nano Twist XT': 7,\n",
       " 'Mahindra XUV500 AT W10 FWD': 7,\n",
       " 'Maruti Ciaz VXi Plus': 7,\n",
       " 'Hyundai Elite i20 Petrol Asta': 7,\n",
       " 'Hyundai Santro Xing XL eRLX Euro III': 7,\n",
       " 'Toyota Innova 2.5 G (Diesel) 8 Seater BS IV': 7,\n",
       " 'Nissan Sunny 2011-2014 Diesel XL': 7,\n",
       " 'Honda Civic 2006-2010 1.8 V MT': 7,\n",
       " 'Nissan Micra Diesel XV': 7,\n",
       " 'Honda Jazz 1.2 SV i VTEC': 7,\n",
       " 'Maruti Ciaz VDi Plus SHVS': 7,\n",
       " 'Hyundai Verna 1.6 SX CRDI (O) AT': 7,\n",
       " 'Jaguar XF 3.0 Litre S Premium Luxury': 7,\n",
       " 'Audi A4 New 2.0 TDI Multitronic': 7,\n",
       " 'Maruti Dzire VDI': 7,\n",
       " 'Hyundai i20 1.4 CRDi Magna': 7,\n",
       " 'Mahindra Scorpio SLE BSIV': 7,\n",
       " 'Hyundai Verna SX CRDi AT': 7,\n",
       " 'Maruti Baleno Zeta Automatic': 7,\n",
       " 'Toyota Innova Crysta 2.4 VX MT': 7,\n",
       " 'Mercedes-Benz E-Class 2015-2017 E250 CDI Avantgarde': 7,\n",
       " 'Maruti Alto 800 VXI': 7,\n",
       " 'Hyundai Verna 1.6 VTVT': 7,\n",
       " 'Honda City i DTEC V': 7,\n",
       " 'Mercedes-Benz B Class B180': 7,\n",
       " 'Honda Brio V MT': 7,\n",
       " 'Mercedes-Benz CLA 200 CDI Sport': 7,\n",
       " 'Hyundai Santro Xing GL': 7,\n",
       " 'Honda City i-VTEC CVT VX': 7,\n",
       " 'BMW 3 Series 320d Sport Line': 7,\n",
       " 'Mercedes-Benz E-Class E250 CDI Avantgrade': 7,\n",
       " 'Hyundai Grand i10 Asta Option': 7,\n",
       " 'Hyundai i20 Magna 1.4 CRDi': 7,\n",
       " 'Honda Jazz 1.2 V CVT i VTEC': 7,\n",
       " 'Skoda Octavia Elegance 2.0 TDI AT': 7,\n",
       " 'Audi A4 35 TDI Premium': 6,\n",
       " 'Volkswagen Vento Diesel Trendline': 6,\n",
       " 'Hyundai Verna CRDi SX': 6,\n",
       " 'Maruti Alto K10 LXI': 6,\n",
       " 'Toyota Fortuner 4x2 4 Speed AT': 6,\n",
       " 'Mercedes-Benz M-Class ML 250 CDI': 6,\n",
       " 'Toyota Fortuner 2.8 2WD AT': 6,\n",
       " 'Honda City i VTEC VX': 6,\n",
       " 'Hyundai i20 Magna Optional 1.2': 6,\n",
       " 'Hyundai i10 Magna AT': 6,\n",
       " 'Hyundai Creta 1.6 SX Plus Diesel': 6,\n",
       " 'Audi Q7 4.2 TDI Quattro Technology': 6,\n",
       " 'Renault KWID RXT Optional': 6,\n",
       " 'Volkswagen Vento 1.6 Highline': 6,\n",
       " 'Audi Q5 2.0 TDI Premium Plus': 6,\n",
       " 'Audi A6 2.7 TDI': 6,\n",
       " 'Chevrolet Beat Diesel LS': 6,\n",
       " 'Maruti Alto 800 2016-2019 VXI': 6,\n",
       " 'Hyundai Xcent 1.2 Kappa S Option': 6,\n",
       " 'Hyundai EON Era': 6,\n",
       " 'Maruti Swift VXi BSIV': 6,\n",
       " 'Toyota Corolla Altis G': 6,\n",
       " 'Hyundai Xcent 1.2 Kappa S': 6,\n",
       " 'Ford Ecosport 1.5 Ti VCT MT Titanium': 6,\n",
       " 'Honda Amaze SX i-VTEC': 6,\n",
       " 'Toyota Innova Crysta 2.8 GX AT': 6,\n",
       " 'Hyundai i20 1.2 Magna Executive': 6,\n",
       " 'Tata Nano XTA': 6,\n",
       " 'Toyota Innova Crysta 2.4 ZX MT': 6,\n",
       " 'Mahindra Scorpio VLX': 6,\n",
       " 'Tata Indica V2 eLS': 6,\n",
       " 'Maruti Ertiga SHVS VDI': 6,\n",
       " 'Maruti Swift 1.3 VXi': 6,\n",
       " 'Nissan Micra XV CVT': 6,\n",
       " 'Honda Jazz 1.2 VX i VTEC': 6,\n",
       " 'Maruti Swift LDI': 6,\n",
       " 'Hyundai Creta 1.6 VTVT S': 6,\n",
       " 'Maruti Swift Dzire ZDI': 6,\n",
       " 'Maruti Wagon R AMT VXI': 6,\n",
       " 'Hyundai Santro Xing GL Plus': 5,\n",
       " 'Mercedes-Benz E-Class 2009-2013 E250 CDI Blue Efficiency': 5,\n",
       " 'Audi Q3 35 TDI Quattro Premium Plus': 5,\n",
       " 'Maruti Swift VXI Optional': 5,\n",
       " 'Nissan Sunny 2011-2014 Diesel XV': 5,\n",
       " 'Honda City i-VTEC V': 5,\n",
       " 'Audi Q5 30 TDI quattro Premium Plus': 5,\n",
       " 'Audi A6 3.0 TDI quattro': 5,\n",
       " 'Toyota Camry Hybrid': 5,\n",
       " 'Audi A6 2011-2015 2.0 TDI': 5,\n",
       " 'Maruti SX4 S Cross DDiS 320 Zeta': 5,\n",
       " 'Maruti Swift Dzire Vdi BSIV': 5,\n",
       " 'Toyota Innova 2.5 G (Diesel) 7 Seater': 5,\n",
       " 'Maruti Eeco 5 STR With AC Plus HTR CNG': 5,\n",
       " 'Skoda Superb Elegance 2.0 TDI CR AT': 5,\n",
       " 'Toyota Etios Liva G': 5,\n",
       " 'Hyundai i20 1.2 Asta': 5,\n",
       " 'Audi Q7 3.0 TDI Quattro Technology': 5,\n",
       " 'Toyota Fortuner 2.8 4WD MT': 5,\n",
       " 'Hyundai Verna CRDi': 5,\n",
       " 'Hyundai Santro Xing XO eRLX Euro II': 5,\n",
       " 'Jaguar XF Diesel': 5,\n",
       " 'Renault Duster 110PS Diesel RxZ AMT': 5,\n",
       " 'Hyundai Santro Xing XL': 5,\n",
       " 'Hyundai Santro Xing XO': 5,\n",
       " 'Maruti Swift VXI BSIII': 5,\n",
       " 'Volkswagen Ameo 1.2 MPI Comfortline': 5,\n",
       " 'Hyundai i20 Magna 1.2': 5,\n",
       " 'Mercedes-Benz New C-Class C 220 CDI Style': 5,\n",
       " 'Hyundai Santro Xing XP': 5,\n",
       " 'Mercedes-Benz New C-Class C 220 CDI BE Avantgare': 5,\n",
       " 'BMW X1 sDrive 20d Exclusive': 5,\n",
       " 'Renault Duster 85PS Diesel RxL Optional': 5,\n",
       " 'BMW X5 2014-2019 xDrive 30d Design Pure Experience 7 Seater': 5,\n",
       " 'Mitsubishi Pajero Sport 4X4': 5,\n",
       " 'Maruti Ertiga ZXI': 5,\n",
       " 'BMW 3 Series 320d Prestige': 5,\n",
       " 'Hyundai EON Sportz': 5,\n",
       " 'Audi A6 2011-2015 35 TDI Technology': 5,\n",
       " 'Hyundai Creta 1.6 SX': 5,\n",
       " 'Mini Cooper 5 DOOR D': 5,\n",
       " 'Mini Cooper Convertible S': 5,\n",
       " 'Maruti Swift Ldi BSIII': 5,\n",
       " 'Honda City ZX CVT': 5,\n",
       " 'Maruti Swift Vdi BSIII': 5,\n",
       " 'Maruti Wagon R LX BSIII': 5,\n",
       " 'Toyota Fortuner 4x4 AT': 5,\n",
       " 'Maruti SX4 Vxi BSIV': 5,\n",
       " 'Maruti Ciaz ZXi': 5,\n",
       " 'Honda City 1.5 GXI': 5,\n",
       " 'Hyundai i20 Asta': 5,\n",
       " 'Maruti Ritz LXi': 5,\n",
       " 'Ford Endeavour 3.2 Trend AT 4X4': 5,\n",
       " 'Audi Q5 2008-2012 2.0 TDI': 5,\n",
       " 'Nissan Micra Diesel XV Premium': 5,\n",
       " 'Hyundai i10 Sportz 1.2 AT': 5,\n",
       " 'Chevrolet Spark 1.0 LT': 5,\n",
       " 'Renault Duster 85PS Diesel RxL Option': 5,\n",
       " 'Mercedes-Benz A Class A180 CDI': 5,\n",
       " 'Mercedes-Benz E-Class 2009-2013 E 220 CDI Avantgarde': 5,\n",
       " 'Porsche Panamera Diesel': 5,\n",
       " 'Honda City V AT': 5,\n",
       " 'Honda City 1.5 S AT': 5,\n",
       " 'Honda City 1.5 V MT Exclusive': 5,\n",
       " 'Maruti Swift VDI BSIV W ABS': 5,\n",
       " 'Maruti Celerio ZXI': 5,\n",
       " 'Honda Civic 2006-2010 1.8 V AT': 5,\n",
       " 'Mahindra XUV500 W10 AWD': 5,\n",
       " 'Maruti Baleno Alpha 1.3': 5,\n",
       " 'Ford Fiesta Classic 1.4 Duratorq CLXI': 5,\n",
       " 'Volkswagen Passat Diesel Highline 2.0 TDI': 5,\n",
       " 'Hyundai i20 1.4 CRDi Sportz': 5,\n",
       " 'Audi Q7 35 TDI Quattro Technology': 5,\n",
       " 'Chevrolet Spark 1.0 LS': 5,\n",
       " 'BMW 5 Series 520d Sedan': 5,\n",
       " 'BMW X5 3.0d': 5,\n",
       " 'Ford Ecosport 1.5 DV5 MT Trend': 5,\n",
       " 'Hyundai Verna CRDi 1.6 SX Option': 5,\n",
       " 'Toyota Corolla H4': 5,\n",
       " 'Maruti Wagon R VXI AMT': 5,\n",
       " 'Maruti Wagon R LXI Minor': 5,\n",
       " 'Honda Amaze E i-Vtech': 5,\n",
       " 'Hyundai Santa Fe 4WD AT': 5,\n",
       " 'Maruti Vitara Brezza VDi Option': 5,\n",
       " 'Honda Brio S Option MT': 5,\n",
       " 'Chevrolet Aveo U-VA 1.2 LS': 5,\n",
       " 'Maruti Wagon R CNG LXI': 5,\n",
       " 'Honda Amaze SX i-DTEC': 5,\n",
       " 'Maruti Swift Lxi BSIII': 5,\n",
       " 'Mercedes-Benz E-Class 2015-2017 E250 Edition E': 5,\n",
       " 'Honda City 1.5 EXI': 5,\n",
       " 'Ford Endeavour 3.0L 4X4 AT': 5,\n",
       " 'Hyundai i20 Magna Optional 1.4 CRDi': 5,\n",
       " 'Maruti Ciaz ZDi Plus': 5,\n",
       " 'Honda Accord 2.4 AT': 5,\n",
       " 'Tata Indica Vista Quadrajet VX': 5,\n",
       " 'Maruti Alto 800 2016-2019 CNG LXI': 4,\n",
       " 'Honda Jazz V': 4,\n",
       " 'Hyundai i20 Magna 1.4 CRDi (Diesel)': 4,\n",
       " 'Land Rover Range Rover 2.2L Pure': 4,\n",
       " 'Hyundai i10 Sportz 1.1L': 4,\n",
       " 'Ford Figo Petrol Titanium': 4,\n",
       " 'Maruti Baleno Alpha': 4,\n",
       " 'Audi A6 35 TDI Matrix': 4,\n",
       " 'Skoda Laura Ambiente': 4,\n",
       " 'Skoda Rapid 1.5 TDI AT Elegance': 4,\n",
       " 'Land Rover Freelander 2 TD4 SE': 4,\n",
       " 'Hyundai Creta 1.6 SX Option': 4,\n",
       " 'Maruti Wagon R VXI 1.2': 4,\n",
       " 'BMW 5 Series 2003-2012 525d': 4,\n",
       " 'BMW X1 sDrive 20d Sportline': 4,\n",
       " 'Honda City ZX VTEC': 4,\n",
       " 'Honda Amaze S AT i-Vtech': 4,\n",
       " 'Renault Duster 85PS Diesel RxE': 4,\n",
       " 'Hyundai Verna 1.6 CRDi SX': 4,\n",
       " 'Hyundai Grand i10 Asta Option AT': 4,\n",
       " 'Maruti Ciaz AT ZXi': 4,\n",
       " 'Hyundai Grand i10 1.2 CRDi Sportz': 4,\n",
       " 'Honda Accord 2.4 MT': 4,\n",
       " 'Volkswagen Polo Petrol Highline 1.6L': 4,\n",
       " 'Hyundai Creta 1.6 SX Option Diesel': 4,\n",
       " 'Jeep Compass 2.0 Longitude': 4,\n",
       " 'Hyundai i20 Sportz Option': 4,\n",
       " 'Nissan Sunny 2011-2014 XL': 4,\n",
       " 'Hyundai Verna 1.6 CRDI': 4,\n",
       " 'Ford EcoSport 1.5 Diesel Titanium': 4,\n",
       " 'Renault Duster Petrol RxL': 4,\n",
       " 'Hyundai Elantra CRDi SX AT': 4,\n",
       " 'Nissan Terrano XV Premium 110 PS': 4,\n",
       " 'Ford EcoSport 1.5 Ti VCT AT Titanium': 4,\n",
       " 'Honda Jazz 1.5 VX i DTEC': 4,\n",
       " 'Maruti A-Star Lxi': 4,\n",
       " 'Hyundai Verna 1.6 SX VTVT (O) AT': 4,\n",
       " 'Tata Indigo CS eVX': 4,\n",
       " 'Maruti Swift Dzire VDI Optional': 4,\n",
       " 'Mercedes-Benz GL-Class 350 CDI Blue Efficiency': 4,\n",
       " 'Honda CR-V 2.4 AT': 4,\n",
       " 'Renault Duster 110PS Diesel RxZ Plus': 4,\n",
       " 'Hyundai i20 Sportz Option 1.2': 4,\n",
       " 'Volkswagen CrossPolo 1.5 TDI': 4,\n",
       " 'Mercedes-Benz New C-Class C250 Avantgarde': 4,\n",
       " 'Nissan Terrano XL': 4,\n",
       " 'Toyota Corolla Altis Diesel D4DG': 4,\n",
       " 'Fiat Avventura MULTIJET Emotion': 4,\n",
       " 'Toyota Corolla Altis VL': 4,\n",
       " 'Toyota Innova 2.5 VX (Diesel) 8 Seater BS IV': 4,\n",
       " 'Hyundai i20 1.4 Sportz': 4,\n",
       " 'Maruti Swift Dzire 1.2 Vxi BSIV': 4,\n",
       " 'Toyota Corolla Altis 1.8 VL CVT': 4,\n",
       " 'Audi Q3 2012-2015 2.0 TDI Quattro Premium Plus': 4,\n",
       " 'Maruti Baleno Delta 1.2': 4,\n",
       " 'Tata Zest Revotron 1.2T XM': 4,\n",
       " 'Tata Indica Vista Quadrajet LS': 4,\n",
       " 'Maruti Celerio VXI AMT': 4,\n",
       " 'Toyota Innova 2.5 GX (Diesel) 8 Seater': 4,\n",
       " 'Maruti Swift Dzire ZXI': 4,\n",
       " 'Maruti Ertiga VXI CNG': 4,\n",
       " 'Honda Mobilio S i DTEC': 4,\n",
       " 'Toyota Corolla 1.8 J': 4,\n",
       " 'Ford Ecosport 1.5 DV5 MT Ambiente': 4,\n",
       " 'Volkswagen Ameo 1.2 MPI Highline': 4,\n",
       " 'Maruti Dzire AMT ZDI Plus': 4,\n",
       " 'Tata Zest Revotron 1.2T XE': 4,\n",
       " 'Hyundai Xcent 1.2 CRDi S': 4,\n",
       " 'BMW X3 xDrive20d': 4,\n",
       " 'Hyundai Santro GLS II - Euro II': 4,\n",
       " 'Mahindra TUV 300 2015-2019 T8': 4,\n",
       " 'Datsun redi-GO T Option': 4,\n",
       " 'Maruti Ritz VXI': 4,\n",
       " 'Mercedes-Benz B Class B200 CDI': 4,\n",
       " 'Audi Q3 2.0 TDI': 4,\n",
       " 'Hyundai i20 1.2 Sportz Option': 4,\n",
       " 'Hyundai Elantra 2.0 SX Option AT': 4,\n",
       " 'Mercedes-Benz GLE 250d': 4,\n",
       " 'Hyundai i20 Sportz AT 1.4': 4,\n",
       " 'Volkswagen Vento 1.6 Comfortline': 4,\n",
       " 'BMW 3 Series 320d Sedan': 4,\n",
       " 'Hyundai i10 Asta': 4,\n",
       " 'Tata Indigo LS': 4,\n",
       " 'Hyundai Santa Fe 4X4': 4,\n",
       " 'Tata Zest Quadrajet 1.3 75PS XE': 4,\n",
       " 'Renault KWID RXL': 4,\n",
       " 'Skoda Rapid 1.6 TDI Ambition': 4,\n",
       " 'Audi Q3 35 TDI Quattro Premium': 4,\n",
       " 'Honda City 1.5 E MT': 4,\n",
       " 'Toyota Innova 2.5 G4 Diesel 7-seater': 4,\n",
       " 'Volkswagen Vento 2013-2015 1.6 Comfortline': 4,\n",
       " 'Honda Mobilio S i VTEC': 4,\n",
       " 'Skoda Laura Ambiente 2.0 TDI CR AT': 4,\n",
       " 'Honda City i-VTEC VX': 4,\n",
       " 'Mercedes-Benz New C-Class C 200 CGI Avantgarde': 4,\n",
       " 'Hyundai i20 1.4 CRDi Asta': 4,\n",
       " 'Mercedes-Benz S Class 2005 2013 S 350 CDI': 4,\n",
       " 'BMW 3 Series 320i Sedan': 4,\n",
       " 'Honda Amaze VX i-Vtech': 4,\n",
       " 'Mercedes-Benz GLA Class 200 CDI': 4,\n",
       " 'Mercedes-Benz E-Class E 220 d': 4,\n",
       " 'Land Rover Range Rover HSE Dynamic': 4,\n",
       " 'Hyundai Santa Fe 4x4 AT': 4,\n",
       " 'Honda WRV i-VTEC VX': 4,\n",
       " 'Maruti Swift Dzire LXI': 4,\n",
       " 'BMW X1 sDrive 20d xLine': 4,\n",
       " 'Honda BRV i-VTEC V CVT': 4,\n",
       " 'Hyundai Verna 1.6 SX VTVT AT': 3,\n",
       " 'Volvo XC60 D5': 3,\n",
       " 'Audi Q5 3.0 TDI Quattro Technology': 3,\n",
       " 'Hyundai i20 Sportz Diesel': 3,\n",
       " 'Mercedes-Benz E-Class 2009-2013 E350 Petrol': 3,\n",
       " 'Honda Civic 2010-2013 1.8 V MT': 3,\n",
       " 'Maruti Estilo LXI': 3,\n",
       " 'Maruti Celerio ZDi': 3,\n",
       " 'Renault Scala Diesel RxL': 3,\n",
       " 'Maruti Swift Dzire ZDi': 3,\n",
       " 'Maruti SX4 Vxi BSIII': 3,\n",
       " 'Mercedes-Benz New C-Class C 200 Kompressor Elegance AT': 3,\n",
       " 'Maruti Swift Dzire AMT ZDI': 3,\n",
       " 'Honda Jazz S': 3,\n",
       " 'Audi Q7 45 TDI Quattro Technology': 3,\n",
       " 'Skoda Rapid 1.5 TDI Elegance': 3,\n",
       " 'Maruti Swift Ldi BSIV': 3,\n",
       " 'Maruti Omni E MPI STD BS IV': 3,\n",
       " 'Toyota Etios Liva 1.2 G': 3,\n",
       " 'Toyota Corolla H2': 3,\n",
       " 'Maruti SX4 S Cross DDiS 200 Zeta': 3,\n",
       " 'Tata Manza Aura Quadrajet BS IV': 3,\n",
       " 'Honda Jazz VX Diesel': 3,\n",
       " 'Toyota Corolla Altis 1.8 GL': 3,\n",
       " 'Volkswagen Ameo 1.5 TDI Highline': 3,\n",
       " 'Mahindra Xylo H4': 3,\n",
       " 'Maruti Zen LXi - BS III': 3,\n",
       " 'Renault KWID 1.0 RXT Optional': 3,\n",
       " 'Audi Q5 2.0 TDI': 3,\n",
       " 'Maruti Dzire VXI': 3,\n",
       " 'Honda Brio 1.2 VX MT': 3,\n",
       " 'BMW X6 xDrive30d': 3,\n",
       " 'Honda Civic 2006-2010 1.8 S AT': 3,\n",
       " 'BMW X1 xDrive 20d xLine': 3,\n",
       " 'Mitsubishi Pajero 2.8 SFX': 3,\n",
       " 'Renault Duster 110PS Diesel RxZ Pack': 3,\n",
       " 'Hyundai EON Magna': 3,\n",
       " 'Honda Accord 2.4 A/T': 3,\n",
       " 'Volkswagen Vento 1.5 TDI Comfortline': 3,\n",
       " 'Maruti Baleno Delta 1.3': 3,\n",
       " 'Chevrolet Beat Diesel': 3,\n",
       " 'BMW 7 Series 730Ld Sedan': 3,\n",
       " 'Honda Brio E MT': 3,\n",
       " 'Hyundai Getz GLE': 3,\n",
       " 'Hyundai i20 1.4 Asta': 3,\n",
       " 'Ford Fiesta EXi 1.4 TDCi Ltd': 3,\n",
       " 'Hyundai Verna VTVT 1.6 SX': 3,\n",
       " 'Jeep Compass 2.0 Limited 4X4': 3,\n",
       " 'Renault Pulse RxL': 3,\n",
       " 'Maruti Baleno Alpha Diesel': 3,\n",
       " 'Maruti Ciaz ZDi SHVS': 3,\n",
       " 'Maruti Ciaz ZXi Plus': 3,\n",
       " 'Skoda Rapid 1.6 TDI Elegance': 3,\n",
       " 'Hyundai Verna Transform VTVT': 3,\n",
       " 'Honda CR-V 2.0L 2WD MT': 3,\n",
       " 'Honda City i-VTEC S': 3,\n",
       " 'Toyota Innova 2.5 VX (Diesel) 8 Seater': 3,\n",
       " 'Toyota Corolla Altis 1.4 DG': 3,\n",
       " 'Mahindra XUV500 W4': 3,\n",
       " 'Audi Q3 2.0 TDI Quattro': 3,\n",
       " 'Mahindra Xylo D4': 3,\n",
       " 'Maruti Celerio ZXI AT': 3,\n",
       " 'Maruti Baleno RS 1.0 Petrol': 3,\n",
       " 'Maruti Baleno Sigma 1.2': 3,\n",
       " 'Honda City V MT Exclusive': 3,\n",
       " 'Hyundai i10 Era 1.1 iTech SE': 3,\n",
       " 'Toyota Fortuner 2.8 2WD MT': 3,\n",
       " 'Hyundai Grand i10 1.2 Kappa Magna AT': 3,\n",
       " 'Volkswagen Polo 1.5 TDI Trendline': 3,\n",
       " 'Toyota Innova 2.5 ZX Diesel 7 Seater': 3,\n",
       " 'Nissan Terrano XV 110 PS': 3,\n",
       " 'Maruti Alto LXi BSII': 3,\n",
       " 'Hyundai Grand i10 1.2 Kappa Sportz Option': 3,\n",
       " 'Mercedes-Benz E-Class 2009-2013 E250 CDI Avantgarde': 3,\n",
       " 'Nissan Micra XL': 3,\n",
       " 'Maruti 800 AC': 3,\n",
       " 'Chevrolet Optra Magnum 2.0 LT': 3,\n",
       " 'Maruti Wagon R LX': 3,\n",
       " 'Honda City 1.3 EXI': 3,\n",
       " 'Maruti Dzire LDI': 3,\n",
       " 'BMW 7 Series 730Ld': 3,\n",
       " 'Skoda Laura 1.8 TSI Ambiente': 3,\n",
       " 'Honda Civic 2010-2013 1.8 S MT': 3,\n",
       " 'Honda Amaze E i-Dtech': 3,\n",
       " 'Maruti Zen LX': 3,\n",
       " 'Maruti 800 Std BSIII': 3,\n",
       " 'Volkswagen Polo 1.5 TDI Comfortline': 3,\n",
       " 'Hyundai Verna 1.6 CRDi S': 3,\n",
       " 'Chevrolet Sail 1.2 LS': 3,\n",
       " 'Hyundai Elite i20 Petrol Sportz': 3,\n",
       " 'Mercedes-Benz E-Class 200 Kompressor Elegance': 3,\n",
       " 'Toyota Innova Crysta 2.8 GX AT 8S': 3,\n",
       " 'Maruti Ritz ZDi': 3,\n",
       " 'BMW 6 Series Gran Coupe': 3,\n",
       " 'Maruti Vitara Brezza LDi': 3,\n",
       " 'Tata Zest Revotron 1.2 XT': 3,\n",
       " 'Mercedes-Benz M-Class ML 350 CDI': 3,\n",
       " 'Maruti SX4 Green Vxi (CNG)': 3,\n",
       " 'Mini Cooper 3 DOOR D': 3,\n",
       " 'Tata Tiago 1.2 Revotron XZ': 3,\n",
       " 'Toyota Innova Crysta 2.4 VX MT 8S': 3,\n",
       " 'Maruti Ciaz 1.3 Alpha': 3,\n",
       " 'Audi Q7 3.0 TDI quattro': 3,\n",
       " 'BMW 5 Series 525d Sedan': 3,\n",
       " 'Maruti Zen Estilo LXI BS IV': 3,\n",
       " 'Honda Amaze S Petrol': 3,\n",
       " 'Skoda Rapid 1.5 TDI Ambition': 3,\n",
       " 'Land Rover Range Rover 2.2L Prestige': 3,\n",
       " 'Maruti Alto LX': 3,\n",
       " 'Maruti SX4 ZDI': 3,\n",
       " 'Mercedes-Benz New C-Class C 220 CDI CLASSIC': 3,\n",
       " 'Hyundai Xcent 1.2 Kappa SX': 3,\n",
       " 'Maruti Vitara Brezza VDi': 3,\n",
       " 'Ford EcoSport 1.5 Petrol Titanium Plus AT': 3,\n",
       " 'Honda City i DTec V': 3,\n",
       " 'Mercedes-Benz M-Class ML 320 CDI': 3,\n",
       " 'Maruti Ciaz VDI SHVS': 3,\n",
       " 'Honda Jazz VX': 3,\n",
       " 'Hyundai i10 Magna 1.2 iTech SE': 3,\n",
       " 'Hyundai Santa Fe 2WD AT': 3,\n",
       " 'Tata Indica DLS': 3,\n",
       " 'Maruti Baleno Alpha 1.2': 3,\n",
       " 'Mercedes-Benz New C-Class C 250 CDI Avantgarde': 3,\n",
       " 'Mercedes-Benz C-Class Progressive C 220d': 3,\n",
       " 'BMW 3 Series 2005-2011 325i Sedan': 3,\n",
       " 'Hyundai Getz GLS': 3,\n",
       " 'Mitsubishi Pajero Sport 4X4 AT': 3,\n",
       " 'Skoda Octavia Classic 1.9 TDI MT': 3,\n",
       " 'Mercedes-Benz E-Class E250 CDI Launch Edition': 3,\n",
       " 'Honda Jazz 1.2 V i VTEC': 3,\n",
       " 'BMW X5 xDrive 30d M Sport': 3,\n",
       " 'Skoda Superb 1.8 TSI MT': 3,\n",
       " 'Mini Cooper S Carbon Edition': 3,\n",
       " 'Hyundai Creta 1.4 E Plus Diesel': 3,\n",
       " 'Land Rover Range Rover 2.2L Dynamic': 3,\n",
       " 'Hyundai Xcent 1.2 Kappa AT SX Option': 3,\n",
       " 'Honda CR-V 2.4L 4WD AT': 3,\n",
       " 'Nissan Terrano XL D Option': 3,\n",
       " 'BMW 3 Series 320d Corporate Edition': 3,\n",
       " 'Nissan Terrano XL 110 PS': 3,\n",
       " 'Audi Q3 2012-2015 35 TDI Quattro Premium Plus': 3,\n",
       " 'Ford Figo 2015-2019 1.2P Titanium MT': 3,\n",
       " 'Mercedes-Benz S Class 2005 2013 S 350 L': 3,\n",
       " 'Honda Accord 2.4 Inspire M/T': 3,\n",
       " 'Mercedes-Benz M-Class ML 350 CDI Corporate': 3,\n",
       " 'Honda Jazz 1.5 S i DTEC': 3,\n",
       " 'Skoda Laura 1.9 TDI AT Ambiente': 3,\n",
       " 'Maruti S Cross DDiS 320 Alpha': 3,\n",
       " 'Mahindra Ssangyong Rexton RX5': 3,\n",
       " 'Honda Amaze S i-VTEC': 3,\n",
       " 'Honda City i DTEC VX Option': 3,\n",
       " 'Maruti Zen Estilo LXI BSIII': 3,\n",
       " 'Honda CR-V 2.4 4WD AT': 3,\n",
       " 'Mercedes-Benz R-Class R350 4Matic Long': 3,\n",
       " 'Mercedes-Benz New C-Class C 250 CDI Elegance': 3,\n",
       " 'Maruti Swift Dzire LDi': 3,\n",
       " 'Volkswagen Polo 1.2 MPI Trendline': 3,\n",
       " 'Toyota Corolla Altis VL AT': 3,\n",
       " 'Maruti Omni 8 Seater BSII': 3,\n",
       " 'Mercedes-Benz GLC 220d 4MATIC Style': 3,\n",
       " 'Honda Amaze S Diesel': 3,\n",
       " 'Maruti Swift DDiS VDI': 3,\n",
       " 'Mercedes-Benz E-Class 2009-2013 E 250 Elegance': 3,\n",
       " 'Skoda Octavia Elegance 1.8 TSI AT': 3,\n",
       " 'Ford EcoSport 1.0 Ecoboost Titanium Plus': 3,\n",
       " 'Ford Ikon 1.4 TDCi DuraTorq': 3,\n",
       " 'Honda CR-V 2.4 MT': 3,\n",
       " 'BMW 3 Series 320d Sport': 3,\n",
       " 'Ford EcoSport 1.5 Ti VCT MT Titanium BE': 3,\n",
       " 'Fiat Linea Emotion': 3,\n",
       " 'Volkswagen Jetta 2007-2011 1.9 Highline TDI': 3,\n",
       " 'Ford Fiesta 1.4 Duratorq ZXI': 3,\n",
       " 'Hyundai Verna VTVT 1.6 SX Option': 3,\n",
       " 'Tata Sumo EX': 3,\n",
       " 'Audi A4 35 TDI Premium Plus': 3,\n",
       " 'Maruti Ciaz Zeta': 3,\n",
       " 'Mercedes-Benz New C-Class 220 CDI MT': 3,\n",
       " 'Renault Koleos 2.0 Diesel': 3,\n",
       " 'Tata Indigo LX': 3,\n",
       " 'Audi A6 2.0 TDI Design Edition': 3,\n",
       " 'Maruti SX4 VDI': 2,\n",
       " 'Mini Cooper Countryman D': 2,\n",
       " 'Maruti Swift Dzire 1.2 Lxi BSIV': 2,\n",
       " 'Nissan X-Trail SLX MT': 2,\n",
       " 'Toyota Corolla Altis 1.8 G': 2,\n",
       " 'Skoda Octavia Ambiente 1.9 TDI MT': 2,\n",
       " 'Maruti Omni MPI STD BSIV': 2,\n",
       " 'Mahindra Xylo E4 ABS BS III': 2,\n",
       " 'Mahindra Scorpio S6 7 Seater': 2,\n",
       " 'Mahindra Scorpio VLX 2WD BSIV': 2,\n",
       " 'Audi A4 35 TDI Technology Edition': 2,\n",
       " 'Honda Jazz V CVT': 2,\n",
       " 'Mercedes-Benz New C-Class 200 Kompressor': 2,\n",
       " 'Mahindra Scorpio VLX 2.2 mHawk Airbag BSIV': 2,\n",
       " 'Hyundai Verna 1.6 VTVT EX AT': 2,\n",
       " 'Toyota Innova 2.5 GX 7 STR': 2,\n",
       " 'Audi A4 2.0 TDI Premium Sport Limited Edition': 2,\n",
       " 'Honda Amaze VX AT i-Vtech': 2,\n",
       " 'Ford EcoSport 1.5 Diesel Titanium Plus': 2,\n",
       " 'Tata Manza Club Class Quadrajet90 LS': 2,\n",
       " 'Toyota Innova 2.0 GX 8 STR': 2,\n",
       " 'Skoda Laura Ambition 2.0 TDI CR AT': 2,\n",
       " 'Honda CR-V RVi MT': 2,\n",
       " 'Volkswagen Jetta 2007-2011 2.0 TDI Comfortline': 2,\n",
       " 'Mercedes-Benz GLA Class 200 d Sport': 2,\n",
       " 'Chevrolet Optra Magnum 1.6 LT ABS BS3': 2,\n",
       " 'Land Rover Range Rover Sport SE': 2,\n",
       " 'Maruti Baleno RS Petrol': 2,\n",
       " 'Volkswagen Jetta 2007-2011 2.0 TDI Trendline': 2,\n",
       " 'Hyundai i10 Asta Sunroof AT': 2,\n",
       " 'Renault KWID AMT RXL': 2,\n",
       " 'Maruti Swift Dzire VXi AT': 2,\n",
       " 'Mercedes-Benz New C-Class C 200 CGI Elegance': 2,\n",
       " 'Hyundai Creta 1.6 SX Automatic Diesel': 2,\n",
       " 'Mini Cooper Countryman D High': 2,\n",
       " 'Hyundai Santro Xing XG eRLX Euro III': 2,\n",
       " 'BMW 5 Series 2010-2013 525i': 2,\n",
       " 'BMW X6 xDrive 40d M Sport': 2,\n",
       " 'Ford EcoSport 1.5 Petrol Titanium': 2,\n",
       " 'Mercedes-Benz E-Class E270 CDI': 2,\n",
       " 'Skoda Rapid 1.6 MPI Elegance': 2,\n",
       " 'Hyundai i20 Active 1.4 SX Dual Tone': 2,\n",
       " 'Renault Duster 110PS Diesel RxL AMT': 2,\n",
       " 'Maruti Celerio ZXI MT': 2,\n",
       " 'Hyundai Verna 1.6 CRDi AT SX': 2,\n",
       " 'Audi A4 3.0 TDI Quattro Premium': 2,\n",
       " 'Mini Cooper 3 DOOR S': 2,\n",
       " 'Tata Tiago 1.2 Revotron XT': 2,\n",
       " 'Toyota Etios Cross 1.4L VD': 2,\n",
       " 'Mercedes-Benz E-Class 230 E AT': 2,\n",
       " 'Honda City i-DTEC ZX': 2,\n",
       " 'Hyundai Santro Xing GLS LPG': 2,\n",
       " 'Toyota Corolla Altis D-4D GL': 2,\n",
       " 'Nissan Sunny 2011-2014 XV': 2,\n",
       " 'Honda CR-V 2.0 AT': 2,\n",
       " 'Tata Tiago AMT 1.2 Revotron XZA': 2,\n",
       " 'Hyundai i20 Asta Optional with Sunroof 1.2': 2,\n",
       " 'Maruti SX4 Zxi BSIII': 2,\n",
       " 'Toyota Etios Liva V': 2,\n",
       " 'Hyundai Xcent 1.2 Kappa S Option CNG': 2,\n",
       " 'BMW 5 Series 520d Sport Line': 2,\n",
       " 'Skoda Rapid 1.6 MPI AT Elegance': 2,\n",
       " 'Maruti Ciaz Alpha': 2,\n",
       " 'Tata Safari DICOR 2.2 LX 4x2': 2,\n",
       " 'Honda Jazz Select Edition': 2,\n",
       " 'Ford Figo 2015-2019 1.2P Titanium Opt MT': 2,\n",
       " 'Volkswagen Polo GTI': 2,\n",
       " 'Honda City i VTEC CVT SV': 2,\n",
       " 'Honda Jazz 1.5 V i DTEC': 2,\n",
       " 'Maruti Grand Vitara 2.4 MT': 2,\n",
       " 'Tata Indica V2 eLX': 2,\n",
       " 'Hyundai Verna CRDi 1.6 SX': 2,\n",
       " 'Ford Endeavour 2.2 Trend MT 4X4': 2,\n",
       " 'Mahindra XUV500 W8 1.99 mHawk': 2,\n",
       " 'Toyota Etios Cross 1.4 GD': 2,\n",
       " 'Mahindra Thar CRDe AC': 2,\n",
       " 'Skoda Laura Elegance 2.0 TDI CR AT': 2,\n",
       " 'Audi A7 2011-2015 3.0 TDI Quattro': 2,\n",
       " 'Ford Ecosport 1.0 Ecoboost Platinum Edition': 2,\n",
       " 'BMW 5 Series 523i Sedan': 2,\n",
       " 'Hyundai i20 Active 1.4 SX': 2,\n",
       " 'Honda Jazz 1.2 S i VTEC': 2,\n",
       " 'Tata Zest Quadrajet 1.3 XT': 2,\n",
       " 'Ford Endeavour 2.2 Titanium AT 4X2': 2,\n",
       " 'Volkswagen Vento Sport 1.2 TSI AT': 2,\n",
       " 'BMW 3 Series 320d GT Luxury Line': 2,\n",
       " 'Mahindra Scorpio 2.6 CRDe': 2,\n",
       " 'Honda City i-VTEC CVT ZX': 2,\n",
       " 'Honda Amaze V CVT Petrol': 2,\n",
       " 'Ford Endeavour 4x2 XLT Limited Edition': 2,\n",
       " 'Audi Q3 2012-2015 35 TDI Quattro Premium': 2,\n",
       " 'Fiat Punto EVO 1.2 Emotion': 2,\n",
       " 'Honda City 1.5 V AT Exclusive': 2,\n",
       " 'Mahindra Xylo E8 ABS BS IV': 2,\n",
       " 'Honda City V MT AVN': 2,\n",
       " 'Mercedes-Benz E-Class 220 CDI': 2,\n",
       " 'Renault Duster 110PS Diesel RXZ Option': 2,\n",
       " 'Hyundai i20 Sportz Option Diesel': 2,\n",
       " 'Audi A4 2.0 TDI 177 Bhp Technology Edition': 2,\n",
       " 'Hyundai Verna 1.4 VTVT': 2,\n",
       " 'Mahindra TUV 300 T8': 2,\n",
       " 'Mercedes-Benz S-Class 280 AT': 2,\n",
       " 'Ford Figo Petrol EXI': 2,\n",
       " 'Hyundai i20 1.4 Asta CRDi with AVN': 2,\n",
       " 'Maruti Vitara Brezza ZDi Plus AMT Dual Tone': 2,\n",
       " 'Mercedes-Benz S-Class 320 L': 2,\n",
       " 'Maruti Baleno Delta Automatic': 2,\n",
       " 'Honda Mobilio V i DTEC': 2,\n",
       " 'Tata Nano Lx': 2,\n",
       " 'Hyundai Xcent 1.2 Kappa AT S Option': 2,\n",
       " 'Maruti Zen Estilo 1.1 VXI BSIII': 2,\n",
       " 'Porsche Cayenne Diesel': 2,\n",
       " 'Renault KWID Climber 1.0 MT': 2,\n",
       " 'Mahindra Verito 1.5 D6 BSIV': 2,\n",
       " 'Hyundai Verna 1.6 CRDi EX MT': 2,\n",
       " 'Maruti Zen Estilo 1.1 LX BSIII': 2,\n",
       " 'Honda City i-DTEC SV': 2,\n",
       " 'Hyundai Xcent 1.2 CRDi E Plus': 2,\n",
       " 'Toyota Etios VXD': 2,\n",
       " 'Mahindra Scorpio VLX 2WD AIRBAG BSIV': 2,\n",
       " 'Mahindra Xylo E4': 2,\n",
       " 'Skoda Superb 2.8 V6 AT': 2,\n",
       " 'Volkswagen Polo 1.2 MPI Highline Plus': 2,\n",
       " 'Toyota Innova 2.5 G3': 2,\n",
       " 'Mercedes-Benz CLA 200 Sport Edition': 2,\n",
       " 'Mercedes-Benz GLA Class 200 Sport Edition': 2,\n",
       " 'Ford Fiesta 1.4 SXi TDCi ABS': 2,\n",
       " 'Toyota Etios G Safety': 2,\n",
       " 'Maruti Swift 1.3 LXI': 2,\n",
       " 'Chevrolet Aveo 1.4 LS': 2,\n",
       " 'Maruti Ritz ZXi': 2,\n",
       " 'Audi A4 3.0 TDI Quattro': 2,\n",
       " 'Hyundai Grand i10 1.2 CRDi Sportz Option': 2,\n",
       " 'Hyundai Grand i10 CRDi Asta': 2,\n",
       " 'Tata Indigo CS Emax CNG GLX': 2,\n",
       " 'Hyundai Elite i20 Asta Option': 2,\n",
       " 'Tata Manza ELAN Quadrajet BS IV': 2,\n",
       " 'Land Rover Discovery Sport TD4 HSE 7S': 2,\n",
       " 'BMW 7 Series 740Li': 2,\n",
       " 'Toyota Innova 2.5 GX (Diesel) 7 Seater BS IV': 2,\n",
       " 'Hyundai Verna 1.6 CRDI AT SX Option': 2,\n",
       " 'BMW X3 xDrive30d M Sport': 2,\n",
       " 'Tata Indica Vista Aqua 1.3 Quadrajet': 2,\n",
       " 'Skoda Octavia 2.0 TDI AT Style Plus': 2,\n",
       " 'Ford Endeavour 2.5L 4X2': 2,\n",
       " 'Maruti Baleno Delta': 2,\n",
       " 'Ford Aspire Titanium Diesel': 2,\n",
       " 'Mahindra Thar CRDe': 2,\n",
       " 'Volvo V40 Cross Country D3': 2,\n",
       " 'Hyundai Santro Xing XG': 2,\n",
       " 'Maruti Zen VXI BSII': 2,\n",
       " 'Volkswagen Jetta 2012-2014 2.0L TDI Comfortline': 2,\n",
       " 'Skoda Yeti Elegance': 2,\n",
       " 'Maruti Zen LXI': 2,\n",
       " 'Jaguar XJ 3.0L Portfolio': 2,\n",
       " 'Tata Zest Revotron 1.2T XMS': 2,\n",
       " 'Tata Indica Vista Aura 1.3 Quadrajet': 2,\n",
       " 'Tata Bolt Quadrajet XE': 2,\n",
       " 'Maruti Zen Estilo LXI Green (CNG)': 2,\n",
       " 'Maruti Alto Std': 2,\n",
       " 'Honda Brio S Option AT': 2,\n",
       " 'Maruti Ciaz ZXi Option': 2,\n",
       " 'Hyundai i20 Sportz Petrol': 2,\n",
       " 'Hyundai Verna Transform SX VGT CRDi': 2,\n",
       " 'Chevrolet Enjoy 1.3 TCDi LTZ 8': 2,\n",
       " 'Maruti Ciaz 1.4 Zeta': 2,\n",
       " 'Tata Hexa XTA': 2,\n",
       " 'Tata Nano XT': 2,\n",
       " 'Honda Accord 2001-2003 2.3 VTi L AT': 2,\n",
       " 'Mahindra Quanto C8': 2,\n",
       " 'Toyota Corolla H5': 2,\n",
       " 'Maruti Celerio LXI': 2,\n",
       " 'Hyundai Verna CRDi ABS': 2,\n",
       " 'Skoda Superb Style 2.0 TDI AT': 2,\n",
       " 'Ford Fiesta Classic 1.4 Duratorq LXI': 2,\n",
       " 'Maruti 800 Std': 2,\n",
       " 'Force One LX 4x4': 2,\n",
       " 'Hyundai Santro GLS I - Euro I': 2,\n",
       " 'Mercedes-Benz New C-Class C 200 Avantgarde Edition C': 2,\n",
       " 'Maruti Ciaz 1.4 Delta': 2,\n",
       " 'Mahindra NuvoSport N6': 2,\n",
       " 'Skoda Fabia 1.2 MPI Ambiente Petrol': 2,\n",
       " 'Mitsubishi Outlander 2.4': 2,\n",
       " 'Tata Nexon 1.5 Revotorq XZ Plus Dual Tone': 2,\n",
       " 'Tata Indigo eCS eLX BS IV': 2,\n",
       " 'Ford Fiesta 1.4 Duratec ZXI': 2,\n",
       " 'Mahindra Xylo D4 BS III': 2,\n",
       " 'Audi Q5 30 TDI quattro Premium': 2,\n",
       " 'Toyota Innova 2.5 Z Diesel 7 Seater': 2,\n",
       " 'Hyundai EON D Lite': 2,\n",
       " 'Ford Freestyle Titanium Plus Petrol': 2,\n",
       " 'Renault Fluence Diesel E4': 2,\n",
       " 'BMW X5 X5 M': 2,\n",
       " 'Mitsubishi Cedia Sports': 2,\n",
       " 'Mercedes-Benz CLA 200 D Sport Edition': 2,\n",
       " 'Mercedes-Benz New C-Class C 200 CGI': 2,\n",
       " 'Renault KWID 1.0 RXT Optional AMT': 2,\n",
       " 'BMW X3 xDrive 20d Luxury Line': 2,\n",
       " 'Maruti Wagon R Stingray VXI': 2,\n",
       " 'Ford Endeavour 2.5L 4X2 MT': 2,\n",
       " 'Maruti Swift DDiS ZDI Plus': 2,\n",
       " 'Maruti Ertiga SHVS ZDI Plus': 2,\n",
       " 'Mahindra Scorpio 2009-2014 SLE 7S BSIV': 2,\n",
       " 'Datsun GO NXT': 2,\n",
       " 'Hyundai i20 Asta (o) 1.4 CRDi (Diesel)': 2,\n",
       " 'Hyundai EON D Lite Plus Option': 2,\n",
       " 'Honda Accord 2.4 Elegance M/T': 2,\n",
       " 'Maruti Ignis 1.2 Alpha': 2,\n",
       " 'Renault Duster 85PS Diesel RxL Explore': 2,\n",
       " 'Toyota Innova Crysta 2.4 GX MT': 2,\n",
       " 'Ford Ecosport Signature Edition Diesel': 2,\n",
       " 'Toyota Etios VD': 2,\n",
       " 'Maruti Wagon R LX BSII': 2,\n",
       " 'Maruti Baleno Alpha Automatic': 2,\n",
       " 'Audi RS5 Coupe': 2,\n",
       " 'Mercedes-Benz A Class A180 Sport': 2,\n",
       " 'Hyundai Verna 1.6 EX VTVT': 2,\n",
       " 'Maruti Swift VDI Optional': 2,\n",
       " 'Land Rover Range Rover Evoque 2.0 TD4 HSE Dynamic': 2,\n",
       " 'Chevrolet Beat Diesel PS': 2,\n",
       " 'Ford Endeavour 2.2 Trend AT 4X2': 2,\n",
       " 'Audi Q5 2008-2012 2.0 TFSI Quattro': 2,\n",
       " 'Ford Figo 1.5D Trend MT': 2,\n",
       " 'Toyota Etios V': 2,\n",
       " 'Audi Q3 30 TDI Premium FWD': 2,\n",
       " 'Hyundai Xcent 1.2 Kappa Base': 2,\n",
       " 'Maruti Ciaz VDi Plus': 2,\n",
       " 'Skoda Fabia 1.2 MPI Classic': 2,\n",
       " 'Hyundai Creta 1.4 CRDi S Plus': 2,\n",
       " 'Maruti Wagon R LXI BSII': 2,\n",
       " 'Mercedes-Benz E-Class Facelift': 2,\n",
       " 'Volkswagen Vento IPL II Petrol Highline AT': 2,\n",
       " 'Honda Mobilio RS i DTEC': 2,\n",
       " 'Maruti Baleno Zeta 1.3': 2,\n",
       " 'Chevrolet Aveo 1.4': 2,\n",
       " 'Toyota Innova Crysta 2.4 GX MT 8S': 2,\n",
       " 'Tata Nano Lx BSIV': 2,\n",
       " 'Nissan Terrano XV D Pre': 2,\n",
       " 'Land Rover Range Rover 3.0 D': 2,\n",
       " 'Tata Indica V2 DLS': 2,\n",
       " 'Skoda Yeti Ambition 4X2': 2,\n",
       " 'Renault KWID Climber 1.0 AMT': 2,\n",
       " 'Hyundai Accent GLS': 2,\n",
       " 'Nissan Terrano XL Plus 85 PS': 2,\n",
       " 'Mahindra Scorpio 2.6 SLX CRDe': 2,\n",
       " 'Ford Figo 2015-2019 1.5D Titanium MT': 2,\n",
       " 'Honda CR-V 2.0L 2WD AT': 2,\n",
       " 'Jeep Compass 2.0 Limited Option 4X4': 2,\n",
       " 'BMW 3 Series 330d Convertible': 2,\n",
       " 'Honda City 1.5 V AT Sunroof': 2,\n",
       " 'Skoda Laura Ambiente 2.0 TDI CR MT': 2,\n",
       " 'Skoda Octavia Ambition 1.4 TSI MT': 2,\n",
       " 'Renault Lodgy 110PS RxZ 8 Seater': 2,\n",
       " 'Maruti Dzire AMT ZXI Plus': 2,\n",
       " 'Hyundai Xcent 1.2 Kappa SX Option': 2,\n",
       " 'Land Rover Range Rover Evoque 2.0 TD4 Pure': 2,\n",
       " 'Tata Indigo CS eGLX BS IV': 2,\n",
       " 'Maruti Zen Estilo VXI BSIII': 2,\n",
       " 'Skoda Rapid 1.6 MPI Ambition With Alloy Wheel': 2,\n",
       " 'Ford Figo Aspire 1.2 Ti-VCT Trend': 2,\n",
       " 'Maruti Baleno LXI': 2,\n",
       " 'Mahindra Scorpio 2.6 DX': 2,\n",
       " 'Skoda Laura 1.9 TDI MT Ambiente': 2,\n",
       " 'Toyota Innova 2.5 VX (Diesel) 7 Seater BS IV': 2,\n",
       " 'Land Rover Discovery Sport TD4 HSE': 2,\n",
       " 'Hyundai Verna 1.6 CRDi EX AT': 2,\n",
       " 'Honda City i VTEC S': 2,\n",
       " 'Maruti Alto Green LXi (CNG)': 2,\n",
       " 'Volkswagen Vento 1.5 Highline Plus AT 16 Alloy': 2,\n",
       " 'Chevrolet Enjoy Petrol LS 7 Seater': 2,\n",
       " 'Maruti Wagon R LXI Optional': 2,\n",
       " 'Tata Manza Aqua Quadrajet BS IV': 2,\n",
       " 'Hyundai i10 Magna Optional 1.1L': 2,\n",
       " 'BMW 3 Series 320d M Sport': 2,\n",
       " 'Honda Amaze EX i-Dtech': 2,\n",
       " 'BMW 5 Series 2003-2012 530d Highline': 2,\n",
       " 'BMW X3 xDrive20d xLine': 2,\n",
       " 'Maruti Ciaz 1.3 S': 2,\n",
       " 'Honda City 1.5 V MT Sunroof': 2,\n",
       " 'Ford Fiesta 1.4 SXi TDCi': 2,\n",
       " 'Toyota Fortuner 4x4 MT TRD Sportivo': 2,\n",
       " 'Maruti Vitara Brezza LDi Option': 2,\n",
       " 'Ford Endeavour XLT TDCi 4X2': 2,\n",
       " 'Mercedes-Benz SLK-Class SLK 350': 2,\n",
       " 'Mercedes-Benz GLC 220': 2,\n",
       " 'Audi A6 35 TFSI Matrix': 2,\n",
       " 'Mahindra Scorpio 2.6 LX': 2,\n",
       " 'Land Rover Range Rover Vogue SE 4.4 SDV8': 2,\n",
       " 'Mahindra Scorpio S8 8 Seater': 2,\n",
       " 'Fiat Linea Emotion (Diesel)': 2,\n",
       " 'Tata Xenon XT EX 4X2': 2,\n",
       " 'Audi A6 2011-2015 35 TFSI Technology': 2,\n",
       " 'Honda Jazz 1.5 SV i DTEC': 2,\n",
       " 'Maruti Swift LDI Optional': 2,\n",
       " 'Mercedes-Benz E-Class 2015-2017 E350 CDI Avantgrade': 2,\n",
       " 'Volvo S60 D4 Momentum': 2,\n",
       " 'Maruti Ciaz RS ZDi Plus SHVS': 2,\n",
       " 'Tata Safari Storme 2012-2015 VX': 2,\n",
       " 'Hyundai Verna VTVT 1.6 AT SX Option': 2,\n",
       " 'Honda City i DTEC S': 2,\n",
       " 'Hyundai Grand i10 CRDi Sportz Celebration Edition': 2,\n",
       " 'Land Rover Discovery Sport SD4 HSE Luxury 7S': 2,\n",
       " 'Fiat Linea Emotion Pack (Diesel)': 2,\n",
       " 'BMW X1 M Sport sDrive 20d': 2,\n",
       " 'Ford EcoSport 1.5 Ti VCT AT Titanium BE': 2,\n",
       " 'Volkswagen Vento Petrol Trendline': 2,\n",
       " 'Hyundai Accent CRDi': 2,\n",
       " 'Tata Indica GLS BS IV': 2,\n",
       " 'Audi A4 1.8 TFSI': 2,\n",
       " 'Jaguar XF 2.2 Litre Executive': 2,\n",
       " 'Mahindra KUV 100 mFALCON G80 K2': 2,\n",
       " 'Land Rover Freelander 2 HSE': 2,\n",
       " 'Ford EcoSport 1.5 TDCi Trend': 2,\n",
       " 'Maruti Esteem Vxi': 2,\n",
       " 'Volkswagen Vento 1.5 TDI Comfortline AT': 2,\n",
       " 'Hyundai Santro GLS I - Euro II': 2,\n",
       " 'Maruti S Cross DDiS 200 Alpha': 2,\n",
       " 'Ford Figo Aspire 1.2 Ti-VCT Ambiente': 2,\n",
       " 'Maruti Alto 800 2016-2019 LXI Optional': 2,\n",
       " 'Honda Amaze S i-DTEC': 2,\n",
       " 'Hyundai Xcent 1.2 VTVT S': 2,\n",
       " 'Nissan Micra Active XV': 2,\n",
       " 'Chevrolet Enjoy TCDi LS 8 Seater': 2,\n",
       " 'Jeep Compass 2.0 Sport': 2,\n",
       " 'Audi Q5 3.0 TDI Quattro': 2,\n",
       " 'Audi A8 L 3.0 TDI quattro': 2,\n",
       " 'Jaguar XE 2.0L Diesel Prestige': 2,\n",
       " 'Maruti Ciaz 1.4 AT Alpha': 2,\n",
       " 'Chevrolet Sail Hatchback 1.2 LS': 2,\n",
       " 'Maruti 800 DX BSII': 2,\n",
       " 'Mahindra Scorpio VLX 2.2 mHawk BSIII': 2,\n",
       " 'Honda Brio EX MT': 2,\n",
       " 'Volvo S60 D4 KINETIC': 2,\n",
       " 'Hyundai i20 Asta Option 1.4 CRDi': 2,\n",
       " 'Audi Q7 35 TDI Quattro Premium Plus': 2,\n",
       " 'Skoda Superb 3.6 V6 FSI': 2,\n",
       " 'Maruti Wagon R VXI BSIII': 2,\n",
       " 'Volkswagen Polo GT TDI': 2,\n",
       " 'Maruti SX4 Zxi with Leather BSIII': 2,\n",
       " 'Honda BR-V i-VTEC S MT': 2,\n",
       " 'Maruti Esteem Vxi - BSIII': 2,\n",
       " 'Skoda Rapid 1.6 MPI Ambition': 2,\n",
       " 'Hyundai i20 Asta 1.4 CRDi (Diesel)': 2,\n",
       " 'Skoda Rapid 1.6 MPI AT Style': 2,\n",
       " 'Toyota Corolla Altis GL MT': 2,\n",
       " 'Ford Figo Aspire 1.2 Ti-VCT Titanium': 2,\n",
       " 'Ford Fiesta 1.4 Duratec EXI': 2,\n",
       " 'Maruti Baleno Alpha CVT': 2,\n",
       " 'Tata Indigo GLE': 2,\n",
       " 'ISUZU D-MAX V-Cross 4X4': 2,\n",
       " 'Maruti Ignis 1.2 Delta': 2,\n",
       " 'Maruti A-Star AT VXI': 2,\n",
       " 'Audi A4 35 TDI Technology': 2,\n",
       " ...}"
      ]
     },
     "execution_count": 666,
     "metadata": {},
     "output_type": "execute_result"
    }
   ],
   "source": [
    "df['Name'].value_counts().to_dict()"
   ]
  },
  {
   "cell_type": "code",
   "execution_count": 667,
   "id": "42cedc7b",
   "metadata": {},
   "outputs": [
    {
     "ename": "AttributeError",
     "evalue": "'function' object has no attribute 'items'",
     "output_type": "error",
     "traceback": [
      "\u001b[1;31m---------------------------------------------------------------------------\u001b[0m",
      "\u001b[1;31mAttributeError\u001b[0m                            Traceback (most recent call last)",
      "Input \u001b[1;32mIn [667]\u001b[0m, in \u001b[0;36m<cell line: 2>\u001b[1;34m()\u001b[0m\n\u001b[0;32m      1\u001b[0m p\u001b[38;5;241m=\u001b[39m[]\n\u001b[1;32m----> 2\u001b[0m \u001b[38;5;28;01mfor\u001b[39;00m i,j \u001b[38;5;129;01min\u001b[39;00m \u001b[43md\u001b[49m\u001b[38;5;241;43m.\u001b[39;49m\u001b[43mitems\u001b[49m():\n\u001b[0;32m      3\u001b[0m     \u001b[38;5;28;01mif\u001b[39;00m j\u001b[38;5;241m<\u001b[39m\u001b[38;5;241m=\u001b[39m\u001b[38;5;241m5\u001b[39m:\n\u001b[0;32m      4\u001b[0m         p\u001b[38;5;241m.\u001b[39mappend(j)\n",
      "\u001b[1;31mAttributeError\u001b[0m: 'function' object has no attribute 'items'"
     ]
    }
   ],
   "source": [
    "p=[]\n",
    "for i,j in d.items():\n",
    "    if j<=5:\n",
    "        p.append(j)\n",
    "len(p)"
   ]
  },
  {
   "cell_type": "code",
   "execution_count": 668,
   "id": "f5e74bb0",
   "metadata": {},
   "outputs": [
    {
     "name": "stdout",
     "output_type": "stream",
     "text": [
      "(6019,)\n",
      "265\n"
     ]
    }
   ],
   "source": [
    "def convert(b):\n",
    "    a=b.value_counts().to_dict()\n",
    "    l=[]\n",
    "    for i,j in a.items():\n",
    "        if j<=5:\n",
    "            l.append(i)\n",
    "    d={}\n",
    "    for i in l:\n",
    "        d.update({i:'other'})\n",
    "    b.replace(d,inplace=True)\n",
    "convert(df['Name'])\n",
    "print(df['Name'].shape)\n",
    "print(df['Name'].nunique())"
   ]
  },
  {
   "cell_type": "code",
   "execution_count": 669,
   "id": "89f65740",
   "metadata": {},
   "outputs": [
    {
     "data": {
      "text/plain": [
       "265"
      ]
     },
     "execution_count": 669,
     "metadata": {},
     "output_type": "execute_result"
    }
   ],
   "source": [
    "df['Name'].nunique()"
   ]
  },
  {
   "cell_type": "code",
   "execution_count": null,
   "id": "29856025",
   "metadata": {},
   "outputs": [],
   "source": []
  },
  {
   "cell_type": "code",
   "execution_count": null,
   "id": "dee0cd3c",
   "metadata": {},
   "outputs": [],
   "source": []
  },
  {
   "cell_type": "code",
   "execution_count": null,
   "id": "03705928",
   "metadata": {},
   "outputs": [],
   "source": []
  },
  {
   "cell_type": "code",
   "execution_count": null,
   "id": "2584f74b",
   "metadata": {},
   "outputs": [],
   "source": []
  },
  {
   "cell_type": "markdown",
   "id": "afaeb792",
   "metadata": {},
   "source": [
    "### 2.Year"
   ]
  },
  {
   "cell_type": "code",
   "execution_count": 670,
   "id": "8f3f1547",
   "metadata": {},
   "outputs": [
    {
     "data": {
      "text/plain": [
       "array([2010, 2015, 2011, 2012, 2013, 2016, 2018, 2014, 2017, 2007, 2009,\n",
       "       2008, 2019, 2006, 2005, 2004, 2002, 2000, 2003, 1999, 2001, 1998],\n",
       "      dtype=int64)"
      ]
     },
     "execution_count": 670,
     "metadata": {},
     "output_type": "execute_result"
    }
   ],
   "source": [
    "df['Year'].unique()"
   ]
  },
  {
   "cell_type": "code",
   "execution_count": 671,
   "id": "4d089e3a",
   "metadata": {},
   "outputs": [
    {
     "data": {
      "text/plain": [
       "<AxesSubplot:xlabel='Year'>"
      ]
     },
     "execution_count": 671,
     "metadata": {},
     "output_type": "execute_result"
    },
    {
     "data": {
      "image/png": "[encoded data removed]",
      "text/plain": [
       "<Figure size 432x288 with 1 Axes>"
      ]
     },
     "metadata": {
      "needs_background": "light"
     },
     "output_type": "display_data"
    }
   ],
   "source": [
    "sns.boxplot(df['Year'])"
   ]
  },
  {
   "cell_type": "markdown",
   "id": "407abca5",
   "metadata": {},
   "source": [
    "### 3.Kilometers_Driven"
   ]
  },
  {
   "cell_type": "code",
   "execution_count": 672,
   "id": "8f4898cb",
   "metadata": {},
   "outputs": [
    {
     "data": {
      "text/plain": [
       "array([72000, 41000, 46000, ..., 45004, 70602, 27365], dtype=int64)"
      ]
     },
     "execution_count": 672,
     "metadata": {},
     "output_type": "execute_result"
    }
   ],
   "source": [
    "df['Kilometers_Driven'].unique()"
   ]
  },
  {
   "cell_type": "code",
   "execution_count": 673,
   "id": "1f750aac",
   "metadata": {},
   "outputs": [
    {
     "data": {
      "text/plain": [
       "<AxesSubplot:xlabel='Kilometers_Driven'>"
      ]
     },
     "execution_count": 673,
     "metadata": {},
     "output_type": "execute_result"
    },
    {
     "data": {
      "image/png": "[encoded data removed]",
      "text/plain": [
       "<Figure size 432x288 with 1 Axes>"
      ]
     },
     "metadata": {
      "needs_background": "light"
     },
     "output_type": "display_data"
    }
   ],
   "source": [
    "sns.boxplot(df['Kilometers_Driven'])"
   ]
  },
  {
   "cell_type": "markdown",
   "id": "6ca2413e",
   "metadata": {},
   "source": [
    "### 4.Fuel_Type"
   ]
  },
  {
   "cell_type": "code",
   "execution_count": 674,
   "id": "d94a3347",
   "metadata": {},
   "outputs": [
    {
     "data": {
      "text/plain": [
       "array(['CNG', 'Diesel', 'Petrol', 'LPG', 'Electric'], dtype=object)"
      ]
     },
     "execution_count": 674,
     "metadata": {},
     "output_type": "execute_result"
    }
   ],
   "source": [
    "df['Fuel_Type'].unique()"
   ]
  },
  {
   "cell_type": "code",
   "execution_count": 675,
   "id": "5dd50138",
   "metadata": {},
   "outputs": [
    {
     "data": {
      "text/plain": [
       "5"
      ]
     },
     "execution_count": 675,
     "metadata": {},
     "output_type": "execute_result"
    }
   ],
   "source": [
    "df['Fuel_Type'].nunique()"
   ]
  },
  {
   "cell_type": "code",
   "execution_count": null,
   "id": "78032ab2",
   "metadata": {},
   "outputs": [],
   "source": []
  },
  {
   "cell_type": "markdown",
   "id": "db8f32e7",
   "metadata": {},
   "source": [
    "### 5.Transmission"
   ]
  },
  {
   "cell_type": "code",
   "execution_count": 676,
   "id": "f86bcf9e",
   "metadata": {},
   "outputs": [
    {
     "data": {
      "text/plain": [
       "array(['Manual', 'Automatic'], dtype=object)"
      ]
     },
     "execution_count": 676,
     "metadata": {},
     "output_type": "execute_result"
    }
   ],
   "source": [
    "df['Transmission'].unique()"
   ]
  },
  {
   "cell_type": "code",
   "execution_count": 677,
   "id": "aca69324",
   "metadata": {},
   "outputs": [
    {
     "data": {
      "text/plain": [
       "{'Manual': 4299, 'Automatic': 1720}"
      ]
     },
     "execution_count": 677,
     "metadata": {},
     "output_type": "execute_result"
    }
   ],
   "source": [
    "df['Transmission'].value_counts().to_dict()"
   ]
  },
  {
   "cell_type": "code",
   "execution_count": 678,
   "id": "a89093cb",
   "metadata": {},
   "outputs": [
    {
     "data": {
      "text/html": [
       "<div>\n",
       "<style scoped>\n",
       "    .dataframe tbody tr th:only-of-type {\n",
       "        vertical-align: middle;\n",
       "    }\n",
       "\n",
       "    .dataframe tbody tr th {\n",
       "        vertical-align: top;\n",
       "    }\n",
       "\n",
       "    .dataframe thead th {\n",
       "        text-align: right;\n",
       "    }\n",
       "</style>\n",
       "<table border=\"1\" class=\"dataframe\">\n",
       "  <thead>\n",
       "    <tr style=\"text-align: right;\">\n",
       "      <th></th>\n",
       "      <th>Unnamed: 0</th>\n",
       "      <th>Name</th>\n",
       "      <th>Location</th>\n",
       "      <th>Year</th>\n",
       "      <th>Kilometers_Driven</th>\n",
       "      <th>Fuel_Type</th>\n",
       "      <th>Transmission</th>\n",
       "      <th>Owner_Type</th>\n",
       "      <th>Mileage</th>\n",
       "      <th>Engine</th>\n",
       "      <th>Power</th>\n",
       "      <th>Seats</th>\n",
       "      <th>New_Price</th>\n",
       "      <th>Price</th>\n",
       "    </tr>\n",
       "  </thead>\n",
       "  <tbody>\n",
       "    <tr>\n",
       "      <th>0</th>\n",
       "      <td>0</td>\n",
       "      <td>Maruti Wagon R LXI CNG</td>\n",
       "      <td>Mumbai</td>\n",
       "      <td>2010</td>\n",
       "      <td>72000</td>\n",
       "      <td>CNG</td>\n",
       "      <td>0</td>\n",
       "      <td>First</td>\n",
       "      <td>26.6 km/kg</td>\n",
       "      <td>998 CC</td>\n",
       "      <td>58.16 bhp</td>\n",
       "      <td>5.0</td>\n",
       "      <td>NaN</td>\n",
       "      <td>1.75</td>\n",
       "    </tr>\n",
       "    <tr>\n",
       "      <th>1</th>\n",
       "      <td>1</td>\n",
       "      <td>Hyundai Creta 1.6 CRDi SX Option</td>\n",
       "      <td>Pune</td>\n",
       "      <td>2015</td>\n",
       "      <td>41000</td>\n",
       "      <td>Diesel</td>\n",
       "      <td>0</td>\n",
       "      <td>First</td>\n",
       "      <td>19.67 kmpl</td>\n",
       "      <td>1582 CC</td>\n",
       "      <td>126.2 bhp</td>\n",
       "      <td>5.0</td>\n",
       "      <td>NaN</td>\n",
       "      <td>12.50</td>\n",
       "    </tr>\n",
       "    <tr>\n",
       "      <th>2</th>\n",
       "      <td>2</td>\n",
       "      <td>other</td>\n",
       "      <td>Chennai</td>\n",
       "      <td>2011</td>\n",
       "      <td>46000</td>\n",
       "      <td>Petrol</td>\n",
       "      <td>0</td>\n",
       "      <td>First</td>\n",
       "      <td>18.2 kmpl</td>\n",
       "      <td>1199 CC</td>\n",
       "      <td>88.7 bhp</td>\n",
       "      <td>5.0</td>\n",
       "      <td>8.61 Lakh</td>\n",
       "      <td>4.50</td>\n",
       "    </tr>\n",
       "    <tr>\n",
       "      <th>3</th>\n",
       "      <td>3</td>\n",
       "      <td>Maruti Ertiga VDI</td>\n",
       "      <td>Chennai</td>\n",
       "      <td>2012</td>\n",
       "      <td>87000</td>\n",
       "      <td>Diesel</td>\n",
       "      <td>0</td>\n",
       "      <td>First</td>\n",
       "      <td>20.77 kmpl</td>\n",
       "      <td>1248 CC</td>\n",
       "      <td>88.76 bhp</td>\n",
       "      <td>7.0</td>\n",
       "      <td>NaN</td>\n",
       "      <td>6.00</td>\n",
       "    </tr>\n",
       "    <tr>\n",
       "      <th>4</th>\n",
       "      <td>4</td>\n",
       "      <td>Audi A4 New 2.0 TDI Multitronic</td>\n",
       "      <td>Coimbatore</td>\n",
       "      <td>2013</td>\n",
       "      <td>40670</td>\n",
       "      <td>Diesel</td>\n",
       "      <td>1</td>\n",
       "      <td>Second</td>\n",
       "      <td>15.2 kmpl</td>\n",
       "      <td>1968 CC</td>\n",
       "      <td>140.8 bhp</td>\n",
       "      <td>5.0</td>\n",
       "      <td>NaN</td>\n",
       "      <td>17.74</td>\n",
       "    </tr>\n",
       "  </tbody>\n",
       "</table>\n",
       "</div>"
      ],
      "text/plain": [
       "   Unnamed: 0                              Name    Location  Year  \\\n",
       "0           0            Maruti Wagon R LXI CNG      Mumbai  2010   \n",
       "1           1  Hyundai Creta 1.6 CRDi SX Option        Pune  2015   \n",
       "2           2                             other     Chennai  2011   \n",
       "3           3                 Maruti Ertiga VDI     Chennai  2012   \n",
       "4           4   Audi A4 New 2.0 TDI Multitronic  Coimbatore  2013   \n",
       "\n",
       "   Kilometers_Driven Fuel_Type  Transmission Owner_Type     Mileage   Engine  \\\n",
       "0              72000       CNG             0      First  26.6 km/kg   998 CC   \n",
       "1              41000    Diesel             0      First  19.67 kmpl  1582 CC   \n",
       "2              46000    Petrol             0      First   18.2 kmpl  1199 CC   \n",
       "3              87000    Diesel             0      First  20.77 kmpl  1248 CC   \n",
       "4              40670    Diesel             1     Second   15.2 kmpl  1968 CC   \n",
       "\n",
       "       Power  Seats  New_Price  Price  \n",
       "0  58.16 bhp    5.0        NaN   1.75  \n",
       "1  126.2 bhp    5.0        NaN  12.50  \n",
       "2   88.7 bhp    5.0  8.61 Lakh   4.50  \n",
       "3  88.76 bhp    7.0        NaN   6.00  \n",
       "4  140.8 bhp    5.0        NaN  17.74  "
      ]
     },
     "execution_count": 678,
     "metadata": {},
     "output_type": "execute_result"
    }
   ],
   "source": [
    "df['Transmission'].replace({'Manual': 0, 'Automatic': 1},inplace=True)\n",
    "df.head()"
   ]
  },
  {
   "cell_type": "markdown",
   "id": "fe661d1a",
   "metadata": {},
   "source": [
    "   ### 6.Owner_Type"
   ]
  },
  {
   "cell_type": "code",
   "execution_count": 679,
   "id": "2b80c9f6",
   "metadata": {},
   "outputs": [
    {
     "data": {
      "text/plain": [
       "array(['First', 'Second', 'Fourth & Above', 'Third'], dtype=object)"
      ]
     },
     "execution_count": 679,
     "metadata": {},
     "output_type": "execute_result"
    }
   ],
   "source": [
    "df['Owner_Type'].unique()"
   ]
  },
  {
   "cell_type": "code",
   "execution_count": 680,
   "id": "090f76c7",
   "metadata": {},
   "outputs": [
    {
     "data": {
      "text/plain": [
       "{'First': 4929, 'Second': 968, 'Third': 113, 'Fourth & Above': 9}"
      ]
     },
     "execution_count": 680,
     "metadata": {},
     "output_type": "execute_result"
    }
   ],
   "source": [
    "df['Owner_Type'].value_counts().to_dict()"
   ]
  },
  {
   "cell_type": "code",
   "execution_count": 681,
   "id": "bb810990",
   "metadata": {},
   "outputs": [],
   "source": [
    "df['Owner_Type'].replace({'First': 3, 'Second': 2, 'Third': 1, 'Fourth & Above': 0},inplace=True)\n"
   ]
  },
  {
   "cell_type": "code",
   "execution_count": 682,
   "id": "b8f1fdfb",
   "metadata": {},
   "outputs": [
    {
     "data": {
      "text/html": [
       "<div>\n",
       "<style scoped>\n",
       "    .dataframe tbody tr th:only-of-type {\n",
       "        vertical-align: middle;\n",
       "    }\n",
       "\n",
       "    .dataframe tbody tr th {\n",
       "        vertical-align: top;\n",
       "    }\n",
       "\n",
       "    .dataframe thead th {\n",
       "        text-align: right;\n",
       "    }\n",
       "</style>\n",
       "<table border=\"1\" class=\"dataframe\">\n",
       "  <thead>\n",
       "    <tr style=\"text-align: right;\">\n",
       "      <th></th>\n",
       "      <th>Unnamed: 0</th>\n",
       "      <th>Name</th>\n",
       "      <th>Location</th>\n",
       "      <th>Year</th>\n",
       "      <th>Kilometers_Driven</th>\n",
       "      <th>Fuel_Type</th>\n",
       "      <th>Transmission</th>\n",
       "      <th>Owner_Type</th>\n",
       "      <th>Mileage</th>\n",
       "      <th>Engine</th>\n",
       "      <th>Power</th>\n",
       "      <th>Seats</th>\n",
       "      <th>New_Price</th>\n",
       "      <th>Price</th>\n",
       "    </tr>\n",
       "  </thead>\n",
       "  <tbody>\n",
       "    <tr>\n",
       "      <th>0</th>\n",
       "      <td>0</td>\n",
       "      <td>Maruti Wagon R LXI CNG</td>\n",
       "      <td>Mumbai</td>\n",
       "      <td>2010</td>\n",
       "      <td>72000</td>\n",
       "      <td>CNG</td>\n",
       "      <td>0</td>\n",
       "      <td>3</td>\n",
       "      <td>26.6 km/kg</td>\n",
       "      <td>998 CC</td>\n",
       "      <td>58.16 bhp</td>\n",
       "      <td>5.0</td>\n",
       "      <td>NaN</td>\n",
       "      <td>1.75</td>\n",
       "    </tr>\n",
       "    <tr>\n",
       "      <th>1</th>\n",
       "      <td>1</td>\n",
       "      <td>Hyundai Creta 1.6 CRDi SX Option</td>\n",
       "      <td>Pune</td>\n",
       "      <td>2015</td>\n",
       "      <td>41000</td>\n",
       "      <td>Diesel</td>\n",
       "      <td>0</td>\n",
       "      <td>3</td>\n",
       "      <td>19.67 kmpl</td>\n",
       "      <td>1582 CC</td>\n",
       "      <td>126.2 bhp</td>\n",
       "      <td>5.0</td>\n",
       "      <td>NaN</td>\n",
       "      <td>12.50</td>\n",
       "    </tr>\n",
       "    <tr>\n",
       "      <th>2</th>\n",
       "      <td>2</td>\n",
       "      <td>other</td>\n",
       "      <td>Chennai</td>\n",
       "      <td>2011</td>\n",
       "      <td>46000</td>\n",
       "      <td>Petrol</td>\n",
       "      <td>0</td>\n",
       "      <td>3</td>\n",
       "      <td>18.2 kmpl</td>\n",
       "      <td>1199 CC</td>\n",
       "      <td>88.7 bhp</td>\n",
       "      <td>5.0</td>\n",
       "      <td>8.61 Lakh</td>\n",
       "      <td>4.50</td>\n",
       "    </tr>\n",
       "    <tr>\n",
       "      <th>3</th>\n",
       "      <td>3</td>\n",
       "      <td>Maruti Ertiga VDI</td>\n",
       "      <td>Chennai</td>\n",
       "      <td>2012</td>\n",
       "      <td>87000</td>\n",
       "      <td>Diesel</td>\n",
       "      <td>0</td>\n",
       "      <td>3</td>\n",
       "      <td>20.77 kmpl</td>\n",
       "      <td>1248 CC</td>\n",
       "      <td>88.76 bhp</td>\n",
       "      <td>7.0</td>\n",
       "      <td>NaN</td>\n",
       "      <td>6.00</td>\n",
       "    </tr>\n",
       "    <tr>\n",
       "      <th>4</th>\n",
       "      <td>4</td>\n",
       "      <td>Audi A4 New 2.0 TDI Multitronic</td>\n",
       "      <td>Coimbatore</td>\n",
       "      <td>2013</td>\n",
       "      <td>40670</td>\n",
       "      <td>Diesel</td>\n",
       "      <td>1</td>\n",
       "      <td>2</td>\n",
       "      <td>15.2 kmpl</td>\n",
       "      <td>1968 CC</td>\n",
       "      <td>140.8 bhp</td>\n",
       "      <td>5.0</td>\n",
       "      <td>NaN</td>\n",
       "      <td>17.74</td>\n",
       "    </tr>\n",
       "  </tbody>\n",
       "</table>\n",
       "</div>"
      ],
      "text/plain": [
       "   Unnamed: 0                              Name    Location  Year  \\\n",
       "0           0            Maruti Wagon R LXI CNG      Mumbai  2010   \n",
       "1           1  Hyundai Creta 1.6 CRDi SX Option        Pune  2015   \n",
       "2           2                             other     Chennai  2011   \n",
       "3           3                 Maruti Ertiga VDI     Chennai  2012   \n",
       "4           4   Audi A4 New 2.0 TDI Multitronic  Coimbatore  2013   \n",
       "\n",
       "   Kilometers_Driven Fuel_Type  Transmission  Owner_Type     Mileage   Engine  \\\n",
       "0              72000       CNG             0           3  26.6 km/kg   998 CC   \n",
       "1              41000    Diesel             0           3  19.67 kmpl  1582 CC   \n",
       "2              46000    Petrol             0           3   18.2 kmpl  1199 CC   \n",
       "3              87000    Diesel             0           3  20.77 kmpl  1248 CC   \n",
       "4              40670    Diesel             1           2   15.2 kmpl  1968 CC   \n",
       "\n",
       "       Power  Seats  New_Price  Price  \n",
       "0  58.16 bhp    5.0        NaN   1.75  \n",
       "1  126.2 bhp    5.0        NaN  12.50  \n",
       "2   88.7 bhp    5.0  8.61 Lakh   4.50  \n",
       "3  88.76 bhp    7.0        NaN   6.00  \n",
       "4  140.8 bhp    5.0        NaN  17.74  "
      ]
     },
     "execution_count": 682,
     "metadata": {},
     "output_type": "execute_result"
    }
   ],
   "source": [
    "df.head()"
   ]
  },
  {
   "cell_type": "markdown",
   "id": "5d35b616",
   "metadata": {},
   "source": [
    "### 7.Mileage"
   ]
  },
  {
   "cell_type": "code",
   "execution_count": 683,
   "id": "c734ebdc",
   "metadata": {},
   "outputs": [
    {
     "data": {
      "text/plain": [
       "442"
      ]
     },
     "execution_count": 683,
     "metadata": {},
     "output_type": "execute_result"
    }
   ],
   "source": [
    "df['Mileage'].nunique()"
   ]
  },
  {
   "cell_type": "code",
   "execution_count": 684,
   "id": "1b5be254",
   "metadata": {},
   "outputs": [
    {
     "data": {
      "text/plain": [
       "array(['26.6 km/kg', '19.67 kmpl', '18.2 kmpl', '20.77 kmpl', '15.2 kmpl',\n",
       "       '21.1 km/kg', '23.08 kmpl', '11.36 kmpl', '20.54 kmpl',\n",
       "       '22.3 kmpl', '21.56 kmpl', '16.8 kmpl', '25.2 kmpl', '12.7 kmpl',\n",
       "       '0.0 kmpl', '13.5 kmpl', '25.8 kmpl', '28.4 kmpl', '20.45 kmpl',\n",
       "       '14.84 kmpl', '22.69 kmpl', '23.65 kmpl', '13.53 kmpl',\n",
       "       '18.5 kmpl', '14.4 kmpl', '20.92 kmpl', '17.5 kmpl', '12.8 kmpl',\n",
       "       '19.01 kmpl', '14.53 kmpl', '11.18 kmpl', '12.4 kmpl',\n",
       "       '16.09 kmpl', '14.0 kmpl', '24.3 kmpl', '18.15 kmpl', '11.74 kmpl',\n",
       "       '22.07 kmpl', '19.7 kmpl', '25.4 kmpl', '25.32 kmpl', '14.62 kmpl',\n",
       "       '14.28 kmpl', '14.9 kmpl', '11.25 kmpl', '24.4 kmpl', '16.55 kmpl',\n",
       "       '17.11 kmpl', '22.9 kmpl', '17.8 kmpl', '18.9 kmpl', '15.04 kmpl',\n",
       "       '25.17 kmpl', '20.36 kmpl', '13.29 kmpl', '13.68 kmpl',\n",
       "       '20.0 kmpl', '15.8 kmpl', '25.0 kmpl', '16.4 kmpl', '24.52 kmpl',\n",
       "       '22.1 kmpl', '8.5 kmpl', '15.1 kmpl', '16.95 kmpl', '19.64 kmpl',\n",
       "       '16.5 kmpl', '18.53 kmpl', '17.57 kmpl', '18.0 kmpl', '23.2 kmpl',\n",
       "       '16.73 kmpl', '17.0 kmpl', '13.0 kmpl', '17.68 kmpl', '22.7 kmpl',\n",
       "       '16.2 kmpl', '15.26 kmpl', '23.0 kmpl', '19.83 kmpl', '14.94 kmpl',\n",
       "       '17.71 kmpl', '14.74 kmpl', '16.0 kmpl', '22.32 kmpl',\n",
       "       '12.99 kmpl', '23.3 kmpl', '19.15 kmpl', '10.8 kmpl', '15.0 kmpl',\n",
       "       '22.0 kmpl', '21.9 kmpl', '12.05 kmpl', '11.7 kmpl', '21.21 kmpl',\n",
       "       '20.73 kmpl', '21.1 kmpl', '24.07 kmpl', '19.0 kmpl', '20.58 kmpl',\n",
       "       '19.27 kmpl', '11.5 kmpl', '18.6 kmpl', '21.14 kmpl', '11.05 kmpl',\n",
       "       '21.76 kmpl', '7.81 kmpl', '21.66 kmpl', '17.2 kmpl', '20.63 kmpl',\n",
       "       '19.4 kmpl', '14.8 kmpl', '26.0 kmpl', '20.4 kmpl', '21.5 kmpl',\n",
       "       '15.3 kmpl', '17.9 kmpl', '16.6 kmpl', '22.54 kmpl', '25.44 kmpl',\n",
       "       '13.7 kmpl', '22.48 kmpl', '12.9 kmpl', '19.98 kmpl', '21.4 kmpl',\n",
       "       '19.81 kmpl', '15.4 kmpl', '25.47 kmpl', '19.87 kmpl',\n",
       "       '17.45 kmpl', '14.7 kmpl', '15.64 kmpl', '15.73 kmpl',\n",
       "       '23.59 kmpl', '16.1 kmpl', '27.4 kmpl', '20.46 kmpl', '15.29 kmpl',\n",
       "       '20.51 kmpl', '11.8 kmpl', '14.3 kmpl', '14.67 kmpl', '17.19 kmpl',\n",
       "       '21.03 kmpl', '22.5 kmpl', '16.82 kmpl', '11.72 kmpl', '17.4 kmpl',\n",
       "       '17.05 kmpl', '24.0 kmpl', '28.09 kmpl', '20.5 kmpl', '13.1 kmpl',\n",
       "       '19.91 kmpl', '18.7 kmpl', '16.38 kmpl', '11.57 kmpl', '17.3 kmpl',\n",
       "       '22.95 kmpl', '18.88 kmpl', '23.4 kmpl', '22.74 kmpl',\n",
       "       '12.07 kmpl', '17.1 kmpl', '18.48 kmpl', '16.47 kmpl', '23.1 kmpl',\n",
       "       '14.07 kmpl', '16.02 kmpl', '19.3 kmpl', '17.7 kmpl', '9.52 kmpl',\n",
       "       '14.75 kmpl', '26.3 km/kg', '11.3 kmpl', '21.12 kmpl',\n",
       "       '21.02 kmpl', '14.45 kmpl', '19.33 kmpl', '13.8 kmpl', '24.7 kmpl',\n",
       "       '11.0 kmpl', '11.07 kmpl', '21.43 kmpl', '14.21 kmpl',\n",
       "       '18.86 kmpl', '16.07 kmpl', '13.49 kmpl', '20.38 kmpl',\n",
       "       '12.0 kmpl', '17.01 kmpl', '13.2 kmpl', '20.37 kmpl', '15.1 km/kg',\n",
       "       '15.96 kmpl', '14.16 kmpl', '13.17 kmpl', '27.62 kmpl',\n",
       "       '25.1 kmpl', '15.17 kmpl', '11.33 kmpl', '17.92 kmpl',\n",
       "       '12.55 kmpl', '12.6 kmpl', '17.72 kmpl', '18.16 kmpl',\n",
       "       '15.68 kmpl', '15.5 kmpl', '12.1 kmpl', '14.83 kmpl', '17.6 kmpl',\n",
       "       '14.6 kmpl', '14.66 kmpl', '10.93 kmpl', '20.68 kmpl', '9.9 kmpl',\n",
       "       '21.13 kmpl', '20.14 kmpl', '19.2 kmpl', '27.3 kmpl', '16.36 kmpl',\n",
       "       '26.59 kmpl', '12.5 kmpl', '13.6 kmpl', '15.06 kmpl', '10.13 kmpl',\n",
       "       '17.21 kmpl', '15.97 kmpl', '10.5 kmpl', '14.69 kmpl', '23.9 kmpl',\n",
       "       '19.1 kmpl', '21.27 kmpl', '15.9 kmpl', '20.7 kmpl', '14.1 kmpl',\n",
       "       '20.89 kmpl', '18.12 kmpl', '12.3 kmpl', '19.71 kmpl', '9.43 kmpl',\n",
       "       '13.4 kmpl', '13.14 kmpl', '18.1 kmpl', '22.77 kmpl', '14.49 kmpl',\n",
       "       '12.39 kmpl', '10.91 kmpl', '20.85 kmpl', '15.63 kmpl',\n",
       "       '27.39 kmpl', '18.3 kmpl', '16.78 kmpl', '25.5 kmpl', '10.0 kmpl',\n",
       "       '13.73 kmpl', '24.2 kmpl', '14.02 kmpl', '26.83 km/kg',\n",
       "       '16.77 kmpl', '24.5 kmpl', '20.34 kmpl', '21.7 kmpl', '9.7 kmpl',\n",
       "       '14.33 kmpl', '21.64 kmpl', '13.2 km/kg', '19.16 kmpl',\n",
       "       '16.93 kmpl', '9.0 kmpl', '26.2 km/kg', '16.3 kmpl', '12.62 kmpl',\n",
       "       '17.3 km/kg', '20.64 kmpl', '14.24 kmpl', '18.06 kmpl',\n",
       "       '10.2 kmpl', '10.1 kmpl', '18.25 kmpl', '13.93 kmpl', '25.83 kmpl',\n",
       "       '8.6 kmpl', '13.24 kmpl', '17.09 kmpl', '23.84 kmpl', '8.45 kmpl',\n",
       "       '19.6 kmpl', '19.5 kmpl', '20.3 kmpl', '16.05 kmpl', '11.2 kmpl',\n",
       "       '27.03 kmpl', '18.78 kmpl', '12.35 kmpl', '14.59 kmpl',\n",
       "       '17.32 kmpl', '14.95 kmpl', '13.22 kmpl', '23.03 kmpl',\n",
       "       '33.44 km/kg', '15.6 kmpl', '19.12 kmpl', '10.98 kmpl',\n",
       "       '33.54 km/kg', '16.46 kmpl', '18.4 kmpl', '11.1 kmpl',\n",
       "       '13.01 kmpl', '18.8 kmpl', '16.52 kmpl', '18.44 kmpl',\n",
       "       '19.49 kmpl', '23.5 kmpl', '23.8 kmpl', '12.65 kmpl', '20.65 kmpl',\n",
       "       '21.72 kmpl', '12.19 kmpl', '26.1 kmpl', '18.33 kmpl',\n",
       "       '12.81 kmpl', '17.5 km/kg', '17.06 kmpl', '17.67 kmpl',\n",
       "       '19.34 kmpl', '8.3 kmpl', '16.96 kmpl', '11.79 kmpl', '20.86 kmpl',\n",
       "       '16.98 kmpl', '11.68 kmpl', '15.74 kmpl', '15.7 kmpl',\n",
       "       '18.49 kmpl', '10.9 kmpl', '19.59 kmpl', '11.4 kmpl', '13.06 kmpl',\n",
       "       '21.0 kmpl', '15.15 kmpl', '16.9 kmpl', '18.23 kmpl', '25.0 km/kg',\n",
       "       '17.16 kmpl', '17.43 kmpl', '19.08 kmpl', '18.56 kmpl',\n",
       "       '11.9 kmpl', '24.6 km/kg', '21.79 kmpl', '12.95 kmpl', '25.6 kmpl',\n",
       "       '13.45 km/kg', '26.21 kmpl', '13.58 kmpl', '16.25 kmpl',\n",
       "       '10.4 kmpl', '17.44 kmpl', '19.2 km/kg', '22.71 kmpl',\n",
       "       '17.54 kmpl', '22.1 km/kg', '17.0 km/kg', '15.87 kmpl', '9.5 kmpl',\n",
       "       '11.56 kmpl', '14.39 kmpl', '19.09 kmpl', '17.85 kmpl',\n",
       "       '31.79 km/kg', '18.18 kmpl', '21.19 kmpl', '21.8 kmpl',\n",
       "       '15.42 kmpl', '14.47 kmpl', '19.69 kmpl', '12.83 kmpl', '8.0 kmpl',\n",
       "       '22.8 km/kg', '12.63 kmpl', '14.57 kmpl', '27.28 kmpl',\n",
       "       '15.41 kmpl', '32.26 km/kg', '18.19 kmpl', '13.33 kmpl',\n",
       "       '16.7 kmpl', '17.84 kmpl', '20.0 km/kg', '23.19 kmpl',\n",
       "       '11.49 kmpl', '18.51 kmpl', '13.44 kmpl', '8.7 kmpl', '8.77 kmpl',\n",
       "       '17.97 kmpl', '23.57 kmpl', '12.37 kmpl', '9.1 kmpl', '12.51 kmpl',\n",
       "       '19.44 kmpl', '21.38 kmpl', '16.51 kmpl', '24.8 kmpl',\n",
       "       '14.42 kmpl', '14.53 km/kg', '26.8 kmpl', '24.04 kmpl', '9.8 kmpl',\n",
       "       '19.68 kmpl', '21.4 km/kg', '21.2 kmpl', '19.72 kmpl', '14.2 kmpl',\n",
       "       '12.98 kmpl', '23.01 kmpl', '16.12 kmpl', '9.3 kmpl', '15.85 kmpl',\n",
       "       nan, '17.88 kmpl', '10.6 kmpl', '11.78 kmpl', '7.94 kmpl',\n",
       "       '25.01 kmpl', '8.1 kmpl', '13.9 kmpl', '11.62 kmpl', '20.62 kmpl',\n",
       "       '15.11 kmpl', '10.37 kmpl', '18.59 kmpl', '9.74 kmpl',\n",
       "       '14.81 kmpl', '8.2 kmpl', '12.97 kmpl', '7.5 kmpl', '30.46 km/kg',\n",
       "       '6.4 kmpl', '12.85 kmpl', '18.69 kmpl', '17.24 kmpl'], dtype=object)"
      ]
     },
     "execution_count": 684,
     "metadata": {},
     "output_type": "execute_result"
    }
   ],
   "source": [
    "df['Mileage'].unique()"
   ]
  },
  {
   "cell_type": "code",
   "execution_count": 685,
   "id": "4e47e040",
   "metadata": {},
   "outputs": [],
   "source": [
    "df['Mileage']=df['Mileage'].fillna(df['Mileage'].mode()[0])"
   ]
  },
  {
   "cell_type": "code",
   "execution_count": 686,
   "id": "8efd9a2e",
   "metadata": {},
   "outputs": [
    {
     "data": {
      "text/plain": [
       "0"
      ]
     },
     "execution_count": 686,
     "metadata": {},
     "output_type": "execute_result"
    }
   ],
   "source": [
    "df['Mileage'].isna().sum()"
   ]
  },
  {
   "cell_type": "code",
   "execution_count": 687,
   "id": "470aaa86",
   "metadata": {},
   "outputs": [],
   "source": [
    "def clean(data):\n",
    "    return data.replace('kmpl','').replace('km/kg','') \n",
    "    "
   ]
  },
  {
   "cell_type": "code",
   "execution_count": 688,
   "id": "9bda8579",
   "metadata": {},
   "outputs": [],
   "source": [
    "df['Mileage']=df['Mileage'].apply(clean).astype('float')"
   ]
  },
  {
   "cell_type": "code",
   "execution_count": 689,
   "id": "b7326446",
   "metadata": {},
   "outputs": [
    {
     "data": {
      "text/html": [
       "<div>\n",
       "<style scoped>\n",
       "    .dataframe tbody tr th:only-of-type {\n",
       "        vertical-align: middle;\n",
       "    }\n",
       "\n",
       "    .dataframe tbody tr th {\n",
       "        vertical-align: top;\n",
       "    }\n",
       "\n",
       "    .dataframe thead th {\n",
       "        text-align: right;\n",
       "    }\n",
       "</style>\n",
       "<table border=\"1\" class=\"dataframe\">\n",
       "  <thead>\n",
       "    <tr style=\"text-align: right;\">\n",
       "      <th></th>\n",
       "      <th>Unnamed: 0</th>\n",
       "      <th>Name</th>\n",
       "      <th>Location</th>\n",
       "      <th>Year</th>\n",
       "      <th>Kilometers_Driven</th>\n",
       "      <th>Fuel_Type</th>\n",
       "      <th>Transmission</th>\n",
       "      <th>Owner_Type</th>\n",
       "      <th>Mileage</th>\n",
       "      <th>Engine</th>\n",
       "      <th>Power</th>\n",
       "      <th>Seats</th>\n",
       "      <th>New_Price</th>\n",
       "      <th>Price</th>\n",
       "    </tr>\n",
       "  </thead>\n",
       "  <tbody>\n",
       "    <tr>\n",
       "      <th>0</th>\n",
       "      <td>0</td>\n",
       "      <td>Maruti Wagon R LXI CNG</td>\n",
       "      <td>Mumbai</td>\n",
       "      <td>2010</td>\n",
       "      <td>72000</td>\n",
       "      <td>CNG</td>\n",
       "      <td>0</td>\n",
       "      <td>3</td>\n",
       "      <td>26.60</td>\n",
       "      <td>998 CC</td>\n",
       "      <td>58.16 bhp</td>\n",
       "      <td>5.0</td>\n",
       "      <td>NaN</td>\n",
       "      <td>1.75</td>\n",
       "    </tr>\n",
       "    <tr>\n",
       "      <th>1</th>\n",
       "      <td>1</td>\n",
       "      <td>Hyundai Creta 1.6 CRDi SX Option</td>\n",
       "      <td>Pune</td>\n",
       "      <td>2015</td>\n",
       "      <td>41000</td>\n",
       "      <td>Diesel</td>\n",
       "      <td>0</td>\n",
       "      <td>3</td>\n",
       "      <td>19.67</td>\n",
       "      <td>1582 CC</td>\n",
       "      <td>126.2 bhp</td>\n",
       "      <td>5.0</td>\n",
       "      <td>NaN</td>\n",
       "      <td>12.50</td>\n",
       "    </tr>\n",
       "    <tr>\n",
       "      <th>2</th>\n",
       "      <td>2</td>\n",
       "      <td>other</td>\n",
       "      <td>Chennai</td>\n",
       "      <td>2011</td>\n",
       "      <td>46000</td>\n",
       "      <td>Petrol</td>\n",
       "      <td>0</td>\n",
       "      <td>3</td>\n",
       "      <td>18.20</td>\n",
       "      <td>1199 CC</td>\n",
       "      <td>88.7 bhp</td>\n",
       "      <td>5.0</td>\n",
       "      <td>8.61 Lakh</td>\n",
       "      <td>4.50</td>\n",
       "    </tr>\n",
       "    <tr>\n",
       "      <th>3</th>\n",
       "      <td>3</td>\n",
       "      <td>Maruti Ertiga VDI</td>\n",
       "      <td>Chennai</td>\n",
       "      <td>2012</td>\n",
       "      <td>87000</td>\n",
       "      <td>Diesel</td>\n",
       "      <td>0</td>\n",
       "      <td>3</td>\n",
       "      <td>20.77</td>\n",
       "      <td>1248 CC</td>\n",
       "      <td>88.76 bhp</td>\n",
       "      <td>7.0</td>\n",
       "      <td>NaN</td>\n",
       "      <td>6.00</td>\n",
       "    </tr>\n",
       "    <tr>\n",
       "      <th>4</th>\n",
       "      <td>4</td>\n",
       "      <td>Audi A4 New 2.0 TDI Multitronic</td>\n",
       "      <td>Coimbatore</td>\n",
       "      <td>2013</td>\n",
       "      <td>40670</td>\n",
       "      <td>Diesel</td>\n",
       "      <td>1</td>\n",
       "      <td>2</td>\n",
       "      <td>15.20</td>\n",
       "      <td>1968 CC</td>\n",
       "      <td>140.8 bhp</td>\n",
       "      <td>5.0</td>\n",
       "      <td>NaN</td>\n",
       "      <td>17.74</td>\n",
       "    </tr>\n",
       "  </tbody>\n",
       "</table>\n",
       "</div>"
      ],
      "text/plain": [
       "   Unnamed: 0                              Name    Location  Year  \\\n",
       "0           0            Maruti Wagon R LXI CNG      Mumbai  2010   \n",
       "1           1  Hyundai Creta 1.6 CRDi SX Option        Pune  2015   \n",
       "2           2                             other     Chennai  2011   \n",
       "3           3                 Maruti Ertiga VDI     Chennai  2012   \n",
       "4           4   Audi A4 New 2.0 TDI Multitronic  Coimbatore  2013   \n",
       "\n",
       "   Kilometers_Driven Fuel_Type  Transmission  Owner_Type  Mileage   Engine  \\\n",
       "0              72000       CNG             0           3    26.60   998 CC   \n",
       "1              41000    Diesel             0           3    19.67  1582 CC   \n",
       "2              46000    Petrol             0           3    18.20  1199 CC   \n",
       "3              87000    Diesel             0           3    20.77  1248 CC   \n",
       "4              40670    Diesel             1           2    15.20  1968 CC   \n",
       "\n",
       "       Power  Seats  New_Price  Price  \n",
       "0  58.16 bhp    5.0        NaN   1.75  \n",
       "1  126.2 bhp    5.0        NaN  12.50  \n",
       "2   88.7 bhp    5.0  8.61 Lakh   4.50  \n",
       "3  88.76 bhp    7.0        NaN   6.00  \n",
       "4  140.8 bhp    5.0        NaN  17.74  "
      ]
     },
     "execution_count": 689,
     "metadata": {},
     "output_type": "execute_result"
    }
   ],
   "source": [
    "df.head()"
   ]
  },
  {
   "cell_type": "code",
   "execution_count": 690,
   "id": "b19eda8e",
   "metadata": {},
   "outputs": [
    {
     "data": {
      "text/plain": [
       "0       26.60\n",
       "1       19.67\n",
       "2       18.20\n",
       "3       20.77\n",
       "4       15.20\n",
       "        ...  \n",
       "6014    28.40\n",
       "6015    24.40\n",
       "6016    14.00\n",
       "6017    18.90\n",
       "6018    25.44\n",
       "Name: Mileage, Length: 6019, dtype: float64"
      ]
     },
     "execution_count": 690,
     "metadata": {},
     "output_type": "execute_result"
    }
   ],
   "source": [
    "df['Mileage']"
   ]
  },
  {
   "cell_type": "code",
   "execution_count": 691,
   "id": "ca012a46",
   "metadata": {},
   "outputs": [
    {
     "data": {
      "text/plain": [
       "<AxesSubplot:xlabel='Mileage'>"
      ]
     },
     "execution_count": 691,
     "metadata": {},
     "output_type": "execute_result"
    },
    {
     "data": {
      "image/png": "[encoded data removed]",
      "text/plain": [
       "<Figure size 432x288 with 1 Axes>"
      ]
     },
     "metadata": {
      "needs_background": "light"
     },
     "output_type": "display_data"
    }
   ],
   "source": [
    "sns.boxplot(df['Mileage'])"
   ]
  },
  {
   "cell_type": "markdown",
   "id": "5433e178",
   "metadata": {},
   "source": [
    "### 8.Engine"
   ]
  },
  {
   "cell_type": "code",
   "execution_count": 692,
   "id": "d61037a2",
   "metadata": {},
   "outputs": [
    {
     "data": {
      "text/plain": [
       "array(['998 CC', '1582 CC', '1199 CC', '1248 CC', '1968 CC', '814 CC',\n",
       "       '1461 CC', '2755 CC', '1598 CC', '1462 CC', '1497 CC', '2179 CC',\n",
       "       '2477 CC', '1498 CC', '2143 CC', '1995 CC', '1984 CC', '1197 CC',\n",
       "       '2494 CC', '1798 CC', '2696 CC', '2698 CC', '1061 CC', '1198 CC',\n",
       "       '2987 CC', '796 CC', '624 CC', '1999 CC', '1991 CC', '2694 CC',\n",
       "       '1120 CC', '2498 CC', '799 CC', '2393 CC', '1399 CC', '1796 CC',\n",
       "       '2148 CC', '1396 CC', '1950 CC', '4806 CC', '1998 CC', '1086 CC',\n",
       "       '1193 CC', '2982 CC', '1493 CC', '2967 CC', '2993 CC', '1196 CC',\n",
       "       '1799 CC', '2497 CC', '2354 CC', '1373 CC', '2996 CC', '1591 CC',\n",
       "       '2894 CC', '5461 CC', '1595 CC', '936 CC', '1997 CC', nan,\n",
       "       '1896 CC', '1390 CC', '1364 CC', '2199 CC', '993 CC', '999 CC',\n",
       "       '1405 CC', '2956 CC', '1794 CC', '995 CC', '2496 CC', '1599 CC',\n",
       "       '2400 CC', '1495 CC', '2523 CC', '793 CC', '4134 CC', '1596 CC',\n",
       "       '1395 CC', '2953 CC', '1586 CC', '2362 CC', '1496 CC', '1368 CC',\n",
       "       '1298 CC', '1956 CC', '1299 CC', '3498 CC', '2835 CC', '1150 CC',\n",
       "       '3198 CC', '1343 CC', '1499 CC', '1186 CC', '1590 CC', '2609 CC',\n",
       "       '2499 CC', '2446 CC', '1978 CC', '2360 CC', '3436 CC', '2198 CC',\n",
       "       '4367 CC', '2706 CC', '1422 CC', '2979 CC', '1969 CC', '1489 CC',\n",
       "       '2489 CC', '1242 CC', '1388 CC', '1172 CC', '2495 CC', '1194 CC',\n",
       "       '3200 CC', '1781 CC', '1341 CC', '2773 CC', '3597 CC', '1985 CC',\n",
       "       '2147 CC', '1047 CC', '2999 CC', '2995 CC', '2997 CC', '1948 CC',\n",
       "       '2359 CC', '4395 CC', '2349 CC', '2720 CC', '1468 CC', '3197 CC',\n",
       "       '2487 CC', '1597 CC', '2771 CC', '72 CC', '4951 CC', '970 CC',\n",
       "       '2925 CC', '2200 CC', '5000 CC', '2149 CC', '5998 CC', '2092 CC',\n",
       "       '5204 CC', '2112 CC', '1797 CC'], dtype=object)"
      ]
     },
     "execution_count": 692,
     "metadata": {},
     "output_type": "execute_result"
    }
   ],
   "source": [
    "df['Engine'].unique()"
   ]
  },
  {
   "cell_type": "code",
   "execution_count": 693,
   "id": "45e2dd3e",
   "metadata": {},
   "outputs": [],
   "source": [
    "df['Engine']=df['Engine'].fillna(df['Engine'].mode()[0])"
   ]
  },
  {
   "cell_type": "code",
   "execution_count": 694,
   "id": "eab06a3d",
   "metadata": {},
   "outputs": [
    {
     "data": {
      "text/plain": [
       "0"
      ]
     },
     "execution_count": 694,
     "metadata": {},
     "output_type": "execute_result"
    }
   ],
   "source": [
    "df['Engine'].isna().sum()"
   ]
  },
  {
   "cell_type": "code",
   "execution_count": null,
   "id": "c5007d07",
   "metadata": {},
   "outputs": [],
   "source": []
  },
  {
   "cell_type": "code",
   "execution_count": 695,
   "id": "297954d4",
   "metadata": {},
   "outputs": [],
   "source": [
    "def fun(data):\n",
    "    return data.replace('CC','')"
   ]
  },
  {
   "cell_type": "code",
   "execution_count": 696,
   "id": "e170088a",
   "metadata": {},
   "outputs": [],
   "source": [
    "df['Engine']=df['Engine'].apply(fun).astype('int')"
   ]
  },
  {
   "cell_type": "code",
   "execution_count": 697,
   "id": "c8385657",
   "metadata": {},
   "outputs": [
    {
     "data": {
      "text/html": [
       "<div>\n",
       "<style scoped>\n",
       "    .dataframe tbody tr th:only-of-type {\n",
       "        vertical-align: middle;\n",
       "    }\n",
       "\n",
       "    .dataframe tbody tr th {\n",
       "        vertical-align: top;\n",
       "    }\n",
       "\n",
       "    .dataframe thead th {\n",
       "        text-align: right;\n",
       "    }\n",
       "</style>\n",
       "<table border=\"1\" class=\"dataframe\">\n",
       "  <thead>\n",
       "    <tr style=\"text-align: right;\">\n",
       "      <th></th>\n",
       "      <th>Unnamed: 0</th>\n",
       "      <th>Name</th>\n",
       "      <th>Location</th>\n",
       "      <th>Year</th>\n",
       "      <th>Kilometers_Driven</th>\n",
       "      <th>Fuel_Type</th>\n",
       "      <th>Transmission</th>\n",
       "      <th>Owner_Type</th>\n",
       "      <th>Mileage</th>\n",
       "      <th>Engine</th>\n",
       "      <th>Power</th>\n",
       "      <th>Seats</th>\n",
       "      <th>New_Price</th>\n",
       "      <th>Price</th>\n",
       "    </tr>\n",
       "  </thead>\n",
       "  <tbody>\n",
       "    <tr>\n",
       "      <th>0</th>\n",
       "      <td>0</td>\n",
       "      <td>Maruti Wagon R LXI CNG</td>\n",
       "      <td>Mumbai</td>\n",
       "      <td>2010</td>\n",
       "      <td>72000</td>\n",
       "      <td>CNG</td>\n",
       "      <td>0</td>\n",
       "      <td>3</td>\n",
       "      <td>26.60</td>\n",
       "      <td>998</td>\n",
       "      <td>58.16 bhp</td>\n",
       "      <td>5.0</td>\n",
       "      <td>NaN</td>\n",
       "      <td>1.75</td>\n",
       "    </tr>\n",
       "    <tr>\n",
       "      <th>1</th>\n",
       "      <td>1</td>\n",
       "      <td>Hyundai Creta 1.6 CRDi SX Option</td>\n",
       "      <td>Pune</td>\n",
       "      <td>2015</td>\n",
       "      <td>41000</td>\n",
       "      <td>Diesel</td>\n",
       "      <td>0</td>\n",
       "      <td>3</td>\n",
       "      <td>19.67</td>\n",
       "      <td>1582</td>\n",
       "      <td>126.2 bhp</td>\n",
       "      <td>5.0</td>\n",
       "      <td>NaN</td>\n",
       "      <td>12.50</td>\n",
       "    </tr>\n",
       "    <tr>\n",
       "      <th>2</th>\n",
       "      <td>2</td>\n",
       "      <td>other</td>\n",
       "      <td>Chennai</td>\n",
       "      <td>2011</td>\n",
       "      <td>46000</td>\n",
       "      <td>Petrol</td>\n",
       "      <td>0</td>\n",
       "      <td>3</td>\n",
       "      <td>18.20</td>\n",
       "      <td>1199</td>\n",
       "      <td>88.7 bhp</td>\n",
       "      <td>5.0</td>\n",
       "      <td>8.61 Lakh</td>\n",
       "      <td>4.50</td>\n",
       "    </tr>\n",
       "    <tr>\n",
       "      <th>3</th>\n",
       "      <td>3</td>\n",
       "      <td>Maruti Ertiga VDI</td>\n",
       "      <td>Chennai</td>\n",
       "      <td>2012</td>\n",
       "      <td>87000</td>\n",
       "      <td>Diesel</td>\n",
       "      <td>0</td>\n",
       "      <td>3</td>\n",
       "      <td>20.77</td>\n",
       "      <td>1248</td>\n",
       "      <td>88.76 bhp</td>\n",
       "      <td>7.0</td>\n",
       "      <td>NaN</td>\n",
       "      <td>6.00</td>\n",
       "    </tr>\n",
       "    <tr>\n",
       "      <th>4</th>\n",
       "      <td>4</td>\n",
       "      <td>Audi A4 New 2.0 TDI Multitronic</td>\n",
       "      <td>Coimbatore</td>\n",
       "      <td>2013</td>\n",
       "      <td>40670</td>\n",
       "      <td>Diesel</td>\n",
       "      <td>1</td>\n",
       "      <td>2</td>\n",
       "      <td>15.20</td>\n",
       "      <td>1968</td>\n",
       "      <td>140.8 bhp</td>\n",
       "      <td>5.0</td>\n",
       "      <td>NaN</td>\n",
       "      <td>17.74</td>\n",
       "    </tr>\n",
       "  </tbody>\n",
       "</table>\n",
       "</div>"
      ],
      "text/plain": [
       "   Unnamed: 0                              Name    Location  Year  \\\n",
       "0           0            Maruti Wagon R LXI CNG      Mumbai  2010   \n",
       "1           1  Hyundai Creta 1.6 CRDi SX Option        Pune  2015   \n",
       "2           2                             other     Chennai  2011   \n",
       "3           3                 Maruti Ertiga VDI     Chennai  2012   \n",
       "4           4   Audi A4 New 2.0 TDI Multitronic  Coimbatore  2013   \n",
       "\n",
       "   Kilometers_Driven Fuel_Type  Transmission  Owner_Type  Mileage  Engine  \\\n",
       "0              72000       CNG             0           3    26.60     998   \n",
       "1              41000    Diesel             0           3    19.67    1582   \n",
       "2              46000    Petrol             0           3    18.20    1199   \n",
       "3              87000    Diesel             0           3    20.77    1248   \n",
       "4              40670    Diesel             1           2    15.20    1968   \n",
       "\n",
       "       Power  Seats  New_Price  Price  \n",
       "0  58.16 bhp    5.0        NaN   1.75  \n",
       "1  126.2 bhp    5.0        NaN  12.50  \n",
       "2   88.7 bhp    5.0  8.61 Lakh   4.50  \n",
       "3  88.76 bhp    7.0        NaN   6.00  \n",
       "4  140.8 bhp    5.0        NaN  17.74  "
      ]
     },
     "execution_count": 697,
     "metadata": {},
     "output_type": "execute_result"
    }
   ],
   "source": [
    "df.head()"
   ]
  },
  {
   "cell_type": "markdown",
   "id": "d42632fe",
   "metadata": {},
   "source": [
    "### 9.Power"
   ]
  },
  {
   "cell_type": "code",
   "execution_count": 698,
   "id": "e2c116eb",
   "metadata": {},
   "outputs": [
    {
     "data": {
      "text/plain": [
       "array(['58.16 bhp', '126.2 bhp', '88.7 bhp', '88.76 bhp', '140.8 bhp',\n",
       "       '55.2 bhp', '63.1 bhp', '171.5 bhp', '103.6 bhp', '74 bhp',\n",
       "       '103.25 bhp', '116.3 bhp', '187.7 bhp', '115 bhp', '175.56 bhp',\n",
       "       '98.6 bhp', '83.8 bhp', '167.62 bhp', '190 bhp', '88.5 bhp',\n",
       "       '177.01 bhp', '80 bhp', '67.1 bhp', '102 bhp', '108.45 bhp',\n",
       "       '138.1 bhp', '184 bhp', '179.5 bhp', '103.5 bhp', '64 bhp',\n",
       "       '82 bhp', '254.8 bhp', '73.9 bhp', '46.3 bhp', '37.5 bhp',\n",
       "       '77 bhp', '82.9 bhp', '149.92 bhp', '138.03 bhp', '112.2 bhp',\n",
       "       '163.7 bhp', '71 bhp', '105 bhp', '174.33 bhp', '75 bhp',\n",
       "       '103.2 bhp', '53.3 bhp', '78.9 bhp', '147.6 bhp', '147.8 bhp',\n",
       "       '68 bhp', '186 bhp', '170 bhp', '69 bhp', '140 bhp', '78 bhp',\n",
       "       '194 bhp', '500 bhp', '108.5 bhp', '86.8 bhp', '187.74 bhp',\n",
       "       'null bhp', '132 bhp', '86.7 bhp', '73.94 bhp', '117.3 bhp',\n",
       "       '218 bhp', '168.5 bhp', '89.84 bhp', '110 bhp', '90 bhp',\n",
       "       '82.85 bhp', '67 bhp', '241.4 bhp', '35 bhp', '270.9 bhp',\n",
       "       '126.32 bhp', '73 bhp', '130 bhp', '100.6 bhp', '150 bhp',\n",
       "       '75.94 bhp', '215 bhp', '107.3 bhp', '37.48 bhp', '120 bhp',\n",
       "       '178 bhp', '152 bhp', '91.1 bhp', '85.80 bhp', '362.07 bhp',\n",
       "       '121.3 bhp', '143 bhp', '81.80 bhp', '171 bhp', '76.8 bhp',\n",
       "       '103.52 bhp', '444 bhp', '362.9 bhp', '67.06 bhp', '120.7 bhp',\n",
       "       '258 bhp', '81.86 bhp', '112 bhp', '88.73 bhp', '57.6 bhp',\n",
       "       '157.75 bhp', '102.5 bhp', '201.1 bhp', '83.1 bhp', '68.05 bhp',\n",
       "       '88.50 bhp', nan, '106 bhp', '100 bhp', '81.83 bhp', '85 bhp',\n",
       "       '64.1 bhp', '177.5 bhp', '246.7 bhp', '177.46 bhp', '65 bhp',\n",
       "       '67.04 bhp', '189.08 bhp', '99 bhp', '53.5 bhp', '194.3 bhp',\n",
       "       '70 bhp', '183 bhp', '254.79 bhp', '66.1 bhp', '76 bhp', '60 bhp',\n",
       "       '123.24 bhp', '47.3 bhp', '118 bhp', '88.8 bhp', '177 bhp',\n",
       "       '136 bhp', '201.15 bhp', '93.7 bhp', '177.6 bhp', '313 bhp',\n",
       "       '245 bhp', '125 bhp', '141 bhp', '227 bhp', '62 bhp', '141.1 bhp',\n",
       "       '83.14 bhp', '192 bhp', '67.05 bhp', '47 bhp', '235 bhp', '37 bhp',\n",
       "       '87.2 bhp', '203 bhp', '204 bhp', '246.74 bhp', '122 bhp',\n",
       "       '282 bhp', '181 bhp', '224 bhp', '94 bhp', '367 bhp', '98.79 bhp',\n",
       "       '62.1 bhp', '174.3 bhp', '114 bhp', '335.2 bhp', '169 bhp',\n",
       "       '191.34 bhp', '108.49 bhp', '138.02 bhp', '156 bhp', '187.4 bhp',\n",
       "       '66 bhp', '103.3 bhp', '164.7 bhp', '79.4 bhp', '198.5 bhp',\n",
       "       '154 bhp', '73.8 bhp', '181.43 bhp', '85.8 bhp', '207.8 bhp',\n",
       "       '108.4 bhp', '88 bhp', '63 bhp', '82.5 bhp', '364.9 bhp',\n",
       "       '107.2 bhp', '113.98 bhp', '126.3 bhp', '185 bhp', '237.4 bhp',\n",
       "       '99.6 bhp', '66.7 bhp', '160 bhp', '306 bhp', '98.59 bhp',\n",
       "       '92.7 bhp', '147.51 bhp', '197.2 bhp', '167.6 bhp', '165 bhp',\n",
       "       '110.4 bhp', '73.97 bhp', '147.9 bhp', '116.6 bhp', '148 bhp',\n",
       "       '34.2 bhp', '155 bhp', '197 bhp', '108.62 bhp', '118.3 bhp',\n",
       "       '38.4 bhp', '241.38 bhp', '153.86 bhp', '163.5 bhp', '226.6 bhp',\n",
       "       '84.8 bhp', '53.64 bhp', '158.2 bhp', '69.01 bhp', '181.03 bhp',\n",
       "       '58.2 bhp', '104.68 bhp', '126.24 bhp', '73.75 bhp', '158 bhp',\n",
       "       '130.2 bhp', '57.5 bhp', '97.7 bhp', '121.4 bhp', '98.96 bhp',\n",
       "       '174.5 bhp', '308 bhp', '121.36 bhp', '138 bhp', '265 bhp',\n",
       "       '84 bhp', '321 bhp', '91.72 bhp', '65.3 bhp', '88.2 bhp', '93 bhp',\n",
       "       '35.5 bhp', '86.79 bhp', '157.7 bhp', '40.3 bhp', '91.7 bhp',\n",
       "       '180 bhp', '114.4 bhp', '158.8 bhp', '157.8 bhp', '123.7 bhp',\n",
       "       '56.3 bhp', '189 bhp', '104 bhp', '210 bhp', '270.88 bhp',\n",
       "       '142 bhp', '255 bhp', '236 bhp', '167.7 bhp', '148.31 bhp',\n",
       "       '80.46 bhp', '138.08 bhp', '250 bhp', '74.9 bhp', '91.2 bhp',\n",
       "       '102.57 bhp', '97.6 bhp', '102.53 bhp', '240 bhp', '254 bhp',\n",
       "       '112.4 bhp', '73.74 bhp', '108.495 bhp', '116.9 bhp', '101 bhp',\n",
       "       '320 bhp', '70.02 bhp', '261.49 bhp', '105.5 bhp', '550 bhp',\n",
       "       '168.7 bhp', '55.23 bhp', '94.68 bhp', '152.88 bhp', '163.2 bhp',\n",
       "       '203.2 bhp', '241 bhp', '95 bhp', '200 bhp', '271.23 bhp',\n",
       "       '63.12 bhp', '85.7 bhp', '308.43 bhp', '118.6 bhp', '199.3 bhp',\n",
       "       '83.83 bhp', '55 bhp', '83 bhp', '300 bhp', '201 bhp', '262.6 bhp',\n",
       "       '163 bhp', '58.33 bhp', '86.76 bhp', '76.9 bhp', '174.57 bhp',\n",
       "       '301.73 bhp', '68.1 bhp', '162 bhp', '394.3 bhp', '80.9 bhp',\n",
       "       '147.5 bhp', '272 bhp', '340 bhp', '120.33 bhp', '82.4 bhp',\n",
       "       '231.1 bhp', '335.3 bhp', '333 bhp', '198.25 bhp', '224.34 bhp',\n",
       "       '402 bhp', '261 bhp', '61 bhp', '144 bhp', '71.01 bhp',\n",
       "       '271.72 bhp', '134 bhp', '135.1 bhp', '92 bhp', '64.08 bhp',\n",
       "       '261.5 bhp', '123.37 bhp', '175.67 bhp', '53 bhp', '110.5 bhp',\n",
       "       '178.4 bhp', '193.1 bhp', '41 bhp', '395 bhp', '48.21 bhp',\n",
       "       '450 bhp', '421 bhp', '89.75 bhp', '387.3 bhp', '130.3 bhp',\n",
       "       '281.61 bhp', '52.8 bhp', '139.01 bhp', '208 bhp', '503 bhp',\n",
       "       '168 bhp', '98.82 bhp', '139.07 bhp', '83.11 bhp', '74.93 bhp',\n",
       "       '382 bhp', '74.96 bhp', '552 bhp', '127 bhp', '560 bhp',\n",
       "       '116.4 bhp', '161.6 bhp', '488.1 bhp', '103 bhp', '181.04 bhp'],\n",
       "      dtype=object)"
      ]
     },
     "execution_count": 698,
     "metadata": {},
     "output_type": "execute_result"
    }
   ],
   "source": [
    "df['Power'].unique()"
   ]
  },
  {
   "cell_type": "code",
   "execution_count": 699,
   "id": "f0451609",
   "metadata": {},
   "outputs": [
    {
     "data": {
      "text/plain": [
       "36"
      ]
     },
     "execution_count": 699,
     "metadata": {},
     "output_type": "execute_result"
    }
   ],
   "source": [
    "df['Power'].isna().sum()"
   ]
  },
  {
   "cell_type": "code",
   "execution_count": 700,
   "id": "67839721",
   "metadata": {},
   "outputs": [],
   "source": [
    "df['Power']=df['Power'].fillna(df['Power'].mode()[0])"
   ]
  },
  {
   "cell_type": "code",
   "execution_count": 701,
   "id": "f28f672b",
   "metadata": {},
   "outputs": [
    {
     "data": {
      "text/plain": [
       "array(['58.16 bhp', '126.2 bhp', '88.7 bhp', '88.76 bhp', '140.8 bhp',\n",
       "       '55.2 bhp', '63.1 bhp', '171.5 bhp', '103.6 bhp', '74 bhp',\n",
       "       '103.25 bhp', '116.3 bhp', '187.7 bhp', '115 bhp', '175.56 bhp',\n",
       "       '98.6 bhp', '83.8 bhp', '167.62 bhp', '190 bhp', '88.5 bhp',\n",
       "       '177.01 bhp', '80 bhp', '67.1 bhp', '102 bhp', '108.45 bhp',\n",
       "       '138.1 bhp', '184 bhp', '179.5 bhp', '103.5 bhp', '64 bhp',\n",
       "       '82 bhp', '254.8 bhp', '73.9 bhp', '46.3 bhp', '37.5 bhp',\n",
       "       '77 bhp', '82.9 bhp', '149.92 bhp', '138.03 bhp', '112.2 bhp',\n",
       "       '163.7 bhp', '71 bhp', '105 bhp', '174.33 bhp', '75 bhp',\n",
       "       '103.2 bhp', '53.3 bhp', '78.9 bhp', '147.6 bhp', '147.8 bhp',\n",
       "       '68 bhp', '186 bhp', '170 bhp', '69 bhp', '140 bhp', '78 bhp',\n",
       "       '194 bhp', '500 bhp', '108.5 bhp', '86.8 bhp', '187.74 bhp',\n",
       "       'null bhp', '132 bhp', '86.7 bhp', '73.94 bhp', '117.3 bhp',\n",
       "       '218 bhp', '168.5 bhp', '89.84 bhp', '110 bhp', '90 bhp',\n",
       "       '82.85 bhp', '67 bhp', '241.4 bhp', '35 bhp', '270.9 bhp',\n",
       "       '126.32 bhp', '73 bhp', '130 bhp', '100.6 bhp', '150 bhp',\n",
       "       '75.94 bhp', '215 bhp', '107.3 bhp', '37.48 bhp', '120 bhp',\n",
       "       '178 bhp', '152 bhp', '91.1 bhp', '85.80 bhp', '362.07 bhp',\n",
       "       '121.3 bhp', '143 bhp', '81.80 bhp', '171 bhp', '76.8 bhp',\n",
       "       '103.52 bhp', '444 bhp', '362.9 bhp', '67.06 bhp', '120.7 bhp',\n",
       "       '258 bhp', '81.86 bhp', '112 bhp', '88.73 bhp', '57.6 bhp',\n",
       "       '157.75 bhp', '102.5 bhp', '201.1 bhp', '83.1 bhp', '68.05 bhp',\n",
       "       '88.50 bhp', '106 bhp', '100 bhp', '81.83 bhp', '85 bhp',\n",
       "       '64.1 bhp', '177.5 bhp', '246.7 bhp', '177.46 bhp', '65 bhp',\n",
       "       '67.04 bhp', '189.08 bhp', '99 bhp', '53.5 bhp', '194.3 bhp',\n",
       "       '70 bhp', '183 bhp', '254.79 bhp', '66.1 bhp', '76 bhp', '60 bhp',\n",
       "       '123.24 bhp', '47.3 bhp', '118 bhp', '88.8 bhp', '177 bhp',\n",
       "       '136 bhp', '201.15 bhp', '93.7 bhp', '177.6 bhp', '313 bhp',\n",
       "       '245 bhp', '125 bhp', '141 bhp', '227 bhp', '62 bhp', '141.1 bhp',\n",
       "       '83.14 bhp', '192 bhp', '67.05 bhp', '47 bhp', '235 bhp', '37 bhp',\n",
       "       '87.2 bhp', '203 bhp', '204 bhp', '246.74 bhp', '122 bhp',\n",
       "       '282 bhp', '181 bhp', '224 bhp', '94 bhp', '367 bhp', '98.79 bhp',\n",
       "       '62.1 bhp', '174.3 bhp', '114 bhp', '335.2 bhp', '169 bhp',\n",
       "       '191.34 bhp', '108.49 bhp', '138.02 bhp', '156 bhp', '187.4 bhp',\n",
       "       '66 bhp', '103.3 bhp', '164.7 bhp', '79.4 bhp', '198.5 bhp',\n",
       "       '154 bhp', '73.8 bhp', '181.43 bhp', '85.8 bhp', '207.8 bhp',\n",
       "       '108.4 bhp', '88 bhp', '63 bhp', '82.5 bhp', '364.9 bhp',\n",
       "       '107.2 bhp', '113.98 bhp', '126.3 bhp', '185 bhp', '237.4 bhp',\n",
       "       '99.6 bhp', '66.7 bhp', '160 bhp', '306 bhp', '98.59 bhp',\n",
       "       '92.7 bhp', '147.51 bhp', '197.2 bhp', '167.6 bhp', '165 bhp',\n",
       "       '110.4 bhp', '73.97 bhp', '147.9 bhp', '116.6 bhp', '148 bhp',\n",
       "       '34.2 bhp', '155 bhp', '197 bhp', '108.62 bhp', '118.3 bhp',\n",
       "       '38.4 bhp', '241.38 bhp', '153.86 bhp', '163.5 bhp', '226.6 bhp',\n",
       "       '84.8 bhp', '53.64 bhp', '158.2 bhp', '69.01 bhp', '181.03 bhp',\n",
       "       '58.2 bhp', '104.68 bhp', '126.24 bhp', '73.75 bhp', '158 bhp',\n",
       "       '130.2 bhp', '57.5 bhp', '97.7 bhp', '121.4 bhp', '98.96 bhp',\n",
       "       '174.5 bhp', '308 bhp', '121.36 bhp', '138 bhp', '265 bhp',\n",
       "       '84 bhp', '321 bhp', '91.72 bhp', '65.3 bhp', '88.2 bhp', '93 bhp',\n",
       "       '35.5 bhp', '86.79 bhp', '157.7 bhp', '40.3 bhp', '91.7 bhp',\n",
       "       '180 bhp', '114.4 bhp', '158.8 bhp', '157.8 bhp', '123.7 bhp',\n",
       "       '56.3 bhp', '189 bhp', '104 bhp', '210 bhp', '270.88 bhp',\n",
       "       '142 bhp', '255 bhp', '236 bhp', '167.7 bhp', '148.31 bhp',\n",
       "       '80.46 bhp', '138.08 bhp', '250 bhp', '74.9 bhp', '91.2 bhp',\n",
       "       '102.57 bhp', '97.6 bhp', '102.53 bhp', '240 bhp', '254 bhp',\n",
       "       '112.4 bhp', '73.74 bhp', '108.495 bhp', '116.9 bhp', '101 bhp',\n",
       "       '320 bhp', '70.02 bhp', '261.49 bhp', '105.5 bhp', '550 bhp',\n",
       "       '168.7 bhp', '55.23 bhp', '94.68 bhp', '152.88 bhp', '163.2 bhp',\n",
       "       '203.2 bhp', '241 bhp', '95 bhp', '200 bhp', '271.23 bhp',\n",
       "       '63.12 bhp', '85.7 bhp', '308.43 bhp', '118.6 bhp', '199.3 bhp',\n",
       "       '83.83 bhp', '55 bhp', '83 bhp', '300 bhp', '201 bhp', '262.6 bhp',\n",
       "       '163 bhp', '58.33 bhp', '86.76 bhp', '76.9 bhp', '174.57 bhp',\n",
       "       '301.73 bhp', '68.1 bhp', '162 bhp', '394.3 bhp', '80.9 bhp',\n",
       "       '147.5 bhp', '272 bhp', '340 bhp', '120.33 bhp', '82.4 bhp',\n",
       "       '231.1 bhp', '335.3 bhp', '333 bhp', '198.25 bhp', '224.34 bhp',\n",
       "       '402 bhp', '261 bhp', '61 bhp', '144 bhp', '71.01 bhp',\n",
       "       '271.72 bhp', '134 bhp', '135.1 bhp', '92 bhp', '64.08 bhp',\n",
       "       '261.5 bhp', '123.37 bhp', '175.67 bhp', '53 bhp', '110.5 bhp',\n",
       "       '178.4 bhp', '193.1 bhp', '41 bhp', '395 bhp', '48.21 bhp',\n",
       "       '450 bhp', '421 bhp', '89.75 bhp', '387.3 bhp', '130.3 bhp',\n",
       "       '281.61 bhp', '52.8 bhp', '139.01 bhp', '208 bhp', '503 bhp',\n",
       "       '168 bhp', '98.82 bhp', '139.07 bhp', '83.11 bhp', '74.93 bhp',\n",
       "       '382 bhp', '74.96 bhp', '552 bhp', '127 bhp', '560 bhp',\n",
       "       '116.4 bhp', '161.6 bhp', '488.1 bhp', '103 bhp', '181.04 bhp'],\n",
       "      dtype=object)"
      ]
     },
     "execution_count": 701,
     "metadata": {},
     "output_type": "execute_result"
    }
   ],
   "source": [
    "df['Power'].unique()"
   ]
  },
  {
   "cell_type": "code",
   "execution_count": 702,
   "id": "c1aea2a5",
   "metadata": {},
   "outputs": [],
   "source": [
    "def c(data):\n",
    "    return data.replace('bhp','')"
   ]
  },
  {
   "cell_type": "code",
   "execution_count": 703,
   "id": "a0901b9b",
   "metadata": {},
   "outputs": [
    {
     "data": {
      "text/plain": [
       "0       58.16 \n",
       "1       126.2 \n",
       "2        88.7 \n",
       "3       88.76 \n",
       "4       140.8 \n",
       "         ...  \n",
       "6014       74 \n",
       "6015       71 \n",
       "6016      112 \n",
       "6017     67.1 \n",
       "6018     57.6 \n",
       "Name: Power, Length: 6019, dtype: object"
      ]
     },
     "execution_count": 703,
     "metadata": {},
     "output_type": "execute_result"
    }
   ],
   "source": [
    "df['Power']=df['Power'].apply(c)\n",
    "df['Power']"
   ]
  },
  {
   "cell_type": "code",
   "execution_count": 704,
   "id": "e3a20085",
   "metadata": {},
   "outputs": [],
   "source": [
    "def d(data):\n",
    "    b=re.sub(r'/b[a-z]{4}/b','',data)\n",
    "    return b"
   ]
  },
  {
   "cell_type": "code",
   "execution_count": 705,
   "id": "f192904c",
   "metadata": {},
   "outputs": [],
   "source": [
    "df['Power']=df['Power'].apply(d)"
   ]
  },
  {
   "cell_type": "code",
   "execution_count": 706,
   "id": "1ae27dcc",
   "metadata": {},
   "outputs": [
    {
     "data": {
      "text/plain": [
       "array(['58.16 ', '126.2 ', '88.7 ', '88.76 ', '140.8 ', '55.2 ', '63.1 ',\n",
       "       '171.5 ', '103.6 ', '74 ', '103.25 ', '116.3 ', '187.7 ', '115 ',\n",
       "       '175.56 ', '98.6 ', '83.8 ', '167.62 ', '190 ', '88.5 ', '177.01 ',\n",
       "       '80 ', '67.1 ', '102 ', '108.45 ', '138.1 ', '184 ', '179.5 ',\n",
       "       '103.5 ', '64 ', '82 ', '254.8 ', '73.9 ', '46.3 ', '37.5 ', '77 ',\n",
       "       '82.9 ', '149.92 ', '138.03 ', '112.2 ', '163.7 ', '71 ', '105 ',\n",
       "       '174.33 ', '75 ', '103.2 ', '53.3 ', '78.9 ', '147.6 ', '147.8 ',\n",
       "       '68 ', '186 ', '170 ', '69 ', '140 ', '78 ', '194 ', '500 ',\n",
       "       '108.5 ', '86.8 ', '187.74 ', 'null ', '132 ', '86.7 ', '73.94 ',\n",
       "       '117.3 ', '218 ', '168.5 ', '89.84 ', '110 ', '90 ', '82.85 ',\n",
       "       '67 ', '241.4 ', '35 ', '270.9 ', '126.32 ', '73 ', '130 ',\n",
       "       '100.6 ', '150 ', '75.94 ', '215 ', '107.3 ', '37.48 ', '120 ',\n",
       "       '178 ', '152 ', '91.1 ', '85.80 ', '362.07 ', '121.3 ', '143 ',\n",
       "       '81.80 ', '171 ', '76.8 ', '103.52 ', '444 ', '362.9 ', '67.06 ',\n",
       "       '120.7 ', '258 ', '81.86 ', '112 ', '88.73 ', '57.6 ', '157.75 ',\n",
       "       '102.5 ', '201.1 ', '83.1 ', '68.05 ', '88.50 ', '106 ', '100 ',\n",
       "       '81.83 ', '85 ', '64.1 ', '177.5 ', '246.7 ', '177.46 ', '65 ',\n",
       "       '67.04 ', '189.08 ', '99 ', '53.5 ', '194.3 ', '70 ', '183 ',\n",
       "       '254.79 ', '66.1 ', '76 ', '60 ', '123.24 ', '47.3 ', '118 ',\n",
       "       '88.8 ', '177 ', '136 ', '201.15 ', '93.7 ', '177.6 ', '313 ',\n",
       "       '245 ', '125 ', '141 ', '227 ', '62 ', '141.1 ', '83.14 ', '192 ',\n",
       "       '67.05 ', '47 ', '235 ', '37 ', '87.2 ', '203 ', '204 ', '246.74 ',\n",
       "       '122 ', '282 ', '181 ', '224 ', '94 ', '367 ', '98.79 ', '62.1 ',\n",
       "       '174.3 ', '114 ', '335.2 ', '169 ', '191.34 ', '108.49 ',\n",
       "       '138.02 ', '156 ', '187.4 ', '66 ', '103.3 ', '164.7 ', '79.4 ',\n",
       "       '198.5 ', '154 ', '73.8 ', '181.43 ', '85.8 ', '207.8 ', '108.4 ',\n",
       "       '88 ', '63 ', '82.5 ', '364.9 ', '107.2 ', '113.98 ', '126.3 ',\n",
       "       '185 ', '237.4 ', '99.6 ', '66.7 ', '160 ', '306 ', '98.59 ',\n",
       "       '92.7 ', '147.51 ', '197.2 ', '167.6 ', '165 ', '110.4 ', '73.97 ',\n",
       "       '147.9 ', '116.6 ', '148 ', '34.2 ', '155 ', '197 ', '108.62 ',\n",
       "       '118.3 ', '38.4 ', '241.38 ', '153.86 ', '163.5 ', '226.6 ',\n",
       "       '84.8 ', '53.64 ', '158.2 ', '69.01 ', '181.03 ', '58.2 ',\n",
       "       '104.68 ', '126.24 ', '73.75 ', '158 ', '130.2 ', '57.5 ', '97.7 ',\n",
       "       '121.4 ', '98.96 ', '174.5 ', '308 ', '121.36 ', '138 ', '265 ',\n",
       "       '84 ', '321 ', '91.72 ', '65.3 ', '88.2 ', '93 ', '35.5 ',\n",
       "       '86.79 ', '157.7 ', '40.3 ', '91.7 ', '180 ', '114.4 ', '158.8 ',\n",
       "       '157.8 ', '123.7 ', '56.3 ', '189 ', '104 ', '210 ', '270.88 ',\n",
       "       '142 ', '255 ', '236 ', '167.7 ', '148.31 ', '80.46 ', '138.08 ',\n",
       "       '250 ', '74.9 ', '91.2 ', '102.57 ', '97.6 ', '102.53 ', '240 ',\n",
       "       '254 ', '112.4 ', '73.74 ', '108.495 ', '116.9 ', '101 ', '320 ',\n",
       "       '70.02 ', '261.49 ', '105.5 ', '550 ', '168.7 ', '55.23 ',\n",
       "       '94.68 ', '152.88 ', '163.2 ', '203.2 ', '241 ', '95 ', '200 ',\n",
       "       '271.23 ', '63.12 ', '85.7 ', '308.43 ', '118.6 ', '199.3 ',\n",
       "       '83.83 ', '55 ', '83 ', '300 ', '201 ', '262.6 ', '163 ', '58.33 ',\n",
       "       '86.76 ', '76.9 ', '174.57 ', '301.73 ', '68.1 ', '162 ', '394.3 ',\n",
       "       '80.9 ', '147.5 ', '272 ', '340 ', '120.33 ', '82.4 ', '231.1 ',\n",
       "       '335.3 ', '333 ', '198.25 ', '224.34 ', '402 ', '261 ', '61 ',\n",
       "       '144 ', '71.01 ', '271.72 ', '134 ', '135.1 ', '92 ', '64.08 ',\n",
       "       '261.5 ', '123.37 ', '175.67 ', '53 ', '110.5 ', '178.4 ',\n",
       "       '193.1 ', '41 ', '395 ', '48.21 ', '450 ', '421 ', '89.75 ',\n",
       "       '387.3 ', '130.3 ', '281.61 ', '52.8 ', '139.01 ', '208 ', '503 ',\n",
       "       '168 ', '98.82 ', '139.07 ', '83.11 ', '74.93 ', '382 ', '74.96 ',\n",
       "       '552 ', '127 ', '560 ', '116.4 ', '161.6 ', '488.1 ', '103 ',\n",
       "       '181.04 '], dtype=object)"
      ]
     },
     "execution_count": 706,
     "metadata": {},
     "output_type": "execute_result"
    }
   ],
   "source": [
    "df['Power'].unique()"
   ]
  },
  {
   "cell_type": "code",
   "execution_count": 707,
   "id": "4369303d",
   "metadata": {},
   "outputs": [],
   "source": [
    "df['Power'].loc[df['Power']=='null ']=df['Power'].mode()[0]"
   ]
  },
  {
   "cell_type": "code",
   "execution_count": 708,
   "id": "79f181be",
   "metadata": {},
   "outputs": [],
   "source": [
    "df['Power']=df['Power'].apply(c).astype('float')"
   ]
  },
  {
   "cell_type": "code",
   "execution_count": 709,
   "id": "508cab09",
   "metadata": {},
   "outputs": [
    {
     "data": {
      "text/plain": [
       "0"
      ]
     },
     "execution_count": 709,
     "metadata": {},
     "output_type": "execute_result"
    }
   ],
   "source": [
    "df['Power'].isna().sum()"
   ]
  },
  {
   "cell_type": "code",
   "execution_count": 710,
   "id": "7e020707",
   "metadata": {},
   "outputs": [
    {
     "data": {
      "text/html": [
       "<div>\n",
       "<style scoped>\n",
       "    .dataframe tbody tr th:only-of-type {\n",
       "        vertical-align: middle;\n",
       "    }\n",
       "\n",
       "    .dataframe tbody tr th {\n",
       "        vertical-align: top;\n",
       "    }\n",
       "\n",
       "    .dataframe thead th {\n",
       "        text-align: right;\n",
       "    }\n",
       "</style>\n",
       "<table border=\"1\" class=\"dataframe\">\n",
       "  <thead>\n",
       "    <tr style=\"text-align: right;\">\n",
       "      <th></th>\n",
       "      <th>Unnamed: 0</th>\n",
       "      <th>Name</th>\n",
       "      <th>Location</th>\n",
       "      <th>Year</th>\n",
       "      <th>Kilometers_Driven</th>\n",
       "      <th>Fuel_Type</th>\n",
       "      <th>Transmission</th>\n",
       "      <th>Owner_Type</th>\n",
       "      <th>Mileage</th>\n",
       "      <th>Engine</th>\n",
       "      <th>Power</th>\n",
       "      <th>Seats</th>\n",
       "      <th>New_Price</th>\n",
       "      <th>Price</th>\n",
       "    </tr>\n",
       "  </thead>\n",
       "  <tbody>\n",
       "    <tr>\n",
       "      <th>0</th>\n",
       "      <td>0</td>\n",
       "      <td>Maruti Wagon R LXI CNG</td>\n",
       "      <td>Mumbai</td>\n",
       "      <td>2010</td>\n",
       "      <td>72000</td>\n",
       "      <td>CNG</td>\n",
       "      <td>0</td>\n",
       "      <td>3</td>\n",
       "      <td>26.60</td>\n",
       "      <td>998</td>\n",
       "      <td>58.16</td>\n",
       "      <td>5.0</td>\n",
       "      <td>NaN</td>\n",
       "      <td>1.75</td>\n",
       "    </tr>\n",
       "    <tr>\n",
       "      <th>1</th>\n",
       "      <td>1</td>\n",
       "      <td>Hyundai Creta 1.6 CRDi SX Option</td>\n",
       "      <td>Pune</td>\n",
       "      <td>2015</td>\n",
       "      <td>41000</td>\n",
       "      <td>Diesel</td>\n",
       "      <td>0</td>\n",
       "      <td>3</td>\n",
       "      <td>19.67</td>\n",
       "      <td>1582</td>\n",
       "      <td>126.20</td>\n",
       "      <td>5.0</td>\n",
       "      <td>NaN</td>\n",
       "      <td>12.50</td>\n",
       "    </tr>\n",
       "    <tr>\n",
       "      <th>2</th>\n",
       "      <td>2</td>\n",
       "      <td>other</td>\n",
       "      <td>Chennai</td>\n",
       "      <td>2011</td>\n",
       "      <td>46000</td>\n",
       "      <td>Petrol</td>\n",
       "      <td>0</td>\n",
       "      <td>3</td>\n",
       "      <td>18.20</td>\n",
       "      <td>1199</td>\n",
       "      <td>88.70</td>\n",
       "      <td>5.0</td>\n",
       "      <td>8.61 Lakh</td>\n",
       "      <td>4.50</td>\n",
       "    </tr>\n",
       "    <tr>\n",
       "      <th>3</th>\n",
       "      <td>3</td>\n",
       "      <td>Maruti Ertiga VDI</td>\n",
       "      <td>Chennai</td>\n",
       "      <td>2012</td>\n",
       "      <td>87000</td>\n",
       "      <td>Diesel</td>\n",
       "      <td>0</td>\n",
       "      <td>3</td>\n",
       "      <td>20.77</td>\n",
       "      <td>1248</td>\n",
       "      <td>88.76</td>\n",
       "      <td>7.0</td>\n",
       "      <td>NaN</td>\n",
       "      <td>6.00</td>\n",
       "    </tr>\n",
       "    <tr>\n",
       "      <th>4</th>\n",
       "      <td>4</td>\n",
       "      <td>Audi A4 New 2.0 TDI Multitronic</td>\n",
       "      <td>Coimbatore</td>\n",
       "      <td>2013</td>\n",
       "      <td>40670</td>\n",
       "      <td>Diesel</td>\n",
       "      <td>1</td>\n",
       "      <td>2</td>\n",
       "      <td>15.20</td>\n",
       "      <td>1968</td>\n",
       "      <td>140.80</td>\n",
       "      <td>5.0</td>\n",
       "      <td>NaN</td>\n",
       "      <td>17.74</td>\n",
       "    </tr>\n",
       "  </tbody>\n",
       "</table>\n",
       "</div>"
      ],
      "text/plain": [
       "   Unnamed: 0                              Name    Location  Year  \\\n",
       "0           0            Maruti Wagon R LXI CNG      Mumbai  2010   \n",
       "1           1  Hyundai Creta 1.6 CRDi SX Option        Pune  2015   \n",
       "2           2                             other     Chennai  2011   \n",
       "3           3                 Maruti Ertiga VDI     Chennai  2012   \n",
       "4           4   Audi A4 New 2.0 TDI Multitronic  Coimbatore  2013   \n",
       "\n",
       "   Kilometers_Driven Fuel_Type  Transmission  Owner_Type  Mileage  Engine  \\\n",
       "0              72000       CNG             0           3    26.60     998   \n",
       "1              41000    Diesel             0           3    19.67    1582   \n",
       "2              46000    Petrol             0           3    18.20    1199   \n",
       "3              87000    Diesel             0           3    20.77    1248   \n",
       "4              40670    Diesel             1           2    15.20    1968   \n",
       "\n",
       "    Power  Seats  New_Price  Price  \n",
       "0   58.16    5.0        NaN   1.75  \n",
       "1  126.20    5.0        NaN  12.50  \n",
       "2   88.70    5.0  8.61 Lakh   4.50  \n",
       "3   88.76    7.0        NaN   6.00  \n",
       "4  140.80    5.0        NaN  17.74  "
      ]
     },
     "execution_count": 710,
     "metadata": {},
     "output_type": "execute_result"
    }
   ],
   "source": [
    "df.head()"
   ]
  },
  {
   "cell_type": "markdown",
   "id": "88e45b83",
   "metadata": {},
   "source": [
    "### 10.Seats"
   ]
  },
  {
   "cell_type": "code",
   "execution_count": 711,
   "id": "de3bcab8",
   "metadata": {},
   "outputs": [
    {
     "data": {
      "text/plain": [
       "array([ 5.,  7.,  8.,  4.,  6.,  2., nan, 10.,  9.,  0.])"
      ]
     },
     "execution_count": 711,
     "metadata": {},
     "output_type": "execute_result"
    }
   ],
   "source": [
    "df['Seats'].unique()"
   ]
  },
  {
   "cell_type": "code",
   "execution_count": 712,
   "id": "5d41c029",
   "metadata": {},
   "outputs": [
    {
     "data": {
      "text/plain": [
       "42"
      ]
     },
     "execution_count": 712,
     "metadata": {},
     "output_type": "execute_result"
    }
   ],
   "source": [
    "df['Seats'].isna().sum()"
   ]
  },
  {
   "cell_type": "code",
   "execution_count": null,
   "id": "816e2cce",
   "metadata": {},
   "outputs": [],
   "source": []
  },
  {
   "cell_type": "code",
   "execution_count": 713,
   "id": "e8edfb97",
   "metadata": {},
   "outputs": [
    {
     "data": {
      "text/plain": [
       "5.0"
      ]
     },
     "execution_count": 713,
     "metadata": {},
     "output_type": "execute_result"
    }
   ],
   "source": [
    "np.around(df['Seats'].mean(),0)"
   ]
  },
  {
   "cell_type": "code",
   "execution_count": 714,
   "id": "29a06d53",
   "metadata": {},
   "outputs": [],
   "source": [
    "df['Seats'].loc[df['Seats']==0]=np.around(df['Seats'].median(),0)"
   ]
  },
  {
   "cell_type": "code",
   "execution_count": 715,
   "id": "69b17b9c",
   "metadata": {},
   "outputs": [
    {
     "data": {
      "text/plain": [
       "array([ 5.,  7.,  8.,  4.,  6.,  2., nan, 10.,  9.])"
      ]
     },
     "execution_count": 715,
     "metadata": {},
     "output_type": "execute_result"
    }
   ],
   "source": [
    "df['Seats'].unique()"
   ]
  },
  {
   "cell_type": "markdown",
   "id": "ac446d86",
   "metadata": {},
   "source": [
    "### 11.Price"
   ]
  },
  {
   "cell_type": "code",
   "execution_count": 716,
   "id": "cf26e2c8",
   "metadata": {},
   "outputs": [
    {
     "data": {
      "text/plain": [
       "0"
      ]
     },
     "execution_count": 716,
     "metadata": {},
     "output_type": "execute_result"
    }
   ],
   "source": [
    "df['Price'].isna().sum()"
   ]
  },
  {
   "cell_type": "code",
   "execution_count": 717,
   "id": "a083a5b1",
   "metadata": {},
   "outputs": [
    {
     "data": {
      "text/plain": [
       "array([ 1.75, 12.5 ,  4.5 , ...,  2.27, 17.56,  7.43])"
      ]
     },
     "execution_count": 717,
     "metadata": {},
     "output_type": "execute_result"
    }
   ],
   "source": [
    "df['Price'].unique()"
   ]
  },
  {
   "cell_type": "code",
   "execution_count": 718,
   "id": "3eadaf11",
   "metadata": {},
   "outputs": [
    {
     "data": {
      "text/plain": [
       "(array([4079], dtype=int64),)"
      ]
     },
     "execution_count": 718,
     "metadata": {},
     "output_type": "execute_result"
    }
   ],
   "source": [
    "np.where(df['Price']==160)"
   ]
  },
  {
   "cell_type": "markdown",
   "id": "88889d09",
   "metadata": {},
   "source": [
    "# Feature Engginering"
   ]
  },
  {
   "cell_type": "code",
   "execution_count": 719,
   "id": "d1f843e4",
   "metadata": {},
   "outputs": [
    {
     "data": {
      "text/plain": [
       "Unnamed: 0              0\n",
       "Name                    0\n",
       "Location                0\n",
       "Year                    0\n",
       "Kilometers_Driven       0\n",
       "Fuel_Type               0\n",
       "Transmission            0\n",
       "Owner_Type              0\n",
       "Mileage                 0\n",
       "Engine                  0\n",
       "Power                   0\n",
       "Seats                  42\n",
       "New_Price            5195\n",
       "Price                   0\n",
       "dtype: int64"
      ]
     },
     "execution_count": 719,
     "metadata": {},
     "output_type": "execute_result"
    }
   ],
   "source": [
    "df.isna().sum()"
   ]
  },
  {
   "cell_type": "markdown",
   "id": "86b55e64",
   "metadata": {},
   "source": [
    "### 1. Name"
   ]
  },
  {
   "cell_type": "code",
   "execution_count": 720,
   "id": "e59e620c",
   "metadata": {},
   "outputs": [
    {
     "data": {
      "text/html": [
       "<div>\n",
       "<style scoped>\n",
       "    .dataframe tbody tr th:only-of-type {\n",
       "        vertical-align: middle;\n",
       "    }\n",
       "\n",
       "    .dataframe tbody tr th {\n",
       "        vertical-align: top;\n",
       "    }\n",
       "\n",
       "    .dataframe thead th {\n",
       "        text-align: right;\n",
       "    }\n",
       "</style>\n",
       "<table border=\"1\" class=\"dataframe\">\n",
       "  <thead>\n",
       "    <tr style=\"text-align: right;\">\n",
       "      <th></th>\n",
       "      <th>Audi A4 2.0 TDI</th>\n",
       "      <th>Audi A4 2.0 TDI 177 Bhp Premium Plus</th>\n",
       "      <th>Audi A4 2.0 TDI Multitronic</th>\n",
       "      <th>Audi A4 35 TDI Premium</th>\n",
       "      <th>Audi A4 New 2.0 TDI Multitronic</th>\n",
       "      <th>Audi A6 2.7 TDI</th>\n",
       "      <th>Audi A6 2011-2015 2.0 TDI Premium Plus</th>\n",
       "      <th>Audi Q5 2.0 TDI Premium Plus</th>\n",
       "      <th>Audi Q7 3.0 TDI Quattro Premium Plus</th>\n",
       "      <th>Audi Q7 4.2 TDI Quattro Technology</th>\n",
       "      <th>...</th>\n",
       "      <th>Volkswagen Polo Petrol Trendline 1.2L</th>\n",
       "      <th>Volkswagen Vento 1.5 TDI Highline</th>\n",
       "      <th>Volkswagen Vento 1.5 TDI Highline AT</th>\n",
       "      <th>Volkswagen Vento 1.6 Highline</th>\n",
       "      <th>Volkswagen Vento Diesel Comfortline</th>\n",
       "      <th>Volkswagen Vento Diesel Highline</th>\n",
       "      <th>Volkswagen Vento Diesel Trendline</th>\n",
       "      <th>Volkswagen Vento Petrol Highline</th>\n",
       "      <th>Volkswagen Vento Petrol Highline AT</th>\n",
       "      <th>other</th>\n",
       "    </tr>\n",
       "  </thead>\n",
       "  <tbody>\n",
       "    <tr>\n",
       "      <th>0</th>\n",
       "      <td>0</td>\n",
       "      <td>0</td>\n",
       "      <td>0</td>\n",
       "      <td>0</td>\n",
       "      <td>0</td>\n",
       "      <td>0</td>\n",
       "      <td>0</td>\n",
       "      <td>0</td>\n",
       "      <td>0</td>\n",
       "      <td>0</td>\n",
       "      <td>...</td>\n",
       "      <td>0</td>\n",
       "      <td>0</td>\n",
       "      <td>0</td>\n",
       "      <td>0</td>\n",
       "      <td>0</td>\n",
       "      <td>0</td>\n",
       "      <td>0</td>\n",
       "      <td>0</td>\n",
       "      <td>0</td>\n",
       "      <td>0</td>\n",
       "    </tr>\n",
       "    <tr>\n",
       "      <th>1</th>\n",
       "      <td>0</td>\n",
       "      <td>0</td>\n",
       "      <td>0</td>\n",
       "      <td>0</td>\n",
       "      <td>0</td>\n",
       "      <td>0</td>\n",
       "      <td>0</td>\n",
       "      <td>0</td>\n",
       "      <td>0</td>\n",
       "      <td>0</td>\n",
       "      <td>...</td>\n",
       "      <td>0</td>\n",
       "      <td>0</td>\n",
       "      <td>0</td>\n",
       "      <td>0</td>\n",
       "      <td>0</td>\n",
       "      <td>0</td>\n",
       "      <td>0</td>\n",
       "      <td>0</td>\n",
       "      <td>0</td>\n",
       "      <td>0</td>\n",
       "    </tr>\n",
       "    <tr>\n",
       "      <th>2</th>\n",
       "      <td>0</td>\n",
       "      <td>0</td>\n",
       "      <td>0</td>\n",
       "      <td>0</td>\n",
       "      <td>0</td>\n",
       "      <td>0</td>\n",
       "      <td>0</td>\n",
       "      <td>0</td>\n",
       "      <td>0</td>\n",
       "      <td>0</td>\n",
       "      <td>...</td>\n",
       "      <td>0</td>\n",
       "      <td>0</td>\n",
       "      <td>0</td>\n",
       "      <td>0</td>\n",
       "      <td>0</td>\n",
       "      <td>0</td>\n",
       "      <td>0</td>\n",
       "      <td>0</td>\n",
       "      <td>0</td>\n",
       "      <td>1</td>\n",
       "    </tr>\n",
       "    <tr>\n",
       "      <th>3</th>\n",
       "      <td>0</td>\n",
       "      <td>0</td>\n",
       "      <td>0</td>\n",
       "      <td>0</td>\n",
       "      <td>0</td>\n",
       "      <td>0</td>\n",
       "      <td>0</td>\n",
       "      <td>0</td>\n",
       "      <td>0</td>\n",
       "      <td>0</td>\n",
       "      <td>...</td>\n",
       "      <td>0</td>\n",
       "      <td>0</td>\n",
       "      <td>0</td>\n",
       "      <td>0</td>\n",
       "      <td>0</td>\n",
       "      <td>0</td>\n",
       "      <td>0</td>\n",
       "      <td>0</td>\n",
       "      <td>0</td>\n",
       "      <td>0</td>\n",
       "    </tr>\n",
       "    <tr>\n",
       "      <th>4</th>\n",
       "      <td>0</td>\n",
       "      <td>0</td>\n",
       "      <td>0</td>\n",
       "      <td>0</td>\n",
       "      <td>1</td>\n",
       "      <td>0</td>\n",
       "      <td>0</td>\n",
       "      <td>0</td>\n",
       "      <td>0</td>\n",
       "      <td>0</td>\n",
       "      <td>...</td>\n",
       "      <td>0</td>\n",
       "      <td>0</td>\n",
       "      <td>0</td>\n",
       "      <td>0</td>\n",
       "      <td>0</td>\n",
       "      <td>0</td>\n",
       "      <td>0</td>\n",
       "      <td>0</td>\n",
       "      <td>0</td>\n",
       "      <td>0</td>\n",
       "    </tr>\n",
       "  </tbody>\n",
       "</table>\n",
       "<p>5 rows × 265 columns</p>\n",
       "</div>"
      ],
      "text/plain": [
       "   Audi A4 2.0 TDI  Audi A4 2.0 TDI 177 Bhp Premium Plus  \\\n",
       "0                0                                     0   \n",
       "1                0                                     0   \n",
       "2                0                                     0   \n",
       "3                0                                     0   \n",
       "4                0                                     0   \n",
       "\n",
       "   Audi A4 2.0 TDI Multitronic  Audi A4 35 TDI Premium  \\\n",
       "0                            0                       0   \n",
       "1                            0                       0   \n",
       "2                            0                       0   \n",
       "3                            0                       0   \n",
       "4                            0                       0   \n",
       "\n",
       "   Audi A4 New 2.0 TDI Multitronic  Audi A6 2.7 TDI  \\\n",
       "0                                0                0   \n",
       "1                                0                0   \n",
       "2                                0                0   \n",
       "3                                0                0   \n",
       "4                                1                0   \n",
       "\n",
       "   Audi A6 2011-2015 2.0 TDI Premium Plus  Audi Q5 2.0 TDI Premium Plus  \\\n",
       "0                                       0                             0   \n",
       "1                                       0                             0   \n",
       "2                                       0                             0   \n",
       "3                                       0                             0   \n",
       "4                                       0                             0   \n",
       "\n",
       "   Audi Q7 3.0 TDI Quattro Premium Plus  Audi Q7 4.2 TDI Quattro Technology  \\\n",
       "0                                     0                                   0   \n",
       "1                                     0                                   0   \n",
       "2                                     0                                   0   \n",
       "3                                     0                                   0   \n",
       "4                                     0                                   0   \n",
       "\n",
       "   ...  Volkswagen Polo Petrol Trendline 1.2L  \\\n",
       "0  ...                                      0   \n",
       "1  ...                                      0   \n",
       "2  ...                                      0   \n",
       "3  ...                                      0   \n",
       "4  ...                                      0   \n",
       "\n",
       "   Volkswagen Vento 1.5 TDI Highline  Volkswagen Vento 1.5 TDI Highline AT  \\\n",
       "0                                  0                                     0   \n",
       "1                                  0                                     0   \n",
       "2                                  0                                     0   \n",
       "3                                  0                                     0   \n",
       "4                                  0                                     0   \n",
       "\n",
       "   Volkswagen Vento 1.6 Highline  Volkswagen Vento Diesel Comfortline  \\\n",
       "0                              0                                    0   \n",
       "1                              0                                    0   \n",
       "2                              0                                    0   \n",
       "3                              0                                    0   \n",
       "4                              0                                    0   \n",
       "\n",
       "   Volkswagen Vento Diesel Highline  Volkswagen Vento Diesel Trendline  \\\n",
       "0                                 0                                  0   \n",
       "1                                 0                                  0   \n",
       "2                                 0                                  0   \n",
       "3                                 0                                  0   \n",
       "4                                 0                                  0   \n",
       "\n",
       "   Volkswagen Vento Petrol Highline  Volkswagen Vento Petrol Highline AT  \\\n",
       "0                                 0                                    0   \n",
       "1                                 0                                    0   \n",
       "2                                 0                                    0   \n",
       "3                                 0                                    0   \n",
       "4                                 0                                    0   \n",
       "\n",
       "   other  \n",
       "0      0  \n",
       "1      0  \n",
       "2      1  \n",
       "3      0  \n",
       "4      0  \n",
       "\n",
       "[5 rows x 265 columns]"
      ]
     },
     "execution_count": 720,
     "metadata": {},
     "output_type": "execute_result"
    }
   ],
   "source": [
    "df_name=pd.get_dummies(df['Name'])\n",
    "df_name.head()"
   ]
  },
  {
   "cell_type": "code",
   "execution_count": 721,
   "id": "dd6b4e09",
   "metadata": {},
   "outputs": [],
   "source": [
    "### 2.Fuel_Type"
   ]
  },
  {
   "cell_type": "code",
   "execution_count": 722,
   "id": "10467bca",
   "metadata": {},
   "outputs": [
    {
     "data": {
      "text/html": [
       "<div>\n",
       "<style scoped>\n",
       "    .dataframe tbody tr th:only-of-type {\n",
       "        vertical-align: middle;\n",
       "    }\n",
       "\n",
       "    .dataframe tbody tr th {\n",
       "        vertical-align: top;\n",
       "    }\n",
       "\n",
       "    .dataframe thead th {\n",
       "        text-align: right;\n",
       "    }\n",
       "</style>\n",
       "<table border=\"1\" class=\"dataframe\">\n",
       "  <thead>\n",
       "    <tr style=\"text-align: right;\">\n",
       "      <th></th>\n",
       "      <th>CNG</th>\n",
       "      <th>Diesel</th>\n",
       "      <th>Electric</th>\n",
       "      <th>LPG</th>\n",
       "      <th>Petrol</th>\n",
       "    </tr>\n",
       "  </thead>\n",
       "  <tbody>\n",
       "    <tr>\n",
       "      <th>0</th>\n",
       "      <td>1</td>\n",
       "      <td>0</td>\n",
       "      <td>0</td>\n",
       "      <td>0</td>\n",
       "      <td>0</td>\n",
       "    </tr>\n",
       "    <tr>\n",
       "      <th>1</th>\n",
       "      <td>0</td>\n",
       "      <td>1</td>\n",
       "      <td>0</td>\n",
       "      <td>0</td>\n",
       "      <td>0</td>\n",
       "    </tr>\n",
       "    <tr>\n",
       "      <th>2</th>\n",
       "      <td>0</td>\n",
       "      <td>0</td>\n",
       "      <td>0</td>\n",
       "      <td>0</td>\n",
       "      <td>1</td>\n",
       "    </tr>\n",
       "    <tr>\n",
       "      <th>3</th>\n",
       "      <td>0</td>\n",
       "      <td>1</td>\n",
       "      <td>0</td>\n",
       "      <td>0</td>\n",
       "      <td>0</td>\n",
       "    </tr>\n",
       "    <tr>\n",
       "      <th>4</th>\n",
       "      <td>0</td>\n",
       "      <td>1</td>\n",
       "      <td>0</td>\n",
       "      <td>0</td>\n",
       "      <td>0</td>\n",
       "    </tr>\n",
       "    <tr>\n",
       "      <th>...</th>\n",
       "      <td>...</td>\n",
       "      <td>...</td>\n",
       "      <td>...</td>\n",
       "      <td>...</td>\n",
       "      <td>...</td>\n",
       "    </tr>\n",
       "    <tr>\n",
       "      <th>6014</th>\n",
       "      <td>0</td>\n",
       "      <td>1</td>\n",
       "      <td>0</td>\n",
       "      <td>0</td>\n",
       "      <td>0</td>\n",
       "    </tr>\n",
       "    <tr>\n",
       "      <th>6015</th>\n",
       "      <td>0</td>\n",
       "      <td>1</td>\n",
       "      <td>0</td>\n",
       "      <td>0</td>\n",
       "      <td>0</td>\n",
       "    </tr>\n",
       "    <tr>\n",
       "      <th>6016</th>\n",
       "      <td>0</td>\n",
       "      <td>1</td>\n",
       "      <td>0</td>\n",
       "      <td>0</td>\n",
       "      <td>0</td>\n",
       "    </tr>\n",
       "    <tr>\n",
       "      <th>6017</th>\n",
       "      <td>0</td>\n",
       "      <td>0</td>\n",
       "      <td>0</td>\n",
       "      <td>0</td>\n",
       "      <td>1</td>\n",
       "    </tr>\n",
       "    <tr>\n",
       "      <th>6018</th>\n",
       "      <td>0</td>\n",
       "      <td>1</td>\n",
       "      <td>0</td>\n",
       "      <td>0</td>\n",
       "      <td>0</td>\n",
       "    </tr>\n",
       "  </tbody>\n",
       "</table>\n",
       "<p>6019 rows × 5 columns</p>\n",
       "</div>"
      ],
      "text/plain": [
       "      CNG  Diesel  Electric  LPG  Petrol\n",
       "0       1       0         0    0       0\n",
       "1       0       1         0    0       0\n",
       "2       0       0         0    0       1\n",
       "3       0       1         0    0       0\n",
       "4       0       1         0    0       0\n",
       "...   ...     ...       ...  ...     ...\n",
       "6014    0       1         0    0       0\n",
       "6015    0       1         0    0       0\n",
       "6016    0       1         0    0       0\n",
       "6017    0       0         0    0       1\n",
       "6018    0       1         0    0       0\n",
       "\n",
       "[6019 rows x 5 columns]"
      ]
     },
     "execution_count": 722,
     "metadata": {},
     "output_type": "execute_result"
    }
   ],
   "source": [
    "df_fuel=pd.get_dummies(df['Fuel_Type'])\n",
    "df_fuel"
   ]
  },
  {
   "cell_type": "markdown",
   "id": "3f30d39c",
   "metadata": {},
   "source": [
    "### 3.Seats"
   ]
  },
  {
   "cell_type": "code",
   "execution_count": 723,
   "id": "a6b08015",
   "metadata": {},
   "outputs": [
    {
     "data": {
      "text/plain": [
       "0       5.0\n",
       "1       5.0\n",
       "2       5.0\n",
       "3       7.0\n",
       "4       5.0\n",
       "       ... \n",
       "6014    5.0\n",
       "6015    5.0\n",
       "6016    8.0\n",
       "6017    5.0\n",
       "6018    5.0\n",
       "Name: Seats, Length: 6019, dtype: float64"
      ]
     },
     "execution_count": 723,
     "metadata": {},
     "output_type": "execute_result"
    }
   ],
   "source": [
    "df['Seats']=np.around(df['Seats'].fillna(df['Seats'].median()),0)\n",
    "df['Seats']"
   ]
  },
  {
   "cell_type": "code",
   "execution_count": 724,
   "id": "5dba7fb0",
   "metadata": {},
   "outputs": [
    {
     "data": {
      "text/plain": [
       "array([ 5.,  7.,  8.,  4.,  6.,  2., 10.,  9.])"
      ]
     },
     "execution_count": 724,
     "metadata": {},
     "output_type": "execute_result"
    }
   ],
   "source": [
    "df['Seats'].unique()"
   ]
  },
  {
   "cell_type": "code",
   "execution_count": null,
   "id": "a9f6f8e3",
   "metadata": {},
   "outputs": [],
   "source": []
  },
  {
   "cell_type": "code",
   "execution_count": null,
   "id": "6234deef",
   "metadata": {},
   "outputs": [],
   "source": []
  },
  {
   "cell_type": "markdown",
   "id": "41716d0e",
   "metadata": {},
   "source": [
    "### Feature Selection"
   ]
  },
  {
   "cell_type": "code",
   "execution_count": 725,
   "id": "f2952f4c",
   "metadata": {},
   "outputs": [
    {
     "data": {
      "text/plain": [
       "Index(['Unnamed: 0', 'Name', 'Location', 'Year', 'Kilometers_Driven',\n",
       "       'Fuel_Type', 'Transmission', 'Owner_Type', 'Mileage', 'Engine', 'Power',\n",
       "       'Seats', 'New_Price', 'Price'],\n",
       "      dtype='object')"
      ]
     },
     "execution_count": 725,
     "metadata": {},
     "output_type": "execute_result"
    }
   ],
   "source": [
    "df.columns"
   ]
  },
  {
   "cell_type": "code",
   "execution_count": 726,
   "id": "d18fb5ce",
   "metadata": {},
   "outputs": [
    {
     "name": "stdout",
     "output_type": "stream",
     "text": [
      "<class 'pandas.core.frame.DataFrame'>\n",
      "RangeIndex: 6019 entries, 0 to 6018\n",
      "Data columns (total 14 columns):\n",
      " #   Column             Non-Null Count  Dtype  \n",
      "---  ------             --------------  -----  \n",
      " 0   Unnamed: 0         6019 non-null   int64  \n",
      " 1   Name               6019 non-null   object \n",
      " 2   Location           6019 non-null   object \n",
      " 3   Year               6019 non-null   int64  \n",
      " 4   Kilometers_Driven  6019 non-null   int64  \n",
      " 5   Fuel_Type          6019 non-null   object \n",
      " 6   Transmission       6019 non-null   int64  \n",
      " 7   Owner_Type         6019 non-null   int64  \n",
      " 8   Mileage            6019 non-null   float64\n",
      " 9   Engine             6019 non-null   int32  \n",
      " 10  Power              6019 non-null   float64\n",
      " 11  Seats              6019 non-null   float64\n",
      " 12  New_Price          824 non-null    object \n",
      " 13  Price              6019 non-null   float64\n",
      "dtypes: float64(4), int32(1), int64(5), object(4)\n",
      "memory usage: 634.9+ KB\n"
     ]
    }
   ],
   "source": [
    "df.info()"
   ]
  },
  {
   "cell_type": "code",
   "execution_count": 727,
   "id": "15b91411",
   "metadata": {},
   "outputs": [],
   "source": [
    "df.drop(['Unnamed: 0','Name', 'Location','Fuel_Type','New_Price'],axis=1,inplace=True)"
   ]
  },
  {
   "cell_type": "code",
   "execution_count": 728,
   "id": "a0e9c32c",
   "metadata": {},
   "outputs": [
    {
     "data": {
      "text/html": [
       "<div>\n",
       "<style scoped>\n",
       "    .dataframe tbody tr th:only-of-type {\n",
       "        vertical-align: middle;\n",
       "    }\n",
       "\n",
       "    .dataframe tbody tr th {\n",
       "        vertical-align: top;\n",
       "    }\n",
       "\n",
       "    .dataframe thead th {\n",
       "        text-align: right;\n",
       "    }\n",
       "</style>\n",
       "<table border=\"1\" class=\"dataframe\">\n",
       "  <thead>\n",
       "    <tr style=\"text-align: right;\">\n",
       "      <th></th>\n",
       "      <th>Year</th>\n",
       "      <th>Kilometers_Driven</th>\n",
       "      <th>Transmission</th>\n",
       "      <th>Owner_Type</th>\n",
       "      <th>Mileage</th>\n",
       "      <th>Engine</th>\n",
       "      <th>Power</th>\n",
       "      <th>Seats</th>\n",
       "      <th>Price</th>\n",
       "    </tr>\n",
       "  </thead>\n",
       "  <tbody>\n",
       "    <tr>\n",
       "      <th>0</th>\n",
       "      <td>2010</td>\n",
       "      <td>72000</td>\n",
       "      <td>0</td>\n",
       "      <td>3</td>\n",
       "      <td>26.60</td>\n",
       "      <td>998</td>\n",
       "      <td>58.16</td>\n",
       "      <td>5.0</td>\n",
       "      <td>1.75</td>\n",
       "    </tr>\n",
       "    <tr>\n",
       "      <th>1</th>\n",
       "      <td>2015</td>\n",
       "      <td>41000</td>\n",
       "      <td>0</td>\n",
       "      <td>3</td>\n",
       "      <td>19.67</td>\n",
       "      <td>1582</td>\n",
       "      <td>126.20</td>\n",
       "      <td>5.0</td>\n",
       "      <td>12.50</td>\n",
       "    </tr>\n",
       "    <tr>\n",
       "      <th>2</th>\n",
       "      <td>2011</td>\n",
       "      <td>46000</td>\n",
       "      <td>0</td>\n",
       "      <td>3</td>\n",
       "      <td>18.20</td>\n",
       "      <td>1199</td>\n",
       "      <td>88.70</td>\n",
       "      <td>5.0</td>\n",
       "      <td>4.50</td>\n",
       "    </tr>\n",
       "    <tr>\n",
       "      <th>3</th>\n",
       "      <td>2012</td>\n",
       "      <td>87000</td>\n",
       "      <td>0</td>\n",
       "      <td>3</td>\n",
       "      <td>20.77</td>\n",
       "      <td>1248</td>\n",
       "      <td>88.76</td>\n",
       "      <td>7.0</td>\n",
       "      <td>6.00</td>\n",
       "    </tr>\n",
       "    <tr>\n",
       "      <th>4</th>\n",
       "      <td>2013</td>\n",
       "      <td>40670</td>\n",
       "      <td>1</td>\n",
       "      <td>2</td>\n",
       "      <td>15.20</td>\n",
       "      <td>1968</td>\n",
       "      <td>140.80</td>\n",
       "      <td>5.0</td>\n",
       "      <td>17.74</td>\n",
       "    </tr>\n",
       "  </tbody>\n",
       "</table>\n",
       "</div>"
      ],
      "text/plain": [
       "   Year  Kilometers_Driven  Transmission  Owner_Type  Mileage  Engine   Power  \\\n",
       "0  2010              72000             0           3    26.60     998   58.16   \n",
       "1  2015              41000             0           3    19.67    1582  126.20   \n",
       "2  2011              46000             0           3    18.20    1199   88.70   \n",
       "3  2012              87000             0           3    20.77    1248   88.76   \n",
       "4  2013              40670             1           2    15.20    1968  140.80   \n",
       "\n",
       "   Seats  Price  \n",
       "0    5.0   1.75  \n",
       "1    5.0  12.50  \n",
       "2    5.0   4.50  \n",
       "3    7.0   6.00  \n",
       "4    5.0  17.74  "
      ]
     },
     "execution_count": 728,
     "metadata": {},
     "output_type": "execute_result"
    }
   ],
   "source": [
    "df.head()"
   ]
  },
  {
   "cell_type": "markdown",
   "id": "7ec823a7",
   "metadata": {},
   "source": [
    "### 1.correlation method"
   ]
  },
  {
   "cell_type": "code",
   "execution_count": 729,
   "id": "d7ca7300",
   "metadata": {},
   "outputs": [
    {
     "data": {
      "text/html": [
       "<div>\n",
       "<style scoped>\n",
       "    .dataframe tbody tr th:only-of-type {\n",
       "        vertical-align: middle;\n",
       "    }\n",
       "\n",
       "    .dataframe tbody tr th {\n",
       "        vertical-align: top;\n",
       "    }\n",
       "\n",
       "    .dataframe thead th {\n",
       "        text-align: right;\n",
       "    }\n",
       "</style>\n",
       "<table border=\"1\" class=\"dataframe\">\n",
       "  <thead>\n",
       "    <tr style=\"text-align: right;\">\n",
       "      <th></th>\n",
       "      <th>Year</th>\n",
       "      <th>Kilometers_Driven</th>\n",
       "      <th>Transmission</th>\n",
       "      <th>Owner_Type</th>\n",
       "      <th>Mileage</th>\n",
       "      <th>Engine</th>\n",
       "      <th>Power</th>\n",
       "      <th>Seats</th>\n",
       "      <th>Price</th>\n",
       "    </tr>\n",
       "  </thead>\n",
       "  <tbody>\n",
       "    <tr>\n",
       "      <th>Year</th>\n",
       "      <td>1.000000</td>\n",
       "      <td>-0.173048</td>\n",
       "      <td>0.097059</td>\n",
       "      <td>0.397152</td>\n",
       "      <td>0.321527</td>\n",
       "      <td>-0.046288</td>\n",
       "      <td>0.039699</td>\n",
       "      <td>0.014829</td>\n",
       "      <td>0.305327</td>\n",
       "    </tr>\n",
       "    <tr>\n",
       "      <th>Kilometers_Driven</th>\n",
       "      <td>-0.173048</td>\n",
       "      <td>1.000000</td>\n",
       "      <td>-0.025663</td>\n",
       "      <td>-0.085337</td>\n",
       "      <td>-0.065242</td>\n",
       "      <td>0.090476</td>\n",
       "      <td>0.029932</td>\n",
       "      <td>0.083828</td>\n",
       "      <td>-0.011493</td>\n",
       "    </tr>\n",
       "    <tr>\n",
       "      <th>Transmission</th>\n",
       "      <td>0.097059</td>\n",
       "      <td>-0.025663</td>\n",
       "      <td>1.000000</td>\n",
       "      <td>0.008797</td>\n",
       "      <td>-0.333223</td>\n",
       "      <td>0.498935</td>\n",
       "      <td>0.641545</td>\n",
       "      <td>-0.073470</td>\n",
       "      <td>0.586025</td>\n",
       "    </tr>\n",
       "    <tr>\n",
       "      <th>Owner_Type</th>\n",
       "      <td>0.397152</td>\n",
       "      <td>-0.085337</td>\n",
       "      <td>0.008797</td>\n",
       "      <td>1.000000</td>\n",
       "      <td>0.161137</td>\n",
       "      <td>-0.047627</td>\n",
       "      <td>-0.013560</td>\n",
       "      <td>-0.011794</td>\n",
       "      <td>0.097557</td>\n",
       "    </tr>\n",
       "    <tr>\n",
       "      <th>Mileage</th>\n",
       "      <td>0.321527</td>\n",
       "      <td>-0.065242</td>\n",
       "      <td>-0.333223</td>\n",
       "      <td>0.161137</td>\n",
       "      <td>1.000000</td>\n",
       "      <td>-0.581202</td>\n",
       "      <td>-0.481865</td>\n",
       "      <td>-0.302392</td>\n",
       "      <td>-0.306610</td>\n",
       "    </tr>\n",
       "    <tr>\n",
       "      <th>Engine</th>\n",
       "      <td>-0.046288</td>\n",
       "      <td>0.090476</td>\n",
       "      <td>0.498935</td>\n",
       "      <td>-0.047627</td>\n",
       "      <td>-0.581202</td>\n",
       "      <td>1.000000</td>\n",
       "      <td>0.860401</td>\n",
       "      <td>0.397973</td>\n",
       "      <td>0.657196</td>\n",
       "    </tr>\n",
       "    <tr>\n",
       "      <th>Power</th>\n",
       "      <td>0.039699</td>\n",
       "      <td>0.029932</td>\n",
       "      <td>0.641545</td>\n",
       "      <td>-0.013560</td>\n",
       "      <td>-0.481865</td>\n",
       "      <td>0.860401</td>\n",
       "      <td>1.000000</td>\n",
       "      <td>0.105176</td>\n",
       "      <td>0.770415</td>\n",
       "    </tr>\n",
       "    <tr>\n",
       "      <th>Seats</th>\n",
       "      <td>0.014829</td>\n",
       "      <td>0.083828</td>\n",
       "      <td>-0.073470</td>\n",
       "      <td>-0.011794</td>\n",
       "      <td>-0.302392</td>\n",
       "      <td>0.397973</td>\n",
       "      <td>0.105176</td>\n",
       "      <td>1.000000</td>\n",
       "      <td>0.053787</td>\n",
       "    </tr>\n",
       "    <tr>\n",
       "      <th>Price</th>\n",
       "      <td>0.305327</td>\n",
       "      <td>-0.011493</td>\n",
       "      <td>0.586025</td>\n",
       "      <td>0.097557</td>\n",
       "      <td>-0.306610</td>\n",
       "      <td>0.657196</td>\n",
       "      <td>0.770415</td>\n",
       "      <td>0.053787</td>\n",
       "      <td>1.000000</td>\n",
       "    </tr>\n",
       "  </tbody>\n",
       "</table>\n",
       "</div>"
      ],
      "text/plain": [
       "                       Year  Kilometers_Driven  Transmission  Owner_Type  \\\n",
       "Year               1.000000          -0.173048      0.097059    0.397152   \n",
       "Kilometers_Driven -0.173048           1.000000     -0.025663   -0.085337   \n",
       "Transmission       0.097059          -0.025663      1.000000    0.008797   \n",
       "Owner_Type         0.397152          -0.085337      0.008797    1.000000   \n",
       "Mileage            0.321527          -0.065242     -0.333223    0.161137   \n",
       "Engine            -0.046288           0.090476      0.498935   -0.047627   \n",
       "Power              0.039699           0.029932      0.641545   -0.013560   \n",
       "Seats              0.014829           0.083828     -0.073470   -0.011794   \n",
       "Price              0.305327          -0.011493      0.586025    0.097557   \n",
       "\n",
       "                    Mileage    Engine     Power     Seats     Price  \n",
       "Year               0.321527 -0.046288  0.039699  0.014829  0.305327  \n",
       "Kilometers_Driven -0.065242  0.090476  0.029932  0.083828 -0.011493  \n",
       "Transmission      -0.333223  0.498935  0.641545 -0.073470  0.586025  \n",
       "Owner_Type         0.161137 -0.047627 -0.013560 -0.011794  0.097557  \n",
       "Mileage            1.000000 -0.581202 -0.481865 -0.302392 -0.306610  \n",
       "Engine            -0.581202  1.000000  0.860401  0.397973  0.657196  \n",
       "Power             -0.481865  0.860401  1.000000  0.105176  0.770415  \n",
       "Seats             -0.302392  0.397973  0.105176  1.000000  0.053787  \n",
       "Price             -0.306610  0.657196  0.770415  0.053787  1.000000  "
      ]
     },
     "execution_count": 729,
     "metadata": {},
     "output_type": "execute_result"
    }
   ],
   "source": [
    "df.corr()"
   ]
  },
  {
   "cell_type": "code",
   "execution_count": 730,
   "id": "e0c16f67",
   "metadata": {},
   "outputs": [
    {
     "data": {
      "text/html": [
       "<div>\n",
       "<style scoped>\n",
       "    .dataframe tbody tr th:only-of-type {\n",
       "        vertical-align: middle;\n",
       "    }\n",
       "\n",
       "    .dataframe tbody tr th {\n",
       "        vertical-align: top;\n",
       "    }\n",
       "\n",
       "    .dataframe thead th {\n",
       "        text-align: right;\n",
       "    }\n",
       "</style>\n",
       "<table border=\"1\" class=\"dataframe\">\n",
       "  <thead>\n",
       "    <tr style=\"text-align: right;\">\n",
       "      <th></th>\n",
       "      <th>Year</th>\n",
       "      <th>Kilometers_Driven</th>\n",
       "      <th>Transmission</th>\n",
       "      <th>Owner_Type</th>\n",
       "      <th>Mileage</th>\n",
       "      <th>Engine</th>\n",
       "      <th>Power</th>\n",
       "      <th>Seats</th>\n",
       "      <th>Price</th>\n",
       "    </tr>\n",
       "  </thead>\n",
       "  <tbody>\n",
       "    <tr>\n",
       "      <th>Year</th>\n",
       "      <td>1.000000</td>\n",
       "      <td>-0.553180</td>\n",
       "      <td>0.089510</td>\n",
       "      <td>0.356079</td>\n",
       "      <td>0.287553</td>\n",
       "      <td>-0.047992</td>\n",
       "      <td>0.055545</td>\n",
       "      <td>0.037093</td>\n",
       "      <td>0.490538</td>\n",
       "    </tr>\n",
       "    <tr>\n",
       "      <th>Kilometers_Driven</th>\n",
       "      <td>-0.553180</td>\n",
       "      <td>1.000000</td>\n",
       "      <td>-0.117711</td>\n",
       "      <td>-0.241964</td>\n",
       "      <td>-0.147324</td>\n",
       "      <td>0.187655</td>\n",
       "      <td>0.027648</td>\n",
       "      <td>0.195088</td>\n",
       "      <td>-0.215221</td>\n",
       "    </tr>\n",
       "    <tr>\n",
       "      <th>Transmission</th>\n",
       "      <td>0.089510</td>\n",
       "      <td>-0.117711</td>\n",
       "      <td>1.000000</td>\n",
       "      <td>0.001996</td>\n",
       "      <td>-0.356011</td>\n",
       "      <td>0.474228</td>\n",
       "      <td>0.586749</td>\n",
       "      <td>-0.072028</td>\n",
       "      <td>0.575153</td>\n",
       "    </tr>\n",
       "    <tr>\n",
       "      <th>Owner_Type</th>\n",
       "      <td>0.356079</td>\n",
       "      <td>-0.241964</td>\n",
       "      <td>0.001996</td>\n",
       "      <td>1.000000</td>\n",
       "      <td>0.157422</td>\n",
       "      <td>-0.043567</td>\n",
       "      <td>-0.005490</td>\n",
       "      <td>0.006788</td>\n",
       "      <td>0.186653</td>\n",
       "    </tr>\n",
       "    <tr>\n",
       "      <th>Mileage</th>\n",
       "      <td>0.287553</td>\n",
       "      <td>-0.147324</td>\n",
       "      <td>-0.356011</td>\n",
       "      <td>0.157422</td>\n",
       "      <td>1.000000</td>\n",
       "      <td>-0.581333</td>\n",
       "      <td>-0.542426</td>\n",
       "      <td>-0.344165</td>\n",
       "      <td>-0.279601</td>\n",
       "    </tr>\n",
       "    <tr>\n",
       "      <th>Engine</th>\n",
       "      <td>-0.047992</td>\n",
       "      <td>0.187655</td>\n",
       "      <td>0.474228</td>\n",
       "      <td>-0.043567</td>\n",
       "      <td>-0.581333</td>\n",
       "      <td>1.000000</td>\n",
       "      <td>0.869364</td>\n",
       "      <td>0.385472</td>\n",
       "      <td>0.675160</td>\n",
       "    </tr>\n",
       "    <tr>\n",
       "      <th>Power</th>\n",
       "      <td>0.055545</td>\n",
       "      <td>0.027648</td>\n",
       "      <td>0.586749</td>\n",
       "      <td>-0.005490</td>\n",
       "      <td>-0.542426</td>\n",
       "      <td>0.869364</td>\n",
       "      <td>1.000000</td>\n",
       "      <td>0.218600</td>\n",
       "      <td>0.755430</td>\n",
       "    </tr>\n",
       "    <tr>\n",
       "      <th>Seats</th>\n",
       "      <td>0.037093</td>\n",
       "      <td>0.195088</td>\n",
       "      <td>-0.072028</td>\n",
       "      <td>0.006788</td>\n",
       "      <td>-0.344165</td>\n",
       "      <td>0.385472</td>\n",
       "      <td>0.218600</td>\n",
       "      <td>1.000000</td>\n",
       "      <td>0.222017</td>\n",
       "    </tr>\n",
       "    <tr>\n",
       "      <th>Price</th>\n",
       "      <td>0.490538</td>\n",
       "      <td>-0.215221</td>\n",
       "      <td>0.575153</td>\n",
       "      <td>0.186653</td>\n",
       "      <td>-0.279601</td>\n",
       "      <td>0.675160</td>\n",
       "      <td>0.755430</td>\n",
       "      <td>0.222017</td>\n",
       "      <td>1.000000</td>\n",
       "    </tr>\n",
       "  </tbody>\n",
       "</table>\n",
       "</div>"
      ],
      "text/plain": [
       "                       Year  Kilometers_Driven  Transmission  Owner_Type  \\\n",
       "Year               1.000000          -0.553180      0.089510    0.356079   \n",
       "Kilometers_Driven -0.553180           1.000000     -0.117711   -0.241964   \n",
       "Transmission       0.089510          -0.117711      1.000000    0.001996   \n",
       "Owner_Type         0.356079          -0.241964      0.001996    1.000000   \n",
       "Mileage            0.287553          -0.147324     -0.356011    0.157422   \n",
       "Engine            -0.047992           0.187655      0.474228   -0.043567   \n",
       "Power              0.055545           0.027648      0.586749   -0.005490   \n",
       "Seats              0.037093           0.195088     -0.072028    0.006788   \n",
       "Price              0.490538          -0.215221      0.575153    0.186653   \n",
       "\n",
       "                    Mileage    Engine     Power     Seats     Price  \n",
       "Year               0.287553 -0.047992  0.055545  0.037093  0.490538  \n",
       "Kilometers_Driven -0.147324  0.187655  0.027648  0.195088 -0.215221  \n",
       "Transmission      -0.356011  0.474228  0.586749 -0.072028  0.575153  \n",
       "Owner_Type         0.157422 -0.043567 -0.005490  0.006788  0.186653  \n",
       "Mileage            1.000000 -0.581333 -0.542426 -0.344165 -0.279601  \n",
       "Engine            -0.581333  1.000000  0.869364  0.385472  0.675160  \n",
       "Power             -0.542426  0.869364  1.000000  0.218600  0.755430  \n",
       "Seats             -0.344165  0.385472  0.218600  1.000000  0.222017  \n",
       "Price             -0.279601  0.675160  0.755430  0.222017  1.000000  "
      ]
     },
     "execution_count": 730,
     "metadata": {},
     "output_type": "execute_result"
    }
   ],
   "source": [
    "df.corr(method='spearman')"
   ]
  },
  {
   "cell_type": "markdown",
   "id": "ebb73b73",
   "metadata": {},
   "source": [
    "### Information gain "
   ]
  },
  {
   "cell_type": "code",
   "execution_count": 731,
   "id": "d6fa580e",
   "metadata": {},
   "outputs": [],
   "source": [
    "from sklearn.feature_selection import mutual_info_classif, mutual_info_regression"
   ]
  },
  {
   "cell_type": "code",
   "execution_count": 732,
   "id": "88ea2901",
   "metadata": {},
   "outputs": [
    {
     "data": {
      "text/plain": [
       "<AxesSubplot:>"
      ]
     },
     "execution_count": 732,
     "metadata": {},
     "output_type": "execute_result"
    },
    {
     "data": {
      "image/png": "[encoded data removed]",
      "text/plain": [
       "<Figure size 432x288 with 1 Axes>"
      ]
     },
     "metadata": {
      "needs_background": "light"
     },
     "output_type": "display_data"
    }
   ],
   "source": [
    "x = df.drop('Price',axis = 1)\n",
    "y = df['Price']\n",
    "array = mutual_info_regression(x,y)\n",
    "s1 = pd.Series(array, index = x.columns)\n",
    "s1.sort_values().plot(kind = 'barh')"
   ]
  },
  {
   "cell_type": "markdown",
   "id": "caaed0bc",
   "metadata": {},
   "source": [
    "### 3.Fisher Score"
   ]
  },
  {
   "cell_type": "code",
   "execution_count": 733,
   "id": "98f33ae0",
   "metadata": {},
   "outputs": [
    {
     "name": "stdout",
     "output_type": "stream",
     "text": [
      "Requirement already satisfied: skfeature-chappers in c:\\users\\mayur\\anaconda3\\anaconda\\envs\\car_price\\lib\\site-packages (1.1.0)\n",
      "Requirement already satisfied: pandas in c:\\users\\mayur\\anaconda3\\anaconda\\envs\\car_price\\lib\\site-packages (from skfeature-chappers) (1.4.2)\n",
      "Requirement already satisfied: numpy in c:\\users\\mayur\\anaconda3\\anaconda\\envs\\car_price\\lib\\site-packages (from skfeature-chappers) (1.21.5)\n",
      "Requirement already satisfied: scikit-learn in c:\\users\\mayur\\anaconda3\\anaconda\\envs\\car_price\\lib\\site-packages (from skfeature-chappers) (1.0.2)\n",
      "Requirement already satisfied: pytz>=2020.1 in c:\\users\\mayur\\anaconda3\\anaconda\\envs\\car_price\\lib\\site-packages (from pandas->skfeature-chappers) (2021.3)\n",
      "Requirement already satisfied: python-dateutil>=2.8.1 in c:\\users\\mayur\\anaconda3\\anaconda\\envs\\car_price\\lib\\site-packages (from pandas->skfeature-chappers) (2.8.2)\n",
      "Requirement already satisfied: six>=1.5 in c:\\users\\mayur\\anaconda3\\anaconda\\envs\\car_price\\lib\\site-packages (from python-dateutil>=2.8.1->pandas->skfeature-chappers) (1.16.0)\n",
      "Requirement already satisfied: joblib>=0.11 in c:\\users\\mayur\\anaconda3\\anaconda\\envs\\car_price\\lib\\site-packages (from scikit-learn->skfeature-chappers) (1.1.0)\n",
      "Requirement already satisfied: threadpoolctl>=2.0.0 in c:\\users\\mayur\\anaconda3\\anaconda\\envs\\car_price\\lib\\site-packages (from scikit-learn->skfeature-chappers) (2.2.0)\n",
      "Requirement already satisfied: scipy>=1.1.0 in c:\\users\\mayur\\anaconda3\\anaconda\\envs\\car_price\\lib\\site-packages (from scikit-learn->skfeature-chappers) (1.7.3)\n",
      "Note: you may need to restart the kernel to use updated packages.\n"
     ]
    }
   ],
   "source": [
    "pip install skfeature-chappers\n"
   ]
  },
  {
   "cell_type": "code",
   "execution_count": 734,
   "id": "c1ddb698",
   "metadata": {},
   "outputs": [],
   "source": [
    "from skfeature.function.similarity_based import fisher_score"
   ]
  },
  {
   "cell_type": "code",
   "execution_count": 735,
   "id": "795e8853",
   "metadata": {},
   "outputs": [
    {
     "ename": "KeyboardInterrupt",
     "evalue": "",
     "output_type": "error",
     "traceback": [
      "\u001b[1;31m---------------------------------------------------------------------------\u001b[0m",
      "\u001b[1;31mKeyboardInterrupt\u001b[0m                         Traceback (most recent call last)",
      "Input \u001b[1;32mIn [735]\u001b[0m, in \u001b[0;36m<cell line: 1>\u001b[1;34m()\u001b[0m\n\u001b[1;32m----> 1\u001b[0m array \u001b[38;5;241m=\u001b[39m \u001b[43mfisher_score\u001b[49m\u001b[38;5;241;43m.\u001b[39;49m\u001b[43mfisher_score\u001b[49m\u001b[43m(\u001b[49m\u001b[43mx\u001b[49m\u001b[43m,\u001b[49m\u001b[43my\u001b[49m\u001b[43m)\u001b[49m\n\u001b[0;32m      3\u001b[0m s1 \u001b[38;5;241m=\u001b[39m pd\u001b[38;5;241m.\u001b[39mSeries(array, index \u001b[38;5;241m=\u001b[39m x\u001b[38;5;241m.\u001b[39mcolumns)\n\u001b[0;32m      4\u001b[0m s1\u001b[38;5;241m.\u001b[39msort_values()\u001b[38;5;241m.\u001b[39mplot(kind \u001b[38;5;241m=\u001b[39m \u001b[38;5;124m'\u001b[39m\u001b[38;5;124mbarh\u001b[39m\u001b[38;5;124m'\u001b[39m)\n",
      "File \u001b[1;32m~\\Anaconda3\\anaconda\\envs\\car_price\\lib\\site-packages\\skfeature\\function\\similarity_based\\fisher_score.py:40\u001b[0m, in \u001b[0;36mfisher_score\u001b[1;34m(X, y, mode)\u001b[0m\n\u001b[0;32m     38\u001b[0m \u001b[38;5;66;03m# Construct weight matrix W in a fisherScore way\u001b[39;00m\n\u001b[0;32m     39\u001b[0m kwargs \u001b[38;5;241m=\u001b[39m {\u001b[38;5;124m\"\u001b[39m\u001b[38;5;124mneighbor_mode\u001b[39m\u001b[38;5;124m\"\u001b[39m: \u001b[38;5;124m\"\u001b[39m\u001b[38;5;124msupervised\u001b[39m\u001b[38;5;124m\"\u001b[39m, \u001b[38;5;124m\"\u001b[39m\u001b[38;5;124mfisher_score\u001b[39m\u001b[38;5;124m\"\u001b[39m: \u001b[38;5;28;01mTrue\u001b[39;00m, \u001b[38;5;124m\"\u001b[39m\u001b[38;5;124my\u001b[39m\u001b[38;5;124m\"\u001b[39m: y}\n\u001b[1;32m---> 40\u001b[0m W \u001b[38;5;241m=\u001b[39m construct_W(X, \u001b[38;5;241m*\u001b[39m\u001b[38;5;241m*\u001b[39mkwargs)\n\u001b[0;32m     42\u001b[0m \u001b[38;5;66;03m# build the diagonal D matrix from affinity matrix W\u001b[39;00m\n\u001b[0;32m     43\u001b[0m D \u001b[38;5;241m=\u001b[39m np\u001b[38;5;241m.\u001b[39marray(W\u001b[38;5;241m.\u001b[39msum(axis\u001b[38;5;241m=\u001b[39m\u001b[38;5;241m1\u001b[39m))\n",
      "File \u001b[1;32m~\\Anaconda3\\anaconda\\envs\\car_price\\lib\\site-packages\\skfeature\\utility\\construct_W.py:194\u001b[0m, in \u001b[0;36mconstruct_W\u001b[1;34m(X, **kwargs)\u001b[0m\n\u001b[0;32m    192\u001b[0m \u001b[38;5;28;01mfor\u001b[39;00m i \u001b[38;5;129;01min\u001b[39;00m \u001b[38;5;28mrange\u001b[39m(n_classes):\n\u001b[0;32m    193\u001b[0m     class_idx \u001b[38;5;241m=\u001b[39m y \u001b[38;5;241m==\u001b[39m label[i]\n\u001b[1;32m--> 194\u001b[0m     class_idx_all \u001b[38;5;241m=\u001b[39m class_idx[:, np\u001b[38;5;241m.\u001b[39mnewaxis] \u001b[38;5;241m&\u001b[39m \u001b[43mclass_idx\u001b[49m\u001b[43m[\u001b[49m\u001b[43mnp\u001b[49m\u001b[38;5;241;43m.\u001b[39;49m\u001b[43mnewaxis\u001b[49m\u001b[43m,\u001b[49m\u001b[43m \u001b[49m\u001b[43m:\u001b[49m\u001b[43m]\u001b[49m\n\u001b[0;32m    195\u001b[0m     W[class_idx_all] \u001b[38;5;241m=\u001b[39m \u001b[38;5;241m1.0\u001b[39m \u001b[38;5;241m/\u001b[39m np\u001b[38;5;241m.\u001b[39msum(np\u001b[38;5;241m.\u001b[39msum(class_idx))\n\u001b[0;32m    196\u001b[0m \u001b[38;5;28;01mreturn\u001b[39;00m W\n",
      "File \u001b[1;32m~\\Anaconda3\\anaconda\\envs\\car_price\\lib\\site-packages\\pandas\\core\\series.py:984\u001b[0m, in \u001b[0;36mSeries.__getitem__\u001b[1;34m(self, key)\u001b[0m\n\u001b[0;32m    981\u001b[0m     key \u001b[38;5;241m=\u001b[39m np\u001b[38;5;241m.\u001b[39masarray(key, dtype\u001b[38;5;241m=\u001b[39m\u001b[38;5;28mbool\u001b[39m)\n\u001b[0;32m    982\u001b[0m     \u001b[38;5;28;01mreturn\u001b[39;00m \u001b[38;5;28mself\u001b[39m\u001b[38;5;241m.\u001b[39m_get_values(key)\n\u001b[1;32m--> 984\u001b[0m \u001b[38;5;28;01mreturn\u001b[39;00m \u001b[38;5;28;43mself\u001b[39;49m\u001b[38;5;241;43m.\u001b[39;49m\u001b[43m_get_with\u001b[49m\u001b[43m(\u001b[49m\u001b[43mkey\u001b[49m\u001b[43m)\u001b[49m\n",
      "File \u001b[1;32m~\\Anaconda3\\anaconda\\envs\\car_price\\lib\\site-packages\\pandas\\core\\series.py:999\u001b[0m, in \u001b[0;36mSeries._get_with\u001b[1;34m(self, key)\u001b[0m\n\u001b[0;32m    994\u001b[0m     \u001b[38;5;28;01mraise\u001b[39;00m \u001b[38;5;167;01mTypeError\u001b[39;00m(\n\u001b[0;32m    995\u001b[0m         \u001b[38;5;124m\"\u001b[39m\u001b[38;5;124mIndexing a Series with DataFrame is not \u001b[39m\u001b[38;5;124m\"\u001b[39m\n\u001b[0;32m    996\u001b[0m         \u001b[38;5;124m\"\u001b[39m\u001b[38;5;124msupported, use the appropriate DataFrame column\u001b[39m\u001b[38;5;124m\"\u001b[39m\n\u001b[0;32m    997\u001b[0m     )\n\u001b[0;32m    998\u001b[0m \u001b[38;5;28;01melif\u001b[39;00m \u001b[38;5;28misinstance\u001b[39m(key, \u001b[38;5;28mtuple\u001b[39m):\n\u001b[1;32m--> 999\u001b[0m     \u001b[38;5;28;01mreturn\u001b[39;00m \u001b[38;5;28;43mself\u001b[39;49m\u001b[38;5;241;43m.\u001b[39;49m\u001b[43m_get_values_tuple\u001b[49m\u001b[43m(\u001b[49m\u001b[43mkey\u001b[49m\u001b[43m)\u001b[49m\n\u001b[0;32m   1001\u001b[0m \u001b[38;5;28;01melif\u001b[39;00m \u001b[38;5;129;01mnot\u001b[39;00m is_list_like(key):\n\u001b[0;32m   1002\u001b[0m     \u001b[38;5;66;03m# e.g. scalars that aren't recognized by lib.is_scalar, GH#32684\u001b[39;00m\n\u001b[0;32m   1003\u001b[0m     \u001b[38;5;28;01mreturn\u001b[39;00m \u001b[38;5;28mself\u001b[39m\u001b[38;5;241m.\u001b[39mloc[key]\n",
      "File \u001b[1;32m~\\Anaconda3\\anaconda\\envs\\car_price\\lib\\site-packages\\pandas\\core\\series.py:1030\u001b[0m, in \u001b[0;36mSeries._get_values_tuple\u001b[1;34m(self, key)\u001b[0m\n\u001b[0;32m   1028\u001b[0m \u001b[38;5;28;01mif\u001b[39;00m com\u001b[38;5;241m.\u001b[39many_none(\u001b[38;5;241m*\u001b[39mkey):\n\u001b[0;32m   1029\u001b[0m     result \u001b[38;5;241m=\u001b[39m \u001b[38;5;28mself\u001b[39m\u001b[38;5;241m.\u001b[39m_get_values(key)\n\u001b[1;32m-> 1030\u001b[0m     \u001b[43mdeprecate_ndim_indexing\u001b[49m\u001b[43m(\u001b[49m\u001b[43mresult\u001b[49m\u001b[43m,\u001b[49m\u001b[43m \u001b[49m\u001b[43mstacklevel\u001b[49m\u001b[38;5;241;43m=\u001b[39;49m\u001b[43mfind_stack_level\u001b[49m\u001b[43m(\u001b[49m\u001b[43m)\u001b[49m\u001b[43m)\u001b[49m\n\u001b[0;32m   1031\u001b[0m     \u001b[38;5;28;01mreturn\u001b[39;00m result\n\u001b[0;32m   1033\u001b[0m \u001b[38;5;28;01mif\u001b[39;00m \u001b[38;5;129;01mnot\u001b[39;00m \u001b[38;5;28misinstance\u001b[39m(\u001b[38;5;28mself\u001b[39m\u001b[38;5;241m.\u001b[39mindex, MultiIndex):\n",
      "File \u001b[1;32m~\\Anaconda3\\anaconda\\envs\\car_price\\lib\\site-packages\\pandas\\core\\indexers\\utils.py:378\u001b[0m, in \u001b[0;36mdeprecate_ndim_indexing\u001b[1;34m(result, stacklevel)\u001b[0m\n\u001b[0;32m    364\u001b[0m \u001b[38;5;124;03m\"\"\"\u001b[39;00m\n\u001b[0;32m    365\u001b[0m \u001b[38;5;124;03mHelper function to raise the deprecation warning for multi-dimensional\u001b[39;00m\n\u001b[0;32m    366\u001b[0m \u001b[38;5;124;03mindexing on 1D Series/Index.\u001b[39;00m\n\u001b[1;32m   (...)\u001b[0m\n\u001b[0;32m    370\u001b[0m \u001b[38;5;124;03m(Deprecation GH#30588).\u001b[39;00m\n\u001b[0;32m    371\u001b[0m \u001b[38;5;124;03m\"\"\"\u001b[39;00m\n\u001b[0;32m    372\u001b[0m \u001b[38;5;28;01mif\u001b[39;00m np\u001b[38;5;241m.\u001b[39mndim(result) \u001b[38;5;241m>\u001b[39m \u001b[38;5;241m1\u001b[39m:\n\u001b[0;32m    373\u001b[0m     warnings\u001b[38;5;241m.\u001b[39mwarn(\n\u001b[0;32m    374\u001b[0m         \u001b[38;5;124m\"\u001b[39m\u001b[38;5;124mSupport for multi-dimensional indexing (e.g. `obj[:, None]`) \u001b[39m\u001b[38;5;124m\"\u001b[39m\n\u001b[0;32m    375\u001b[0m         \u001b[38;5;124m\"\u001b[39m\u001b[38;5;124mis deprecated and will be removed in a future \u001b[39m\u001b[38;5;124m\"\u001b[39m\n\u001b[0;32m    376\u001b[0m         \u001b[38;5;124m\"\u001b[39m\u001b[38;5;124mversion.  Convert to a numpy array before indexing instead.\u001b[39m\u001b[38;5;124m\"\u001b[39m,\n\u001b[0;32m    377\u001b[0m         \u001b[38;5;167;01mFutureWarning\u001b[39;00m,\n\u001b[1;32m--> 378\u001b[0m         stacklevel\u001b[38;5;241m=\u001b[39m\u001b[43mfind_stack_level\u001b[49m\u001b[43m(\u001b[49m\u001b[43m)\u001b[49m,\n\u001b[0;32m    379\u001b[0m     )\n",
      "File \u001b[1;32m~\\Anaconda3\\anaconda\\envs\\car_price\\lib\\site-packages\\pandas\\util\\_exceptions.py:32\u001b[0m, in \u001b[0;36mfind_stack_level\u001b[1;34m()\u001b[0m\n\u001b[0;32m     27\u001b[0m \u001b[38;5;28;01mdef\u001b[39;00m \u001b[38;5;21mfind_stack_level\u001b[39m() \u001b[38;5;241m-\u001b[39m\u001b[38;5;241m>\u001b[39m \u001b[38;5;28mint\u001b[39m:\n\u001b[0;32m     28\u001b[0m     \u001b[38;5;124;03m\"\"\"\u001b[39;00m\n\u001b[0;32m     29\u001b[0m \u001b[38;5;124;03m    Find the first place in the stack that is not inside pandas\u001b[39;00m\n\u001b[0;32m     30\u001b[0m \u001b[38;5;124;03m    (tests notwithstanding).\u001b[39;00m\n\u001b[0;32m     31\u001b[0m \u001b[38;5;124;03m    \"\"\"\u001b[39;00m\n\u001b[1;32m---> 32\u001b[0m     stack \u001b[38;5;241m=\u001b[39m \u001b[43minspect\u001b[49m\u001b[38;5;241;43m.\u001b[39;49m\u001b[43mstack\u001b[49m\u001b[43m(\u001b[49m\u001b[43m)\u001b[49m\n\u001b[0;32m     34\u001b[0m     \u001b[38;5;28;01mimport\u001b[39;00m \u001b[38;5;21;01mpandas\u001b[39;00m \u001b[38;5;28;01mas\u001b[39;00m \u001b[38;5;21;01mpd\u001b[39;00m\n\u001b[0;32m     36\u001b[0m     pkg_dir \u001b[38;5;241m=\u001b[39m os\u001b[38;5;241m.\u001b[39mpath\u001b[38;5;241m.\u001b[39mdirname(pd\u001b[38;5;241m.\u001b[39m\u001b[38;5;18m__file__\u001b[39m)\n",
      "File \u001b[1;32m~\\Anaconda3\\anaconda\\envs\\car_price\\lib\\inspect.py:1554\u001b[0m, in \u001b[0;36mstack\u001b[1;34m(context)\u001b[0m\n\u001b[0;32m   1552\u001b[0m \u001b[38;5;28;01mdef\u001b[39;00m \u001b[38;5;21mstack\u001b[39m(context\u001b[38;5;241m=\u001b[39m\u001b[38;5;241m1\u001b[39m):\n\u001b[0;32m   1553\u001b[0m     \u001b[38;5;124;03m\"\"\"Return a list of records for the stack above the caller's frame.\"\"\"\u001b[39;00m\n\u001b[1;32m-> 1554\u001b[0m     \u001b[38;5;28;01mreturn\u001b[39;00m \u001b[43mgetouterframes\u001b[49m\u001b[43m(\u001b[49m\u001b[43msys\u001b[49m\u001b[38;5;241;43m.\u001b[39;49m\u001b[43m_getframe\u001b[49m\u001b[43m(\u001b[49m\u001b[38;5;241;43m1\u001b[39;49m\u001b[43m)\u001b[49m\u001b[43m,\u001b[49m\u001b[43m \u001b[49m\u001b[43mcontext\u001b[49m\u001b[43m)\u001b[49m\n",
      "File \u001b[1;32m~\\Anaconda3\\anaconda\\envs\\car_price\\lib\\inspect.py:1531\u001b[0m, in \u001b[0;36mgetouterframes\u001b[1;34m(frame, context)\u001b[0m\n\u001b[0;32m   1529\u001b[0m framelist \u001b[38;5;241m=\u001b[39m []\n\u001b[0;32m   1530\u001b[0m \u001b[38;5;28;01mwhile\u001b[39;00m frame:\n\u001b[1;32m-> 1531\u001b[0m     frameinfo \u001b[38;5;241m=\u001b[39m (frame,) \u001b[38;5;241m+\u001b[39m \u001b[43mgetframeinfo\u001b[49m\u001b[43m(\u001b[49m\u001b[43mframe\u001b[49m\u001b[43m,\u001b[49m\u001b[43m \u001b[49m\u001b[43mcontext\u001b[49m\u001b[43m)\u001b[49m\n\u001b[0;32m   1532\u001b[0m     framelist\u001b[38;5;241m.\u001b[39mappend(FrameInfo(\u001b[38;5;241m*\u001b[39mframeinfo))\n\u001b[0;32m   1533\u001b[0m     frame \u001b[38;5;241m=\u001b[39m frame\u001b[38;5;241m.\u001b[39mf_back\n",
      "File \u001b[1;32m~\\Anaconda3\\anaconda\\envs\\car_price\\lib\\inspect.py:1501\u001b[0m, in \u001b[0;36mgetframeinfo\u001b[1;34m(frame, context)\u001b[0m\n\u001b[0;32m   1498\u001b[0m \u001b[38;5;28;01mif\u001b[39;00m \u001b[38;5;129;01mnot\u001b[39;00m isframe(frame):\n\u001b[0;32m   1499\u001b[0m     \u001b[38;5;28;01mraise\u001b[39;00m \u001b[38;5;167;01mTypeError\u001b[39;00m(\u001b[38;5;124m'\u001b[39m\u001b[38;5;132;01m{!r}\u001b[39;00m\u001b[38;5;124m is not a frame or traceback object\u001b[39m\u001b[38;5;124m'\u001b[39m\u001b[38;5;241m.\u001b[39mformat(frame))\n\u001b[1;32m-> 1501\u001b[0m filename \u001b[38;5;241m=\u001b[39m \u001b[43mgetsourcefile\u001b[49m\u001b[43m(\u001b[49m\u001b[43mframe\u001b[49m\u001b[43m)\u001b[49m \u001b[38;5;129;01mor\u001b[39;00m getfile(frame)\n\u001b[0;32m   1502\u001b[0m \u001b[38;5;28;01mif\u001b[39;00m context \u001b[38;5;241m>\u001b[39m \u001b[38;5;241m0\u001b[39m:\n\u001b[0;32m   1503\u001b[0m     start \u001b[38;5;241m=\u001b[39m lineno \u001b[38;5;241m-\u001b[39m \u001b[38;5;241m1\u001b[39m \u001b[38;5;241m-\u001b[39m context\u001b[38;5;241m/\u001b[39m\u001b[38;5;241m/\u001b[39m\u001b[38;5;241m2\u001b[39m\n",
      "File \u001b[1;32m~\\Anaconda3\\anaconda\\envs\\car_price\\lib\\inspect.py:706\u001b[0m, in \u001b[0;36mgetsourcefile\u001b[1;34m(object)\u001b[0m\n\u001b[0;32m    703\u001b[0m \u001b[38;5;28;01melif\u001b[39;00m \u001b[38;5;28many\u001b[39m(filename\u001b[38;5;241m.\u001b[39mendswith(s) \u001b[38;5;28;01mfor\u001b[39;00m s \u001b[38;5;129;01min\u001b[39;00m\n\u001b[0;32m    704\u001b[0m              importlib\u001b[38;5;241m.\u001b[39mmachinery\u001b[38;5;241m.\u001b[39mEXTENSION_SUFFIXES):\n\u001b[0;32m    705\u001b[0m     \u001b[38;5;28;01mreturn\u001b[39;00m \u001b[38;5;28;01mNone\u001b[39;00m\n\u001b[1;32m--> 706\u001b[0m \u001b[38;5;28;01mif\u001b[39;00m \u001b[43mos\u001b[49m\u001b[38;5;241;43m.\u001b[39;49m\u001b[43mpath\u001b[49m\u001b[38;5;241;43m.\u001b[39;49m\u001b[43mexists\u001b[49m\u001b[43m(\u001b[49m\u001b[43mfilename\u001b[49m\u001b[43m)\u001b[49m:\n\u001b[0;32m    707\u001b[0m     \u001b[38;5;28;01mreturn\u001b[39;00m filename\n\u001b[0;32m    708\u001b[0m \u001b[38;5;66;03m# only return a non-existent filename if the module has a PEP 302 loader\u001b[39;00m\n",
      "File \u001b[1;32m~\\Anaconda3\\anaconda\\envs\\car_price\\lib\\genericpath.py:19\u001b[0m, in \u001b[0;36mexists\u001b[1;34m(path)\u001b[0m\n\u001b[0;32m     17\u001b[0m \u001b[38;5;124;03m\"\"\"Test whether a path exists.  Returns False for broken symbolic links\"\"\"\u001b[39;00m\n\u001b[0;32m     18\u001b[0m \u001b[38;5;28;01mtry\u001b[39;00m:\n\u001b[1;32m---> 19\u001b[0m     \u001b[43mos\u001b[49m\u001b[38;5;241;43m.\u001b[39;49m\u001b[43mstat\u001b[49m\u001b[43m(\u001b[49m\u001b[43mpath\u001b[49m\u001b[43m)\u001b[49m\n\u001b[0;32m     20\u001b[0m \u001b[38;5;28;01mexcept\u001b[39;00m (\u001b[38;5;167;01mOSError\u001b[39;00m, \u001b[38;5;167;01mValueError\u001b[39;00m):\n\u001b[0;32m     21\u001b[0m     \u001b[38;5;28;01mreturn\u001b[39;00m \u001b[38;5;28;01mFalse\u001b[39;00m\n",
      "\u001b[1;31mKeyboardInterrupt\u001b[0m: "
     ]
    }
   ],
   "source": [
    "array = fisher_score.fisher_score(x,y)\n",
    "\n",
    "s1 = pd.Series(array, index = x.columns)\n",
    "s1.sort_values().plot(kind = 'barh')"
   ]
  },
  {
   "cell_type": "markdown",
   "id": "eba58faf",
   "metadata": {},
   "source": [
    "### 4.variance threshold method"
   ]
  },
  {
   "cell_type": "code",
   "execution_count": 736,
   "id": "99146441",
   "metadata": {},
   "outputs": [
    {
     "data": {
      "text/plain": [
       "array([ True,  True, False, False,  True,  True,  True, False,  True])"
      ]
     },
     "execution_count": 736,
     "metadata": {},
     "output_type": "execute_result"
    }
   ],
   "source": [
    "from sklearn.feature_selection import VarianceThreshold\n",
    "var_thresh = VarianceThreshold(threshold=0.8)\n",
    "var_thresh.fit(df)\n",
    "array = var_thresh.get_support()\n",
    "array"
   ]
  },
  {
   "cell_type": "code",
   "execution_count": 737,
   "id": "84b7673f",
   "metadata": {},
   "outputs": [
    {
     "data": {
      "text/plain": [
       "array([2, 3, 7], dtype=int64)"
      ]
     },
     "execution_count": 737,
     "metadata": {},
     "output_type": "execute_result"
    }
   ],
   "source": [
    "np.where(array== False)[0]"
   ]
  },
  {
   "cell_type": "code",
   "execution_count": 738,
   "id": "74be43a1",
   "metadata": {},
   "outputs": [
    {
     "data": {
      "text/plain": [
       "Index(['Transmission', 'Owner_Type', 'Seats'], dtype='object')"
      ]
     },
     "execution_count": 738,
     "metadata": {},
     "output_type": "execute_result"
    }
   ],
   "source": [
    "df.columns[np.where(array == False)[0]]"
   ]
  },
  {
   "cell_type": "code",
   "execution_count": 739,
   "id": "5e182f95",
   "metadata": {},
   "outputs": [],
   "source": [
    "### we can delete ['Transmission', 'Owner_Type', 'Seats'] These three features"
   ]
  },
  {
   "cell_type": "code",
   "execution_count": 740,
   "id": "acf65276",
   "metadata": {},
   "outputs": [],
   "source": [
    "df.drop(df.columns[np.where(array == False)[0]],axis=1,inplace=True)"
   ]
  },
  {
   "cell_type": "code",
   "execution_count": 741,
   "id": "15936962",
   "metadata": {},
   "outputs": [
    {
     "data": {
      "text/html": [
       "<div>\n",
       "<style scoped>\n",
       "    .dataframe tbody tr th:only-of-type {\n",
       "        vertical-align: middle;\n",
       "    }\n",
       "\n",
       "    .dataframe tbody tr th {\n",
       "        vertical-align: top;\n",
       "    }\n",
       "\n",
       "    .dataframe thead th {\n",
       "        text-align: right;\n",
       "    }\n",
       "</style>\n",
       "<table border=\"1\" class=\"dataframe\">\n",
       "  <thead>\n",
       "    <tr style=\"text-align: right;\">\n",
       "      <th></th>\n",
       "      <th>Year</th>\n",
       "      <th>Kilometers_Driven</th>\n",
       "      <th>Mileage</th>\n",
       "      <th>Engine</th>\n",
       "      <th>Power</th>\n",
       "      <th>Price</th>\n",
       "    </tr>\n",
       "  </thead>\n",
       "  <tbody>\n",
       "    <tr>\n",
       "      <th>0</th>\n",
       "      <td>2010</td>\n",
       "      <td>72000</td>\n",
       "      <td>26.60</td>\n",
       "      <td>998</td>\n",
       "      <td>58.16</td>\n",
       "      <td>1.75</td>\n",
       "    </tr>\n",
       "    <tr>\n",
       "      <th>1</th>\n",
       "      <td>2015</td>\n",
       "      <td>41000</td>\n",
       "      <td>19.67</td>\n",
       "      <td>1582</td>\n",
       "      <td>126.20</td>\n",
       "      <td>12.50</td>\n",
       "    </tr>\n",
       "    <tr>\n",
       "      <th>2</th>\n",
       "      <td>2011</td>\n",
       "      <td>46000</td>\n",
       "      <td>18.20</td>\n",
       "      <td>1199</td>\n",
       "      <td>88.70</td>\n",
       "      <td>4.50</td>\n",
       "    </tr>\n",
       "    <tr>\n",
       "      <th>3</th>\n",
       "      <td>2012</td>\n",
       "      <td>87000</td>\n",
       "      <td>20.77</td>\n",
       "      <td>1248</td>\n",
       "      <td>88.76</td>\n",
       "      <td>6.00</td>\n",
       "    </tr>\n",
       "    <tr>\n",
       "      <th>4</th>\n",
       "      <td>2013</td>\n",
       "      <td>40670</td>\n",
       "      <td>15.20</td>\n",
       "      <td>1968</td>\n",
       "      <td>140.80</td>\n",
       "      <td>17.74</td>\n",
       "    </tr>\n",
       "  </tbody>\n",
       "</table>\n",
       "</div>"
      ],
      "text/plain": [
       "   Year  Kilometers_Driven  Mileage  Engine   Power  Price\n",
       "0  2010              72000    26.60     998   58.16   1.75\n",
       "1  2015              41000    19.67    1582  126.20  12.50\n",
       "2  2011              46000    18.20    1199   88.70   4.50\n",
       "3  2012              87000    20.77    1248   88.76   6.00\n",
       "4  2013              40670    15.20    1968  140.80  17.74"
      ]
     },
     "execution_count": 741,
     "metadata": {},
     "output_type": "execute_result"
    }
   ],
   "source": [
    "df.head()"
   ]
  },
  {
   "cell_type": "code",
   "execution_count": 742,
   "id": "6995ccb6",
   "metadata": {},
   "outputs": [
    {
     "data": {
      "text/html": [
       "<div>\n",
       "<style scoped>\n",
       "    .dataframe tbody tr th:only-of-type {\n",
       "        vertical-align: middle;\n",
       "    }\n",
       "\n",
       "    .dataframe tbody tr th {\n",
       "        vertical-align: top;\n",
       "    }\n",
       "\n",
       "    .dataframe thead th {\n",
       "        text-align: right;\n",
       "    }\n",
       "</style>\n",
       "<table border=\"1\" class=\"dataframe\">\n",
       "  <thead>\n",
       "    <tr style=\"text-align: right;\">\n",
       "      <th></th>\n",
       "      <th>Year</th>\n",
       "      <th>Kilometers_Driven</th>\n",
       "      <th>Mileage</th>\n",
       "      <th>Engine</th>\n",
       "      <th>Power</th>\n",
       "      <th>Price</th>\n",
       "      <th>Audi A4 2.0 TDI</th>\n",
       "      <th>Audi A4 2.0 TDI 177 Bhp Premium Plus</th>\n",
       "      <th>Audi A4 2.0 TDI Multitronic</th>\n",
       "      <th>Audi A4 35 TDI Premium</th>\n",
       "      <th>...</th>\n",
       "      <th>Volkswagen Polo Petrol Trendline 1.2L</th>\n",
       "      <th>Volkswagen Vento 1.5 TDI Highline</th>\n",
       "      <th>Volkswagen Vento 1.5 TDI Highline AT</th>\n",
       "      <th>Volkswagen Vento 1.6 Highline</th>\n",
       "      <th>Volkswagen Vento Diesel Comfortline</th>\n",
       "      <th>Volkswagen Vento Diesel Highline</th>\n",
       "      <th>Volkswagen Vento Diesel Trendline</th>\n",
       "      <th>Volkswagen Vento Petrol Highline</th>\n",
       "      <th>Volkswagen Vento Petrol Highline AT</th>\n",
       "      <th>other</th>\n",
       "    </tr>\n",
       "  </thead>\n",
       "  <tbody>\n",
       "    <tr>\n",
       "      <th>0</th>\n",
       "      <td>2010</td>\n",
       "      <td>72000</td>\n",
       "      <td>26.60</td>\n",
       "      <td>998</td>\n",
       "      <td>58.16</td>\n",
       "      <td>1.75</td>\n",
       "      <td>0</td>\n",
       "      <td>0</td>\n",
       "      <td>0</td>\n",
       "      <td>0</td>\n",
       "      <td>...</td>\n",
       "      <td>0</td>\n",
       "      <td>0</td>\n",
       "      <td>0</td>\n",
       "      <td>0</td>\n",
       "      <td>0</td>\n",
       "      <td>0</td>\n",
       "      <td>0</td>\n",
       "      <td>0</td>\n",
       "      <td>0</td>\n",
       "      <td>0</td>\n",
       "    </tr>\n",
       "    <tr>\n",
       "      <th>1</th>\n",
       "      <td>2015</td>\n",
       "      <td>41000</td>\n",
       "      <td>19.67</td>\n",
       "      <td>1582</td>\n",
       "      <td>126.20</td>\n",
       "      <td>12.50</td>\n",
       "      <td>0</td>\n",
       "      <td>0</td>\n",
       "      <td>0</td>\n",
       "      <td>0</td>\n",
       "      <td>...</td>\n",
       "      <td>0</td>\n",
       "      <td>0</td>\n",
       "      <td>0</td>\n",
       "      <td>0</td>\n",
       "      <td>0</td>\n",
       "      <td>0</td>\n",
       "      <td>0</td>\n",
       "      <td>0</td>\n",
       "      <td>0</td>\n",
       "      <td>0</td>\n",
       "    </tr>\n",
       "    <tr>\n",
       "      <th>2</th>\n",
       "      <td>2011</td>\n",
       "      <td>46000</td>\n",
       "      <td>18.20</td>\n",
       "      <td>1199</td>\n",
       "      <td>88.70</td>\n",
       "      <td>4.50</td>\n",
       "      <td>0</td>\n",
       "      <td>0</td>\n",
       "      <td>0</td>\n",
       "      <td>0</td>\n",
       "      <td>...</td>\n",
       "      <td>0</td>\n",
       "      <td>0</td>\n",
       "      <td>0</td>\n",
       "      <td>0</td>\n",
       "      <td>0</td>\n",
       "      <td>0</td>\n",
       "      <td>0</td>\n",
       "      <td>0</td>\n",
       "      <td>0</td>\n",
       "      <td>1</td>\n",
       "    </tr>\n",
       "    <tr>\n",
       "      <th>3</th>\n",
       "      <td>2012</td>\n",
       "      <td>87000</td>\n",
       "      <td>20.77</td>\n",
       "      <td>1248</td>\n",
       "      <td>88.76</td>\n",
       "      <td>6.00</td>\n",
       "      <td>0</td>\n",
       "      <td>0</td>\n",
       "      <td>0</td>\n",
       "      <td>0</td>\n",
       "      <td>...</td>\n",
       "      <td>0</td>\n",
       "      <td>0</td>\n",
       "      <td>0</td>\n",
       "      <td>0</td>\n",
       "      <td>0</td>\n",
       "      <td>0</td>\n",
       "      <td>0</td>\n",
       "      <td>0</td>\n",
       "      <td>0</td>\n",
       "      <td>0</td>\n",
       "    </tr>\n",
       "    <tr>\n",
       "      <th>4</th>\n",
       "      <td>2013</td>\n",
       "      <td>40670</td>\n",
       "      <td>15.20</td>\n",
       "      <td>1968</td>\n",
       "      <td>140.80</td>\n",
       "      <td>17.74</td>\n",
       "      <td>0</td>\n",
       "      <td>0</td>\n",
       "      <td>0</td>\n",
       "      <td>0</td>\n",
       "      <td>...</td>\n",
       "      <td>0</td>\n",
       "      <td>0</td>\n",
       "      <td>0</td>\n",
       "      <td>0</td>\n",
       "      <td>0</td>\n",
       "      <td>0</td>\n",
       "      <td>0</td>\n",
       "      <td>0</td>\n",
       "      <td>0</td>\n",
       "      <td>0</td>\n",
       "    </tr>\n",
       "  </tbody>\n",
       "</table>\n",
       "<p>5 rows × 271 columns</p>\n",
       "</div>"
      ],
      "text/plain": [
       "   Year  Kilometers_Driven  Mileage  Engine   Power  Price  Audi A4 2.0 TDI  \\\n",
       "0  2010              72000    26.60     998   58.16   1.75                0   \n",
       "1  2015              41000    19.67    1582  126.20  12.50                0   \n",
       "2  2011              46000    18.20    1199   88.70   4.50                0   \n",
       "3  2012              87000    20.77    1248   88.76   6.00                0   \n",
       "4  2013              40670    15.20    1968  140.80  17.74                0   \n",
       "\n",
       "   Audi A4 2.0 TDI 177 Bhp Premium Plus  Audi A4 2.0 TDI Multitronic  \\\n",
       "0                                     0                            0   \n",
       "1                                     0                            0   \n",
       "2                                     0                            0   \n",
       "3                                     0                            0   \n",
       "4                                     0                            0   \n",
       "\n",
       "   Audi A4 35 TDI Premium  ...  Volkswagen Polo Petrol Trendline 1.2L  \\\n",
       "0                       0  ...                                      0   \n",
       "1                       0  ...                                      0   \n",
       "2                       0  ...                                      0   \n",
       "3                       0  ...                                      0   \n",
       "4                       0  ...                                      0   \n",
       "\n",
       "   Volkswagen Vento 1.5 TDI Highline  Volkswagen Vento 1.5 TDI Highline AT  \\\n",
       "0                                  0                                     0   \n",
       "1                                  0                                     0   \n",
       "2                                  0                                     0   \n",
       "3                                  0                                     0   \n",
       "4                                  0                                     0   \n",
       "\n",
       "   Volkswagen Vento 1.6 Highline  Volkswagen Vento Diesel Comfortline  \\\n",
       "0                              0                                    0   \n",
       "1                              0                                    0   \n",
       "2                              0                                    0   \n",
       "3                              0                                    0   \n",
       "4                              0                                    0   \n",
       "\n",
       "   Volkswagen Vento Diesel Highline  Volkswagen Vento Diesel Trendline  \\\n",
       "0                                 0                                  0   \n",
       "1                                 0                                  0   \n",
       "2                                 0                                  0   \n",
       "3                                 0                                  0   \n",
       "4                                 0                                  0   \n",
       "\n",
       "   Volkswagen Vento Petrol Highline  Volkswagen Vento Petrol Highline AT  \\\n",
       "0                                 0                                    0   \n",
       "1                                 0                                    0   \n",
       "2                                 0                                    0   \n",
       "3                                 0                                    0   \n",
       "4                                 0                                    0   \n",
       "\n",
       "   other  \n",
       "0      0  \n",
       "1      0  \n",
       "2      1  \n",
       "3      0  \n",
       "4      0  \n",
       "\n",
       "[5 rows x 271 columns]"
      ]
     },
     "execution_count": 742,
     "metadata": {},
     "output_type": "execute_result"
    }
   ],
   "source": [
    "data=pd.concat([df,df_name],axis=1)\n",
    "data.head()"
   ]
  },
  {
   "cell_type": "markdown",
   "id": "99ce214e",
   "metadata": {},
   "source": [
    "# Model Building"
   ]
  },
  {
   "cell_type": "code",
   "execution_count": 743,
   "id": "c4273317",
   "metadata": {},
   "outputs": [],
   "source": [
    "x=data.drop('Price',axis=1)\n",
    "y=data['Price']"
   ]
  },
  {
   "cell_type": "code",
   "execution_count": 744,
   "id": "8ef44b5a",
   "metadata": {},
   "outputs": [],
   "source": [
    "x_train,x_test,y_train,y_test=train_test_split(x,y,test_size=0.2,random_state=42)"
   ]
  },
  {
   "cell_type": "markdown",
   "id": "aeed357b",
   "metadata": {},
   "source": [
    "# Model Evaluation"
   ]
  },
  {
   "cell_type": "markdown",
   "id": "a088a81f",
   "metadata": {},
   "source": [
    "### 1.Linear Regression"
   ]
  },
  {
   "cell_type": "code",
   "execution_count": 745,
   "id": "798fb065",
   "metadata": {},
   "outputs": [
    {
     "data": {
      "text/plain": [
       "LinearRegression()"
      ]
     },
     "execution_count": 745,
     "metadata": {},
     "output_type": "execute_result"
    }
   ],
   "source": [
    "lgr=LinearRegression()\n",
    "lgr.fit(x_train,y_train)"
   ]
  },
  {
   "cell_type": "code",
   "execution_count": 746,
   "id": "aa594162",
   "metadata": {},
   "outputs": [
    {
     "name": "stdout",
     "output_type": "stream",
     "text": [
      "MSE: 47.543609842659905\n",
      "MAE: 3.3915809143171116\n",
      "R2 score: 0.6136534523975672\n"
     ]
    }
   ],
   "source": [
    "### Testing data evaluation\n",
    "y_pred=lgr.predict(x_test)\n",
    "mse=mean_squared_error(y_test,y_pred)\n",
    "print('MSE:',mse)\n",
    "mae=mean_absolute_error(y_test,y_pred)\n",
    "print('MAE:',mae)\n",
    "r2=r2_score(y_test,y_pred)\n",
    "print('R2 score:',r2)"
   ]
  },
  {
   "cell_type": "code",
   "execution_count": 747,
   "id": "99b62a4f",
   "metadata": {},
   "outputs": [
    {
     "name": "stdout",
     "output_type": "stream",
     "text": [
      "MSE: 33.50806538786808\n",
      "MAE: 3.104229531921825\n",
      "R2 score: 0.7333582574215883\n"
     ]
    }
   ],
   "source": [
    "### Training data evaluation\n",
    "y_pred=lgr.predict(x_train)\n",
    "mse=mean_squared_error(y_train,y_pred)\n",
    "print('MSE:',mse)\n",
    "mae=mean_absolute_error(y_train,y_pred)\n",
    "print('MAE:',mae)\n",
    "r2=r2_score(y_train,y_pred)\n",
    "print('R2 score:',r2)"
   ]
  },
  {
   "cell_type": "markdown",
   "id": "482f323a",
   "metadata": {},
   "source": [
    "# 2.Decision Tree"
   ]
  },
  {
   "cell_type": "code",
   "execution_count": 748,
   "id": "3ea2d83e",
   "metadata": {},
   "outputs": [
    {
     "data": {
      "text/plain": [
       "DecisionTreeRegressor()"
      ]
     },
     "execution_count": 748,
     "metadata": {},
     "output_type": "execute_result"
    }
   ],
   "source": [
    "dt=DecisionTreeRegressor()\n",
    "dt.fit(x_train,y_train)"
   ]
  },
  {
   "cell_type": "code",
   "execution_count": 749,
   "id": "ea1715fa",
   "metadata": {},
   "outputs": [
    {
     "name": "stdout",
     "output_type": "stream",
     "text": [
      "MSE: 25.594395950996677\n",
      "MAE: 2.173218438538206\n",
      "R2 score: 0.7920160764745996\n"
     ]
    }
   ],
   "source": [
    "### Testing data evaluation\n",
    "y_pred=dt.predict(x_test)\n",
    "mse=mean_squared_error(y_test,y_pred)\n",
    "print('MSE:',mse)\n",
    "mae=mean_absolute_error(y_test,y_pred)\n",
    "print('MAE:',mae)\n",
    "r2=r2_score(y_test,y_pred)\n",
    "print('R2 score:',r2)"
   ]
  },
  {
   "cell_type": "code",
   "execution_count": 750,
   "id": "e92c0bde",
   "metadata": {},
   "outputs": [
    {
     "name": "stdout",
     "output_type": "stream",
     "text": [
      "MSE: 0.009553772931810315\n",
      "MAE: 0.005753547940463829\n",
      "R2 score: 0.9999239754777469\n"
     ]
    }
   ],
   "source": [
    "### Training data evaluation\n",
    "y_pred=dt.predict(x_train)\n",
    "mse=mean_squared_error(y_train,y_pred)\n",
    "print('MSE:',mse)\n",
    "mae=mean_absolute_error(y_train,y_pred)\n",
    "print('MAE:',mae)\n",
    "r2=r2_score(y_train,y_pred)\n",
    "print('R2 score:',r2)"
   ]
  },
  {
   "cell_type": "markdown",
   "id": "e7d8df13",
   "metadata": {},
   "source": [
    "### Hyperparameter Tunning"
   ]
  },
  {
   "cell_type": "code",
   "execution_count": 751,
   "id": "2beb5e87",
   "metadata": {},
   "outputs": [
    {
     "data": {
      "text/plain": [
       "RandomizedSearchCV(cv=5, estimator=DecisionTreeRegressor(),\n",
       "                   param_distributions={'max_depth': array([ 1,  2,  3,  4,  5,  6,  7,  8,  9, 10, 11, 12, 13, 14]),\n",
       "                                        'min_samples_leaf': array([ 1,  2,  3,  4,  5,  6,  7,  8,  9, 10, 11, 12, 13, 14]),\n",
       "                                        'min_samples_split': array([ 2,  3,  4,  5,  6,  7,  8,  9, 10, 11, 12, 13, 14, 15, 16, 17, 18,\n",
       "       19])})"
      ]
     },
     "execution_count": 751,
     "metadata": {},
     "output_type": "execute_result"
    }
   ],
   "source": [
    "dt=DecisionTreeRegressor()\n",
    "hyp={'max_depth':np.arange(1,15),\n",
    "    'min_samples_split':np.arange(2,20),\n",
    "    'min_samples_leaf':np.arange(1,15)}\n",
    "rscv=RandomizedSearchCV(dt,hyp,cv=5)\n",
    "rscv.fit(x_train,y_train)"
   ]
  },
  {
   "cell_type": "code",
   "execution_count": 752,
   "id": "b6430483",
   "metadata": {},
   "outputs": [
    {
     "data": {
      "text/plain": [
       "DecisionTreeRegressor(max_depth=14, min_samples_leaf=9, min_samples_split=7)"
      ]
     },
     "execution_count": 752,
     "metadata": {},
     "output_type": "execute_result"
    }
   ],
   "source": [
    "rscv.best_estimator_"
   ]
  },
  {
   "cell_type": "code",
   "execution_count": 753,
   "id": "7bf16e3f",
   "metadata": {},
   "outputs": [
    {
     "data": {
      "text/plain": [
       "DecisionTreeRegressor(max_depth=14, min_samples_leaf=9, min_samples_split=7)"
      ]
     },
     "execution_count": 753,
     "metadata": {},
     "output_type": "execute_result"
    }
   ],
   "source": [
    "dt_model=rscv.best_estimator_\n",
    "dt_model.fit(x_train,y_train)"
   ]
  },
  {
   "cell_type": "code",
   "execution_count": 754,
   "id": "446b1d6d",
   "metadata": {},
   "outputs": [
    {
     "name": "stdout",
     "output_type": "stream",
     "text": [
      "MSE: 22.57556851917619\n",
      "MAE: 2.1424624778773147\n",
      "R2 score: 0.8165475237069647\n"
     ]
    }
   ],
   "source": [
    "### Testing data evaluation\n",
    "y_pred=dt_model.predict(x_test)\n",
    "mse=mean_squared_error(y_test,y_pred)\n",
    "print('MSE:',mse)\n",
    "mae=mean_absolute_error(y_test,y_pred)\n",
    "print('MAE:',mae)\n",
    "r2=r2_score(y_test,y_pred)\n",
    "print('R2 score:',r2)"
   ]
  },
  {
   "cell_type": "code",
   "execution_count": 755,
   "id": "4cdbedcb",
   "metadata": {},
   "outputs": [
    {
     "name": "stdout",
     "output_type": "stream",
     "text": [
      "MSE: 13.513518173853349\n",
      "MAE: 1.6381955753048951\n",
      "R2 score: 0.8924656499104872\n"
     ]
    }
   ],
   "source": [
    "### Training data evaluation\n",
    "y_pred=dt_model.predict(x_train)\n",
    "mse=mean_squared_error(y_train,y_pred)\n",
    "print('MSE:',mse)\n",
    "mae=mean_absolute_error(y_train,y_pred)\n",
    "print('MAE:',mae)\n",
    "r2=r2_score(y_train,y_pred)\n",
    "print('R2 score:',r2)"
   ]
  },
  {
   "cell_type": "markdown",
   "id": "f5e2aa95",
   "metadata": {},
   "source": [
    "# 3.Random Forest"
   ]
  },
  {
   "cell_type": "code",
   "execution_count": 756,
   "id": "c615c867",
   "metadata": {},
   "outputs": [
    {
     "data": {
      "text/plain": [
       "RandomForestRegressor()"
      ]
     },
     "execution_count": 756,
     "metadata": {},
     "output_type": "execute_result"
    }
   ],
   "source": [
    "rf=RandomForestRegressor()\n",
    "rf.fit(x_train,y_train)"
   ]
  },
  {
   "cell_type": "code",
   "execution_count": 757,
   "id": "8e2e0be6",
   "metadata": {},
   "outputs": [
    {
     "name": "stdout",
     "output_type": "stream",
     "text": [
      "MSE: 16.893923032646747\n",
      "MAE: 1.7021594945420027\n",
      "R2 score: 0.8627174322537909\n"
     ]
    }
   ],
   "source": [
    "### Testing data evaluation\n",
    "y_pred=rf.predict(x_test)\n",
    "mse=mean_squared_error(y_test,y_pred)\n",
    "print('MSE:',mse)\n",
    "mae=mean_absolute_error(y_test,y_pred)\n",
    "print('MAE:',mae)\n",
    "r2=r2_score(y_test,y_pred)\n",
    "print('R2 score:',r2)"
   ]
  },
  {
   "cell_type": "code",
   "execution_count": 758,
   "id": "cb9d9332",
   "metadata": {},
   "outputs": [
    {
     "name": "stdout",
     "output_type": "stream",
     "text": [
      "MSE: 2.243571437802204\n",
      "MAE: 0.6193951463679969\n",
      "R2 score: 0.9821466924201679\n"
     ]
    }
   ],
   "source": [
    "### Training data evaluation\n",
    "y_pred=rf.predict(x_train)\n",
    "mse=mean_squared_error(y_train,y_pred)\n",
    "print('MSE:',mse)\n",
    "mae=mean_absolute_error(y_train,y_pred)\n",
    "print('MAE:',mae)\n",
    "r2=r2_score(y_train,y_pred)\n",
    "print('R2 score:',r2)"
   ]
  },
  {
   "cell_type": "markdown",
   "id": "2e05b37e",
   "metadata": {},
   "source": [
    "### Hyperparameter Tunning"
   ]
  },
  {
   "cell_type": "code",
   "execution_count": 759,
   "id": "3caad613",
   "metadata": {},
   "outputs": [
    {
     "data": {
      "text/plain": [
       "RandomizedSearchCV(cv=5, estimator=RandomForestRegressor(),\n",
       "                   param_distributions={'max_depth': array([ 1,  2,  3,  4,  5,  6,  7,  8,  9, 10, 11, 12, 13, 14, 15, 16, 17,\n",
       "       18, 19]),\n",
       "                                        'min_samples_leaf': array([ 1,  2,  3,  4,  5,  6,  7,  8,  9, 10, 11, 12, 13, 14, 15, 16, 17,\n",
       "       18, 19]),\n",
       "                                        'min_samples_split': array([ 2,  3,  4,  5,  6,  7,  8,  9, 10, 11, 12, 13, 14, 15, 16, 17, 18,\n",
       "       19]),\n",
       "                                        'n_estimators': array([ 10,  11,  12,  13,  14,  15,  16,  17,  18,  19...\n",
       "       101, 102, 103, 104, 105, 106, 107, 108, 109, 110, 111, 112, 113,\n",
       "       114, 115, 116, 117, 118, 119, 120, 121, 122, 123, 124, 125, 126,\n",
       "       127, 128, 129, 130, 131, 132, 133, 134, 135, 136, 137, 138, 139,\n",
       "       140, 141, 142, 143, 144, 145, 146, 147, 148, 149, 150, 151, 152,\n",
       "       153, 154, 155, 156, 157, 158, 159, 160, 161, 162, 163, 164, 165,\n",
       "       166, 167, 168, 169, 170, 171, 172, 173, 174, 175, 176, 177, 178,\n",
       "       179, 180, 181, 182, 183, 184, 185, 186, 187, 188, 189, 190, 191,\n",
       "       192, 193, 194, 195, 196, 197, 198, 199])})"
      ]
     },
     "execution_count": 759,
     "metadata": {},
     "output_type": "execute_result"
    }
   ],
   "source": [
    "rf=RandomForestRegressor()\n",
    "hyp={'n_estimators':np.arange(10,200),\n",
    "    'max_depth':np.arange(1,20),\n",
    "    'min_samples_split':np.arange(2,20),\n",
    "    'min_samples_leaf':np.arange(1,20)}\n",
    "rfcv=RandomizedSearchCV(rf,hyp,cv=5)\n",
    "rfcv.fit(x_train,y_train)"
   ]
  },
  {
   "cell_type": "code",
   "execution_count": 760,
   "id": "6a0a20e5",
   "metadata": {},
   "outputs": [
    {
     "data": {
      "text/plain": [
       "RandomForestRegressor(max_depth=11, min_samples_leaf=4, min_samples_split=11,\n",
       "                      n_estimators=117)"
      ]
     },
     "execution_count": 760,
     "metadata": {},
     "output_type": "execute_result"
    }
   ],
   "source": [
    "rfcv.best_estimator_"
   ]
  },
  {
   "cell_type": "code",
   "execution_count": 761,
   "id": "777a0b94",
   "metadata": {},
   "outputs": [
    {
     "data": {
      "text/plain": [
       "RandomForestRegressor(max_depth=11, min_samples_leaf=4, min_samples_split=11,\n",
       "                      n_estimators=117)"
      ]
     },
     "execution_count": 761,
     "metadata": {},
     "output_type": "execute_result"
    }
   ],
   "source": [
    "rf_model=rfcv.best_estimator_\n",
    "rf_model.fit(x_train,y_train)"
   ]
  },
  {
   "cell_type": "code",
   "execution_count": 762,
   "id": "7098afe3",
   "metadata": {},
   "outputs": [
    {
     "name": "stdout",
     "output_type": "stream",
     "text": [
      "MSE: 17.64924110253496\n",
      "MAE: 1.8717951761927303\n",
      "R2 score: 0.8565796036453035\n"
     ]
    }
   ],
   "source": [
    "### Testing data evaluation\n",
    "y_pred=rf_model.predict(x_test)\n",
    "mse=mean_squared_error(y_test,y_pred)\n",
    "print('MSE:',mse)\n",
    "mae=mean_absolute_error(y_test,y_pred)\n",
    "print('MAE:',mae)\n",
    "r2=r2_score(y_test,y_pred)\n",
    "print('R2 score:',r2)"
   ]
  },
  {
   "cell_type": "code",
   "execution_count": 763,
   "id": "2a79758a",
   "metadata": {},
   "outputs": [
    {
     "name": "stdout",
     "output_type": "stream",
     "text": [
      "MSE: 8.91037860397707\n",
      "MAE: 1.3545787911130316\n",
      "R2 score: 0.9290953133075224\n"
     ]
    }
   ],
   "source": [
    "### Training data evaluation\n",
    "y_pred=rf_model.predict(x_train)\n",
    "mse=mean_squared_error(y_train,y_pred)\n",
    "print('MSE:',mse)\n",
    "mae=mean_absolute_error(y_train,y_pred)\n",
    "print('MAE:',mae)\n",
    "r2=r2_score(y_train,y_pred)\n",
    "print('R2 score:',r2)"
   ]
  },
  {
   "cell_type": "code",
   "execution_count": 764,
   "id": "7725f3ef",
   "metadata": {},
   "outputs": [],
   "source": [
    "rf_model=rfcv.best_estimator_\n",
    "rf_model.fit(x_train,y_train)\n",
    "pickle.dump(rf_model,open('model.pkl','wb'))"
   ]
  },
  {
   "cell_type": "code",
   "execution_count": 765,
   "id": "6fc924c6",
   "metadata": {},
   "outputs": [],
   "source": [
    "columns_dict={\"columns\":x_train.columns}\n",
    "dict_cols=open('columns.pkl','wb')\n",
    "pickle.dump(columns_dict,dict_cols)\n",
    "dict_cols.close()"
   ]
  },
  {
   "cell_type": "code",
   "execution_count": null,
   "id": "e0294de7",
   "metadata": {},
   "outputs": [],
   "source": []
  }
 ],
 "metadata": {
  "interpreter": {
   "hash": "dbb7a88c2ade93d08ae5eb4253be22c91f34a3be95b26120581b8a9f4de1e8e3"
  },
  "kernelspec": {
   "display_name": "Python 3.9.12",
   "language": "python",
   "name": "python3"
  },
  "language_info": {
   "codemirror_mode": {
    "name": "ipython",
    "version": 3
   },
   "file_extension": ".py",
   "mimetype": "text/x-python",
   "name": "python",
   "nbconvert_exporter": "python",
   "pygments_lexer": "ipython3",
   "version": "3.9.12"
  }
 },
 "nbformat": 4,
 "nbformat_minor": 5
}
